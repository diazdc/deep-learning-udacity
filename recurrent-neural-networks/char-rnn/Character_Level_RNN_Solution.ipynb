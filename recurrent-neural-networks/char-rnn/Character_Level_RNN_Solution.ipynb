{
 "cells": [
  {
   "cell_type": "markdown",
   "metadata": {},
   "source": [
    "# Character-Level LSTM in PyTorch\n",
    "\n",
    "In this notebook, I'll construct a character-level LSTM with PyTorch. The network will train character by character on some text, then generate new text character by character. As an example, I will train on Anna Karenina. **This model will be able to generate new text based on the text from the book!**\n",
    "\n",
    "This network is based off of Andrej Karpathy's [post on RNNs](http://karpathy.github.io/2015/05/21/rnn-effectiveness/) and [implementation in Torch](https://github.com/karpathy/char-rnn). Below is the general architecture of the character-wise RNN.\n",
    "\n",
    "<img src=\"assets/charseq.jpeg\" width=\"500\">"
   ]
  },
  {
   "cell_type": "markdown",
   "metadata": {},
   "source": [
    "First let's load in our required resources for data loading and model creation."
   ]
  },
  {
   "cell_type": "code",
   "execution_count": 2,
   "metadata": {
    "collapsed": true
   },
   "outputs": [],
   "source": [
    "import numpy as np\n",
    "import torch\n",
    "from torch import nn\n",
    "import torch.nn.functional as F"
   ]
  },
  {
   "cell_type": "markdown",
   "metadata": {},
   "source": [
    "## Load in Data\n",
    "\n",
    "Then, we'll load the Anna Karenina text file and convert it into integers for our network to use. "
   ]
  },
  {
   "cell_type": "code",
   "execution_count": 8,
   "metadata": {
    "collapsed": true
   },
   "outputs": [],
   "source": [
    "# open text file and read in data as `text`\n",
    "with open('data/anna.txt', 'r') as f:\n",
    "    text = f.read()"
   ]
  },
  {
   "cell_type": "markdown",
   "metadata": {},
   "source": [
    "Let's check out the first 100 characters, make sure everything is peachy. According to the [American Book Review](http://americanbookreview.org/100bestlines.asp), this is the 6th best first line of a book ever."
   ]
  },
  {
   "cell_type": "code",
   "execution_count": 9,
   "metadata": {},
   "outputs": [
    {
     "data": {
      "text/plain": [
       "'Chapter 1\\n\\n\\nHappy families are all alike; every unhappy family is unhappy in its own\\nway.\\n\\nEverythin'"
      ]
     },
     "execution_count": 9,
     "metadata": {},
     "output_type": "execute_result"
    }
   ],
   "source": [
    "text[:100]"
   ]
  },
  {
   "cell_type": "markdown",
   "metadata": {},
   "source": [
    "### Tokenization\n",
    "\n",
    "In the cells, below, I'm creating a couple **dictionaries** to convert the characters to and from integers. Encoding the characters as integers makes it easier to use as input in the network."
   ]
  },
  {
   "cell_type": "code",
   "execution_count": 24,
   "metadata": {
    "collapsed": true
   },
   "outputs": [],
   "source": [
    "# encode the text and map each character to an integer and vice versa\n",
    "\n",
    "# we create two dictionaries:\n",
    "# 1. int2char, which maps integers to characters\n",
    "# 2. char2int, which maps characters to unique integers\n",
    "len(text)\n",
    "chars = tuple(set(text))\n",
    "len(chars)\n",
    "int2char = dict(enumerate(chars))\n",
    "char2int = {ch: ii for ii, ch in int2char.items()}\n",
    "\n",
    "# encode the text\n",
    "encoded = np.array([char2int[ch] for ch in text])\n",
    "encoded.shape"
   ]
  },
  {
   "cell_type": "markdown",
   "metadata": {},
   "source": [
    "And we can see those same characters from above, encoded as integers."
   ]
  },
  {
   "cell_type": "code",
   "execution_count": 69,
   "metadata": {},
   "outputs": [
    {
     "data": {
      "text/plain": [
       "array([12, 77, 25, 19,  8, 27, 78, 71, 42, 22, 22, 22, 79, 25, 19, 19, 65,\n",
       "       71, 61, 25, 40, 75, 73, 75, 27, 29, 71, 25, 78, 27, 71, 25, 73, 73,\n",
       "       71, 25, 73, 75, 59, 27, 16, 71, 27, 14, 27, 78, 65, 71, 13, 11, 77,\n",
       "       25, 19, 19, 65, 71, 61, 25, 40, 75, 73, 65, 71, 75, 29, 71, 13, 11,\n",
       "       77, 25, 19, 19, 65, 71, 75, 11, 71, 75,  8, 29, 71, 52, 38, 11, 22,\n",
       "       38, 25, 65, 49, 22, 22, 57, 14, 27, 78, 65,  8, 77, 75, 11])"
      ]
     },
     "execution_count": 69,
     "metadata": {},
     "output_type": "execute_result"
    }
   ],
   "source": [
    "chars\n",
    "text[:100]\n",
    "encoded[:100]"
   ]
  },
  {
   "cell_type": "markdown",
   "metadata": {},
   "source": [
    "## Pre-processing the data\n",
    "\n",
    "As you can see in our char-RNN image above, our LSTM expects an input that is **one-hot encoded** meaning that each character is converted into an integer (via our created dictionary) and *then* converted into a column vector where only it's corresponding integer index will have the value of 1 and the rest of the vector will be filled with 0's. Since we're one-hot encoding the data, let's make a function to do that!\n"
   ]
  },
  {
   "cell_type": "code",
   "execution_count": 35,
   "metadata": {
    "collapsed": true
   },
   "outputs": [],
   "source": [
    "def one_hot_encode(arr, n_labels):\n",
    "    \n",
    "    # Initialize the the encoded array\n",
    "    one_hot = np.zeros((np.multiply(*arr.shape), n_labels), dtype=np.float32)\n",
    "    \n",
    "    # Fill the appropriate elements with ones\n",
    "    one_hot[np.arange(one_hot.shape[0]), arr.flatten()] = 1.\n",
    "    \n",
    "    # Finally reshape it to get back to the original array\n",
    "    one_hot = one_hot.reshape((*arr.shape, n_labels))\n",
    "    \n",
    "    return one_hot"
   ]
  },
  {
   "cell_type": "code",
   "execution_count": 38,
   "metadata": {},
   "outputs": [
    {
     "name": "stdout",
     "output_type": "stream",
     "text": [
      "[[[0. 0. 0. 1. 0. 0. 0. 0.]\n",
      "  [0. 0. 0. 0. 0. 1. 0. 0.]\n",
      "  [0. 1. 0. 0. 0. 0. 0. 0.]]]\n"
     ]
    },
    {
     "data": {
      "text/plain": [
       "(1, 3, 8)"
      ]
     },
     "execution_count": 38,
     "metadata": {},
     "output_type": "execute_result"
    }
   ],
   "source": [
    "# check that the function works as expected\n",
    "test_seq = np.array([[3, 5, 1]])\n",
    "one_hot = one_hot_encode(test_seq, 8)\n",
    "\n",
    "print(one_hot)\n",
    "one_hot.shape"
   ]
  },
  {
   "cell_type": "markdown",
   "metadata": {},
   "source": [
    "## Making training mini-batches\n",
    "\n",
    "\n",
    "To train on this data, we also want to create mini-batches for training. Remember that we want our batches to be multiple sequences of some desired number of sequence steps. Considering a simple example, our batches would look like this:\n",
    "\n",
    "<img src=\"assets/sequence_batching@1x.png\" width=500px>\n",
    "\n",
    "\n",
    "<br>\n",
    "\n",
    "In this example, we'll take the encoded characters (passed in as the `arr` parameter) and split them into multiple sequences, given by `batch_size`. Each of our sequences will be `seq_length` long.\n",
    "\n",
    "### Creating Batches\n",
    "\n",
    "**1. The first thing we need to do is discard some of the text so we only have completely full mini-batches. **\n",
    "\n",
    "Each batch contains $N \\times M$ characters, where $N$ is the batch size (the number of sequences in a batch) and $M$ is the seq_length or number of time steps in a sequence. Then, to get the total number of batches, $K$, that we can make from the array `arr`, you divide the length of `arr` by the number of characters per batch. Once you know the number of batches, you can get the total number of characters to keep from `arr`, $N * M * K$.\n",
    "\n",
    "**2. After that, we need to split `arr` into $N$ batches. ** \n",
    "\n",
    "You can do this using `arr.reshape(size)` where `size` is a tuple containing the dimensions sizes of the reshaped array. We know we want $N$ sequences in a batch, so let's make that the size of the first dimension. For the second dimension, you can use `-1` as a placeholder in the size, it'll fill up the array with the appropriate data for you. After this, you should have an array that is $N \\times (M * K)$.\n",
    "\n",
    "**3. Now that we have this array, we can iterate through it to get our mini-batches. **\n",
    "\n",
    "The idea is each batch is a $N \\times M$ window on the $N \\times (M * K)$ array. For each subsequent batch, the window moves over by `seq_length`. We also want to create both the input and target arrays. Remember that the targets are just the inputs shifted over by one character. The way I like to do this window is use `range` to take steps of size `n_steps` from $0$ to `arr.shape[1]`, the total number of tokens in each sequence. That way, the integers you get from `range` always point to the start of a batch, and each window is `seq_length` wide.\n",
    "\n",
    "> **TODO:** Write the code for creating batches in the function below. The exercises in this notebook _will not be easy_. I've provided a notebook with solutions alongside this notebook. If you get stuck, checkout the solutions. The most important thing is that you don't copy and paste the code into here, **type out the solution code yourself.**"
   ]
  },
  {
   "cell_type": "code",
   "execution_count": 42,
   "metadata": {
    "collapsed": true
   },
   "outputs": [],
   "source": [
    "def get_batches(arr, batch_size, seq_length):\n",
    "    '''Create a generator that returns batches of size\n",
    "       batch_size x seq_length from arr.\n",
    "       \n",
    "       Arguments\n",
    "       ---------\n",
    "       arr: Array you want to make batches from\n",
    "       batch_size: Batch size, the number of sequences per batch\n",
    "       seq_length: Number of encoded chars in a sequence\n",
    "    '''\n",
    "    \n",
    "    batch_size_total = batch_size * seq_length\n",
    "    # total number of batches we can make\n",
    "    n_batches = len(arr)//batch_size_total\n",
    "    \n",
    "    # Keep only enough characters to make full batches\n",
    "    arr = arr[:n_batches * batch_size_total]\n",
    "    # Reshape into batch_size rows\n",
    "    arr = arr.reshape((batch_size, -1))\n",
    "    \n",
    "    # iterate through the array, one sequence at a time\n",
    "    for n in range(0, arr.shape[1], seq_length):\n",
    "        # The features\n",
    "        x = arr[:, n:n+seq_length]\n",
    "        # The targets, shifted by one\n",
    "        y = np.zeros_like(x)\n",
    "        try:\n",
    "            y[:, :-1], y[:, -1] = x[:, 1:], arr[:, n+seq_length]\n",
    "        except IndexError:\n",
    "            y[:, :-1], y[:, -1] = x[:, 1:], arr[:, 0]\n",
    "        yield x, y"
   ]
  },
  {
   "cell_type": "markdown",
   "metadata": {},
   "source": [
    "### Test Your Implementation\n",
    "\n",
    "Now I'll make some data sets and we can check out what's going on as we batch data. Here, as an example, I'm going to use a batch size of 8 and 50 sequence steps."
   ]
  },
  {
   "cell_type": "code",
   "execution_count": 43,
   "metadata": {
    "collapsed": true
   },
   "outputs": [],
   "source": [
    "batches = get_batches(encoded, 8, 50)\n",
    "x, y = next(batches)"
   ]
  },
  {
   "cell_type": "code",
   "execution_count": 44,
   "metadata": {},
   "outputs": [
    {
     "name": "stdout",
     "output_type": "stream",
     "text": [
      "x\n",
      " [[12 77 25 19  8 27 78 71 42 22]\n",
      " [29 52 11 71  8 77 25  8 71 25]\n",
      " [27 11 74 71 52 78 71 25 71 61]\n",
      " [29 71  8 77 27 71 36 77 75 27]\n",
      " [71 29 25 38 71 77 27 78 71  8]\n",
      " [36 13 29 29 75 52 11 71 25 11]\n",
      " [71  0 11 11 25 71 77 25 74 71]\n",
      " [ 3 33 73 52 11 29 59 65 49 71]]\n",
      "\n",
      "y\n",
      " [[77 25 19  8 27 78 71 42 22 22]\n",
      " [52 11 71  8 77 25  8 71 25  8]\n",
      " [11 74 71 52 78 71 25 71 61 52]\n",
      " [71  8 77 27 71 36 77 75 27 61]\n",
      " [29 25 38 71 77 27 78 71  8 27]\n",
      " [13 29 29 75 52 11 71 25 11 74]\n",
      " [ 0 11 11 25 71 77 25 74 71 29]\n",
      " [33 73 52 11 29 59 65 49 71 21]]\n"
     ]
    }
   ],
   "source": [
    "# printing out the first 10 items in a sequence\n",
    "print('x\\n', x[:10, :10])\n",
    "print('\\ny\\n', y[:10, :10])"
   ]
  },
  {
   "cell_type": "markdown",
   "metadata": {},
   "source": [
    "If you implemented `get_batches` correctly, the above output should look something like \n",
    "```\n",
    "x\n",
    " [[25  8 60 11 45 27 28 73  1  2]\n",
    " [17  7 20 73 45  8 60 45 73 60]\n",
    " [27 20 80 73  7 28 73 60 73 65]\n",
    " [17 73 45  8 27 73 66  8 46 27]\n",
    " [73 17 60 12 73  8 27 28 73 45]\n",
    " [66 64 17 17 46  7 20 73 60 20]\n",
    " [73 76 20 20 60 73  8 60 80 73]\n",
    " [47 35 43  7 20 17 24 50 37 73]]\n",
    "\n",
    "y\n",
    " [[ 8 60 11 45 27 28 73  1  2  2]\n",
    " [ 7 20 73 45  8 60 45 73 60 45]\n",
    " [20 80 73  7 28 73 60 73 65  7]\n",
    " [73 45  8 27 73 66  8 46 27 65]\n",
    " [17 60 12 73  8 27 28 73 45 27]\n",
    " [64 17 17 46  7 20 73 60 20 80]\n",
    " [76 20 20 60 73  8 60 80 73 17]\n",
    " [35 43  7 20 17 24 50 37 73 36]]\n",
    " ```\n",
    " although the exact numbers may be different. Check to make sure the data is shifted over one step for `y`."
   ]
  },
  {
   "cell_type": "markdown",
   "metadata": {},
   "source": [
    "---\n",
    "## Defining the network with PyTorch\n",
    "\n",
    "Below is where you'll define the network.\n",
    "\n",
    "<img src=\"assets/charRNN.png\" width=500px>\n",
    "\n",
    "Next, you'll use PyTorch to define the architecture of the network. We start by defining the layers and operations we want. Then, define a method for the forward pass. You've also been given a method for predicting characters."
   ]
  },
  {
   "cell_type": "markdown",
   "metadata": {},
   "source": [
    "### Model Structure\n",
    "\n",
    "In `__init__` the suggested structure is as follows:\n",
    "* Create and store the necessary dictionaries (this has been done for you)\n",
    "* Define an LSTM layer that takes as params: an input size (the number of characters), a hidden layer size `n_hidden`, a number of layers `n_layers`, a dropout probability `drop_prob`, and a batch_first boolean (True, since we are batching)\n",
    "* Define a dropout layer with `dropout_prob`\n",
    "* Define a fully-connected layer with params: input size `n_hidden` and output size (the number of characters)\n",
    "* Finally, initialize the weights (again, this has been given)\n",
    "\n",
    "Note that some parameters have been named and given in the `__init__` function, and we use them and store them by doing something like `self.drop_prob = drop_prob`."
   ]
  },
  {
   "cell_type": "markdown",
   "metadata": {},
   "source": [
    "---\n",
    "### LSTM Inputs/Outputs\n",
    "\n",
    "You can create a basic [LSTM layer](https://pytorch.org/docs/stable/nn.html#lstm) as follows\n",
    "\n",
    "```python\n",
    "self.lstm = nn.LSTM(input_size, n_hidden, n_layers, \n",
    "                            dropout=drop_prob, batch_first=True)\n",
    "```\n",
    "\n",
    "where `input_size` is the number of characters this cell expects to see as sequential input, and `n_hidden` is the number of units in the hidden layers in the cell. And we can add dropout by adding a dropout parameter with a specified probability; this will automatically add dropout to the inputs or outputs. Finally, in the `forward` function, we can stack up the LSTM cells into layers using `.view`. With this, you pass in a list of cells and it will send the output of one cell into the next cell.\n",
    "\n",
    "We also need to create an initial hidden state of all zeros. This is done like so\n",
    "\n",
    "```python\n",
    "self.init_hidden()\n",
    "```"
   ]
  },
  {
   "cell_type": "code",
   "execution_count": 47,
   "metadata": {},
   "outputs": [
    {
     "name": "stdout",
     "output_type": "stream",
     "text": [
      "Training on GPU!\n"
     ]
    }
   ],
   "source": [
    "# check if GPU is available\n",
    "train_on_gpu = torch.cuda.is_available()\n",
    "if(train_on_gpu):\n",
    "    print('Training on GPU!')\n",
    "else: \n",
    "    print('No GPU available, training on CPU; consider making n_epochs very small.')"
   ]
  },
  {
   "cell_type": "code",
   "execution_count": 48,
   "metadata": {
    "collapsed": true
   },
   "outputs": [],
   "source": [
    "class CharRNN(nn.Module):\n",
    "    \n",
    "    def __init__(self, tokens, n_hidden=256, n_layers=2,\n",
    "                               drop_prob=0.5, lr=0.001):\n",
    "        super().__init__()\n",
    "        self.drop_prob = drop_prob\n",
    "        self.n_layers = n_layers\n",
    "        self.n_hidden = n_hidden\n",
    "        self.lr = lr\n",
    "        \n",
    "        # creating character dictionaries\n",
    "        self.chars = tokens\n",
    "        self.int2char = dict(enumerate(self.chars))\n",
    "        self.char2int = {ch: ii for ii, ch in self.int2char.items()}\n",
    "        \n",
    "        ## TODO: define the LSTM\n",
    "        self.lstm = nn.LSTM(len(self.chars), n_hidden, n_layers, \n",
    "                            dropout=drop_prob, batch_first=True)\n",
    "        \n",
    "        ## TODO: define a dropout layer\n",
    "        self.dropout = nn.Dropout(drop_prob)\n",
    "        \n",
    "        ## TODO: define the final, fully-connected output layer\n",
    "        self.fc = nn.Linear(n_hidden, len(self.chars))\n",
    "      \n",
    "    \n",
    "    def forward(self, x, hidden):\n",
    "        ''' Forward pass through the network. \n",
    "            These inputs are x, and the hidden/cell state `hidden`. '''\n",
    "                \n",
    "        ## TODO: Get the outputs and the new hidden state from the lstm\n",
    "        r_output, hidden = self.lstm(x, hidden)\n",
    "        \n",
    "        ## TODO: pass through a dropout layer\n",
    "        out = self.dropout(r_output)\n",
    "        \n",
    "        # Stack up LSTM outputs using view\n",
    "        # you may need to use contiguous to reshape the output\n",
    "        out = out.contiguous().view(-1, self.n_hidden)\n",
    "        \n",
    "        ## TODO: put x through the fully-connected layer\n",
    "        out = self.fc(out)\n",
    "        \n",
    "        # return the final output and the hidden state\n",
    "        return out, hidden\n",
    "    \n",
    "    \n",
    "    def init_hidden(self, batch_size):\n",
    "        ''' Initializes hidden state '''\n",
    "        # Create two new tensors with sizes n_layers x batch_size x n_hidden,\n",
    "        # initialized to zero, for hidden state and cell state of LSTM\n",
    "        weight = next(self.parameters()).data\n",
    "        \n",
    "        if (train_on_gpu):\n",
    "            hidden = (weight.new(self.n_layers, batch_size, self.n_hidden).zero_().cuda(),\n",
    "                  weight.new(self.n_layers, batch_size, self.n_hidden).zero_().cuda())\n",
    "        else:\n",
    "            hidden = (weight.new(self.n_layers, batch_size, self.n_hidden).zero_(),\n",
    "                      weight.new(self.n_layers, batch_size, self.n_hidden).zero_())\n",
    "        \n",
    "        return hidden\n",
    "        "
   ]
  },
  {
   "cell_type": "markdown",
   "metadata": {},
   "source": [
    "## Time to train\n",
    "\n",
    "The train function gives us the ability to set the number of epochs, the learning rate, and other parameters.\n",
    "\n",
    "Below we're using an Adam optimizer and cross entropy loss since we are looking at character class scores as output. We calculate the loss and perform backpropagation, as usual!\n",
    "\n",
    "A couple of details about training: \n",
    ">* Within the batch loop, we detach the hidden state from its history; this time setting it equal to a new *tuple* variable because an LSTM has a hidden state that is a tuple of the hidden and cell states.\n",
    "* We use [`clip_grad_norm_`](https://pytorch.org/docs/stable/_modules/torch/nn/utils/clip_grad.html) to help prevent exploding gradients."
   ]
  },
  {
   "cell_type": "code",
   "execution_count": 50,
   "metadata": {
    "collapsed": true
   },
   "outputs": [],
   "source": [
    "def train(net, data, epochs=10, batch_size=10, seq_length=50, lr=0.001, clip=5, val_frac=0.1, print_every=10):\n",
    "    ''' Training a network \n",
    "    \n",
    "        Arguments\n",
    "        ---------\n",
    "        \n",
    "        net: CharRNN network\n",
    "        data: text data to train the network\n",
    "        epochs: Number of epochs to train\n",
    "        batch_size: Number of mini-sequences per mini-batch, aka batch size\n",
    "        seq_length: Number of character steps per mini-batch\n",
    "        lr: learning rate\n",
    "        clip: gradient clipping\n",
    "        val_frac: Fraction of data to hold out for validation\n",
    "        print_every: Number of steps for printing training and validation loss\n",
    "    \n",
    "    '''\n",
    "    net.train()\n",
    "    \n",
    "    opt = torch.optim.Adam(net.parameters(), lr=lr)\n",
    "    criterion = nn.CrossEntropyLoss()\n",
    "    \n",
    "    # create training and validation data\n",
    "    val_idx = int(len(data)*(1-val_frac))\n",
    "    data, val_data = data[:val_idx], data[val_idx:]\n",
    "    \n",
    "    if(train_on_gpu):\n",
    "        net.cuda()\n",
    "    \n",
    "    counter = 0\n",
    "    n_chars = len(net.chars)\n",
    "    for e in range(epochs):\n",
    "        # initialize hidden state\n",
    "        h = net.init_hidden(batch_size)\n",
    "        \n",
    "        for x, y in get_batches(data, batch_size, seq_length):\n",
    "            counter += 1\n",
    "            \n",
    "            # One-hot encode our data and make them Torch tensors\n",
    "            x = one_hot_encode(x, n_chars)\n",
    "            inputs, targets = torch.from_numpy(x), torch.from_numpy(y)\n",
    "            \n",
    "            if(train_on_gpu):\n",
    "                inputs, targets = inputs.cuda(), targets.cuda()\n",
    "\n",
    "            # Creating new variables for the hidden state, otherwise\n",
    "            # we'd backprop through the entire training history\n",
    "            h = tuple([each.data for each in h])\n",
    "\n",
    "            # zero accumulated gradients\n",
    "            net.zero_grad()\n",
    "            \n",
    "            # get the output from the model\n",
    "            output, h = net(inputs, h)\n",
    "            \n",
    "            # calculate the loss and perform backprop\n",
    "            loss = criterion(output, targets.view(batch_size*seq_length))\n",
    "            loss.backward()\n",
    "            # `clip_grad_norm` helps prevent the exploding gradient problem in RNNs / LSTMs.\n",
    "            nn.utils.clip_grad_norm_(net.parameters(), clip)\n",
    "            opt.step()\n",
    "            \n",
    "            # loss stats\n",
    "            if counter % print_every == 0:\n",
    "                # Get validation loss\n",
    "                val_h = net.init_hidden(batch_size)\n",
    "                val_losses = []\n",
    "                net.eval()\n",
    "                for x, y in get_batches(val_data, batch_size, seq_length):\n",
    "                    # One-hot encode our data and make them Torch tensors\n",
    "                    x = one_hot_encode(x, n_chars)\n",
    "                    x, y = torch.from_numpy(x), torch.from_numpy(y)\n",
    "                    \n",
    "                    # Creating new variables for the hidden state, otherwise\n",
    "                    # we'd backprop through the entire training history\n",
    "                    val_h = tuple([each.data for each in val_h])\n",
    "                    \n",
    "                    inputs, targets = x, y\n",
    "                    if(train_on_gpu):\n",
    "                        inputs, targets = inputs.cuda(), targets.cuda()\n",
    "\n",
    "                    output, val_h = net(inputs, val_h)\n",
    "                    val_loss = criterion(output, targets.view(batch_size*seq_length))\n",
    "                \n",
    "                    val_losses.append(val_loss.item())\n",
    "                \n",
    "                net.train() # reset to train mode after iterationg through validation data\n",
    "                \n",
    "                print(\"Epoch: {}/{}...\".format(e+1, epochs),\n",
    "                      \"Step: {}...\".format(counter),\n",
    "                      \"Loss: {:.4f}...\".format(loss.item()),\n",
    "                      \"Val Loss: {:.4f}\".format(np.mean(val_losses)))"
   ]
  },
  {
   "cell_type": "markdown",
   "metadata": {},
   "source": [
    "## Instantiating the model\n",
    "\n",
    "Now we can actually train the network. First we'll create the network itself, with some given hyperparameters. Then, define the mini-batches sizes, and start training!"
   ]
  },
  {
   "cell_type": "code",
   "execution_count": 62,
   "metadata": {},
   "outputs": [
    {
     "name": "stdout",
     "output_type": "stream",
     "text": [
      "CharRNN(\n",
      "  (lstm): LSTM(83, 512, num_layers=2, batch_first=True, dropout=0.5)\n",
      "  (dropout): Dropout(p=0.5)\n",
      "  (fc): Linear(in_features=512, out_features=83, bias=True)\n",
      ")\n"
     ]
    }
   ],
   "source": [
    "# define and print the net\n",
    "n_hidden=512\n",
    "n_layers=2\n",
    "print(chars)\n",
    "net = CharRNN(chars, n_hidden, n_layers)\n",
    "type(net)\n",
    "print(net)"
   ]
  },
  {
   "cell_type": "code",
   "execution_count": 56,
   "metadata": {
    "scrolled": true
   },
   "outputs": [
    {
     "name": "stdout",
     "output_type": "stream",
     "text": [
      "Epoch: 1/20... Step: 10... Loss: 3.2524... Val Loss: 3.1571\n",
      "Epoch: 1/20... Step: 20... Loss: 3.1356... Val Loss: 3.1285\n",
      "Epoch: 1/20... Step: 30... Loss: 3.1387... Val Loss: 3.1209\n",
      "Epoch: 1/20... Step: 40... Loss: 3.1086... Val Loss: 3.1188\n",
      "Epoch: 1/20... Step: 50... Loss: 3.1393... Val Loss: 3.1175\n",
      "Epoch: 1/20... Step: 60... Loss: 3.1156... Val Loss: 3.1143\n",
      "Epoch: 1/20... Step: 70... Loss: 3.1043... Val Loss: 3.1107\n",
      "Epoch: 1/20... Step: 80... Loss: 3.1134... Val Loss: 3.1010\n",
      "Epoch: 1/20... Step: 90... Loss: 3.0936... Val Loss: 3.0789\n",
      "Epoch: 1/20... Step: 100... Loss: 3.0421... Val Loss: 3.0265\n",
      "Epoch: 1/20... Step: 110... Loss: 2.9637... Val Loss: 2.9415\n",
      "Epoch: 1/20... Step: 120... Loss: 2.8254... Val Loss: 2.8437\n",
      "Epoch: 1/20... Step: 130... Loss: 2.7922... Val Loss: 2.7600\n",
      "Epoch: 2/20... Step: 140... Loss: 2.6921... Val Loss: 2.6349\n",
      "Epoch: 2/20... Step: 150... Loss: 2.6042... Val Loss: 2.5574\n",
      "Epoch: 2/20... Step: 160... Loss: 2.5483... Val Loss: 2.5074\n",
      "Epoch: 2/20... Step: 170... Loss: 2.4725... Val Loss: 2.4628\n",
      "Epoch: 2/20... Step: 180... Loss: 2.4624... Val Loss: 2.4338\n",
      "Epoch: 2/20... Step: 190... Loss: 2.4072... Val Loss: 2.3939\n",
      "Epoch: 2/20... Step: 200... Loss: 2.3846... Val Loss: 2.3615\n",
      "Epoch: 2/20... Step: 210... Loss: 2.3630... Val Loss: 2.3327\n",
      "Epoch: 2/20... Step: 220... Loss: 2.3238... Val Loss: 2.3004\n",
      "Epoch: 2/20... Step: 230... Loss: 2.3052... Val Loss: 2.2704\n",
      "Epoch: 2/20... Step: 240... Loss: 2.2942... Val Loss: 2.2492\n",
      "Epoch: 2/20... Step: 250... Loss: 2.2186... Val Loss: 2.2182\n",
      "Epoch: 2/20... Step: 260... Loss: 2.1919... Val Loss: 2.1903\n",
      "Epoch: 2/20... Step: 270... Loss: 2.2083... Val Loss: 2.1708\n",
      "Epoch: 3/20... Step: 280... Loss: 2.1899... Val Loss: 2.1476\n",
      "Epoch: 3/20... Step: 290... Loss: 2.1579... Val Loss: 2.1194\n",
      "Epoch: 3/20... Step: 300... Loss: 2.1339... Val Loss: 2.1017\n",
      "Epoch: 3/20... Step: 310... Loss: 2.1133... Val Loss: 2.0810\n",
      "Epoch: 3/20... Step: 320... Loss: 2.0708... Val Loss: 2.0587\n",
      "Epoch: 3/20... Step: 330... Loss: 2.0423... Val Loss: 2.0496\n",
      "Epoch: 3/20... Step: 340... Loss: 2.0838... Val Loss: 2.0294\n",
      "Epoch: 3/20... Step: 350... Loss: 2.0541... Val Loss: 2.0114\n",
      "Epoch: 3/20... Step: 360... Loss: 1.9787... Val Loss: 1.9953\n",
      "Epoch: 3/20... Step: 370... Loss: 2.0168... Val Loss: 1.9801\n",
      "Epoch: 3/20... Step: 380... Loss: 1.9909... Val Loss: 1.9602\n",
      "Epoch: 3/20... Step: 390... Loss: 1.9677... Val Loss: 1.9477\n",
      "Epoch: 3/20... Step: 400... Loss: 1.9340... Val Loss: 1.9297\n",
      "Epoch: 3/20... Step: 410... Loss: 1.9535... Val Loss: 1.9197\n",
      "Epoch: 4/20... Step: 420... Loss: 1.9375... Val Loss: 1.9044\n",
      "Epoch: 4/20... Step: 430... Loss: 1.9272... Val Loss: 1.8889\n",
      "Epoch: 4/20... Step: 440... Loss: 1.9112... Val Loss: 1.8829\n",
      "Epoch: 4/20... Step: 450... Loss: 1.8508... Val Loss: 1.8656\n",
      "Epoch: 4/20... Step: 460... Loss: 1.8352... Val Loss: 1.8596\n",
      "Epoch: 4/20... Step: 470... Loss: 1.8714... Val Loss: 1.8453\n",
      "Epoch: 4/20... Step: 480... Loss: 1.8612... Val Loss: 1.8349\n",
      "Epoch: 4/20... Step: 490... Loss: 1.8640... Val Loss: 1.8233\n",
      "Epoch: 4/20... Step: 500... Loss: 1.8543... Val Loss: 1.8117\n",
      "Epoch: 4/20... Step: 510... Loss: 1.8260... Val Loss: 1.8023\n",
      "Epoch: 4/20... Step: 520... Loss: 1.8330... Val Loss: 1.7901\n",
      "Epoch: 4/20... Step: 530... Loss: 1.7946... Val Loss: 1.7810\n",
      "Epoch: 4/20... Step: 540... Loss: 1.7607... Val Loss: 1.7717\n",
      "Epoch: 4/20... Step: 550... Loss: 1.8025... Val Loss: 1.7608\n",
      "Epoch: 5/20... Step: 560... Loss: 1.7730... Val Loss: 1.7535\n",
      "Epoch: 5/20... Step: 570... Loss: 1.7633... Val Loss: 1.7379\n",
      "Epoch: 5/20... Step: 580... Loss: 1.7429... Val Loss: 1.7338\n",
      "Epoch: 5/20... Step: 590... Loss: 1.7412... Val Loss: 1.7219\n",
      "Epoch: 5/20... Step: 600... Loss: 1.7308... Val Loss: 1.7146\n",
      "Epoch: 5/20... Step: 610... Loss: 1.7221... Val Loss: 1.7093\n",
      "Epoch: 5/20... Step: 620... Loss: 1.7226... Val Loss: 1.7039\n",
      "Epoch: 5/20... Step: 630... Loss: 1.7439... Val Loss: 1.6973\n",
      "Epoch: 5/20... Step: 640... Loss: 1.7047... Val Loss: 1.6851\n",
      "Epoch: 5/20... Step: 650... Loss: 1.6900... Val Loss: 1.6765\n",
      "Epoch: 5/20... Step: 660... Loss: 1.6622... Val Loss: 1.6677\n",
      "Epoch: 5/20... Step: 670... Loss: 1.6963... Val Loss: 1.6662\n",
      "Epoch: 5/20... Step: 680... Loss: 1.6926... Val Loss: 1.6546\n",
      "Epoch: 5/20... Step: 690... Loss: 1.6612... Val Loss: 1.6520\n",
      "Epoch: 6/20... Step: 700... Loss: 1.6665... Val Loss: 1.6443\n",
      "Epoch: 6/20... Step: 710... Loss: 1.6534... Val Loss: 1.6364\n",
      "Epoch: 6/20... Step: 720... Loss: 1.6367... Val Loss: 1.6304\n",
      "Epoch: 6/20... Step: 730... Loss: 1.6572... Val Loss: 1.6246\n",
      "Epoch: 6/20... Step: 740... Loss: 1.6136... Val Loss: 1.6205\n",
      "Epoch: 6/20... Step: 750... Loss: 1.6064... Val Loss: 1.6155\n",
      "Epoch: 6/20... Step: 760... Loss: 1.6391... Val Loss: 1.6090\n",
      "Epoch: 6/20... Step: 770... Loss: 1.6158... Val Loss: 1.6073\n",
      "Epoch: 6/20... Step: 780... Loss: 1.6053... Val Loss: 1.5996\n",
      "Epoch: 6/20... Step: 790... Loss: 1.5859... Val Loss: 1.5921\n",
      "Epoch: 6/20... Step: 800... Loss: 1.6106... Val Loss: 1.5842\n",
      "Epoch: 6/20... Step: 810... Loss: 1.6069... Val Loss: 1.5853\n",
      "Epoch: 6/20... Step: 820... Loss: 1.5631... Val Loss: 1.5804\n",
      "Epoch: 6/20... Step: 830... Loss: 1.6003... Val Loss: 1.5776\n",
      "Epoch: 7/20... Step: 840... Loss: 1.5602... Val Loss: 1.5684\n",
      "Epoch: 7/20... Step: 850... Loss: 1.5798... Val Loss: 1.5641\n",
      "Epoch: 7/20... Step: 860... Loss: 1.5594... Val Loss: 1.5536\n",
      "Epoch: 7/20... Step: 870... Loss: 1.5633... Val Loss: 1.5531\n",
      "Epoch: 7/20... Step: 880... Loss: 1.5667... Val Loss: 1.5503\n",
      "Epoch: 7/20... Step: 890... Loss: 1.5754... Val Loss: 1.5440\n",
      "Epoch: 7/20... Step: 900... Loss: 1.5411... Val Loss: 1.5437\n",
      "Epoch: 7/20... Step: 910... Loss: 1.5194... Val Loss: 1.5409\n",
      "Epoch: 7/20... Step: 920... Loss: 1.5479... Val Loss: 1.5371\n",
      "Epoch: 7/20... Step: 930... Loss: 1.5243... Val Loss: 1.5345\n",
      "Epoch: 7/20... Step: 940... Loss: 1.5358... Val Loss: 1.5319\n",
      "Epoch: 7/20... Step: 950... Loss: 1.5514... Val Loss: 1.5241\n",
      "Epoch: 7/20... Step: 960... Loss: 1.5473... Val Loss: 1.5195\n",
      "Epoch: 7/20... Step: 970... Loss: 1.5528... Val Loss: 1.5187\n",
      "Epoch: 8/20... Step: 980... Loss: 1.5213... Val Loss: 1.5155\n",
      "Epoch: 8/20... Step: 990... Loss: 1.5126... Val Loss: 1.5110\n",
      "Epoch: 8/20... Step: 1000... Loss: 1.5151... Val Loss: 1.5064\n",
      "Epoch: 8/20... Step: 1010... Loss: 1.5377... Val Loss: 1.5006\n",
      "Epoch: 8/20... Step: 1020... Loss: 1.5167... Val Loss: 1.4972\n",
      "Epoch: 8/20... Step: 1030... Loss: 1.4943... Val Loss: 1.4920\n",
      "Epoch: 8/20... Step: 1040... Loss: 1.5056... Val Loss: 1.5000\n",
      "Epoch: 8/20... Step: 1050... Loss: 1.4831... Val Loss: 1.4904\n",
      "Epoch: 8/20... Step: 1060... Loss: 1.4930... Val Loss: 1.4885\n",
      "Epoch: 8/20... Step: 1070... Loss: 1.4927... Val Loss: 1.4914\n",
      "Epoch: 8/20... Step: 1080... Loss: 1.4897... Val Loss: 1.4806\n",
      "Epoch: 8/20... Step: 1090... Loss: 1.4720... Val Loss: 1.4749\n",
      "Epoch: 8/20... Step: 1100... Loss: 1.4639... Val Loss: 1.4715\n",
      "Epoch: 8/20... Step: 1110... Loss: 1.4760... Val Loss: 1.4708\n",
      "Epoch: 9/20... Step: 1120... Loss: 1.4906... Val Loss: 1.4707\n",
      "Epoch: 9/20... Step: 1130... Loss: 1.4693... Val Loss: 1.4675\n",
      "Epoch: 9/20... Step: 1140... Loss: 1.4746... Val Loss: 1.4623\n",
      "Epoch: 9/20... Step: 1150... Loss: 1.4933... Val Loss: 1.4596\n",
      "Epoch: 9/20... Step: 1160... Loss: 1.4379... Val Loss: 1.4586\n",
      "Epoch: 9/20... Step: 1170... Loss: 1.4579... Val Loss: 1.4552\n",
      "Epoch: 9/20... Step: 1180... Loss: 1.4551... Val Loss: 1.4568\n",
      "Epoch: 9/20... Step: 1190... Loss: 1.4803... Val Loss: 1.4518\n",
      "Epoch: 9/20... Step: 1200... Loss: 1.4332... Val Loss: 1.4510\n",
      "Epoch: 9/20... Step: 1210... Loss: 1.4414... Val Loss: 1.4440\n",
      "Epoch: 9/20... Step: 1220... Loss: 1.4525... Val Loss: 1.4469\n",
      "Epoch: 9/20... Step: 1230... Loss: 1.4187... Val Loss: 1.4393\n",
      "Epoch: 9/20... Step: 1240... Loss: 1.4236... Val Loss: 1.4389\n",
      "Epoch: 9/20... Step: 1250... Loss: 1.4323... Val Loss: 1.4346\n",
      "Epoch: 10/20... Step: 1260... Loss: 1.4440... Val Loss: 1.4356\n",
      "Epoch: 10/20... Step: 1270... Loss: 1.4362... Val Loss: 1.4338\n",
      "Epoch: 10/20... Step: 1280... Loss: 1.4414... Val Loss: 1.4275\n",
      "Epoch: 10/20... Step: 1290... Loss: 1.4452... Val Loss: 1.4277\n",
      "Epoch: 10/20... Step: 1300... Loss: 1.4230... Val Loss: 1.4273\n",
      "Epoch: 10/20... Step: 1310... Loss: 1.4246... Val Loss: 1.4242\n",
      "Epoch: 10/20... Step: 1320... Loss: 1.3959... Val Loss: 1.4240\n",
      "Epoch: 10/20... Step: 1330... Loss: 1.4113... Val Loss: 1.4182\n",
      "Epoch: 10/20... Step: 1340... Loss: 1.3954... Val Loss: 1.4182\n",
      "Epoch: 10/20... Step: 1350... Loss: 1.3842... Val Loss: 1.4141\n",
      "Epoch: 10/20... Step: 1360... Loss: 1.3971... Val Loss: 1.4160\n",
      "Epoch: 10/20... Step: 1370... Loss: 1.3838... Val Loss: 1.4092\n",
      "Epoch: 10/20... Step: 1380... Loss: 1.4213... Val Loss: 1.4078\n",
      "Epoch: 10/20... Step: 1390... Loss: 1.4186... Val Loss: 1.4072\n",
      "Epoch: 11/20... Step: 1400... Loss: 1.4295... Val Loss: 1.4049\n",
      "Epoch: 11/20... Step: 1410... Loss: 1.4423... Val Loss: 1.4049\n",
      "Epoch: 11/20... Step: 1420... Loss: 1.4308... Val Loss: 1.3985\n",
      "Epoch: 11/20... Step: 1430... Loss: 1.3906... Val Loss: 1.4005\n",
      "Epoch: 11/20... Step: 1440... Loss: 1.4284... Val Loss: 1.3975\n",
      "Epoch: 11/20... Step: 1450... Loss: 1.3459... Val Loss: 1.3981\n",
      "Epoch: 11/20... Step: 1460... Loss: 1.3738... Val Loss: 1.3937\n",
      "Epoch: 11/20... Step: 1470... Loss: 1.3656... Val Loss: 1.3922\n",
      "Epoch: 11/20... Step: 1480... Loss: 1.3880... Val Loss: 1.3885\n",
      "Epoch: 11/20... Step: 1490... Loss: 1.3723... Val Loss: 1.3862\n",
      "Epoch: 11/20... Step: 1500... Loss: 1.3581... Val Loss: 1.3876\n",
      "Epoch: 11/20... Step: 1510... Loss: 1.3441... Val Loss: 1.3845\n",
      "Epoch: 11/20... Step: 1520... Loss: 1.3789... Val Loss: 1.3805\n",
      "Epoch: 12/20... Step: 1530... Loss: 1.4283... Val Loss: 1.3761\n",
      "Epoch: 12/20... Step: 1540... Loss: 1.3877... Val Loss: 1.3734\n",
      "Epoch: 12/20... Step: 1550... Loss: 1.3891... Val Loss: 1.3734\n",
      "Epoch: 12/20... Step: 1560... Loss: 1.3990... Val Loss: 1.3715\n",
      "Epoch: 12/20... Step: 1570... Loss: 1.3420... Val Loss: 1.3688\n",
      "Epoch: 12/20... Step: 1580... Loss: 1.3232... Val Loss: 1.3703\n",
      "Epoch: 12/20... Step: 1590... Loss: 1.3163... Val Loss: 1.3723\n",
      "Epoch: 12/20... Step: 1600... Loss: 1.3452... Val Loss: 1.3679\n",
      "Epoch: 12/20... Step: 1610... Loss: 1.3405... Val Loss: 1.3724\n",
      "Epoch: 12/20... Step: 1620... Loss: 1.3442... Val Loss: 1.3671\n",
      "Epoch: 12/20... Step: 1630... Loss: 1.3663... Val Loss: 1.3652\n",
      "Epoch: 12/20... Step: 1640... Loss: 1.3319... Val Loss: 1.3617\n",
      "Epoch: 12/20... Step: 1650... Loss: 1.3120... Val Loss: 1.3577\n",
      "Epoch: 12/20... Step: 1660... Loss: 1.3616... Val Loss: 1.3601\n",
      "Epoch: 13/20... Step: 1670... Loss: 1.3353... Val Loss: 1.3529\n",
      "Epoch: 13/20... Step: 1680... Loss: 1.3404... Val Loss: 1.3513\n",
      "Epoch: 13/20... Step: 1690... Loss: 1.3335... Val Loss: 1.3504\n",
      "Epoch: 13/20... Step: 1700... Loss: 1.3299... Val Loss: 1.3502\n",
      "Epoch: 13/20... Step: 1710... Loss: 1.2990... Val Loss: 1.3506\n",
      "Epoch: 13/20... Step: 1720... Loss: 1.3155... Val Loss: 1.3505\n",
      "Epoch: 13/20... Step: 1730... Loss: 1.3468... Val Loss: 1.3518\n",
      "Epoch: 13/20... Step: 1740... Loss: 1.3174... Val Loss: 1.3527\n",
      "Epoch: 13/20... Step: 1750... Loss: 1.2856... Val Loss: 1.3541\n",
      "Epoch: 13/20... Step: 1760... Loss: 1.3177... Val Loss: 1.3490\n",
      "Epoch: 13/20... Step: 1770... Loss: 1.3406... Val Loss: 1.3421\n",
      "Epoch: 13/20... Step: 1780... Loss: 1.3051... Val Loss: 1.3391\n",
      "Epoch: 13/20... Step: 1790... Loss: 1.2887... Val Loss: 1.3408\n",
      "Epoch: 13/20... Step: 1800... Loss: 1.3205... Val Loss: 1.3375\n",
      "Epoch: 14/20... Step: 1810... Loss: 1.3233... Val Loss: 1.3362\n",
      "Epoch: 14/20... Step: 1820... Loss: 1.3067... Val Loss: 1.3333\n",
      "Epoch: 14/20... Step: 1830... Loss: 1.3293... Val Loss: 1.3321\n",
      "Epoch: 14/20... Step: 1840... Loss: 1.2704... Val Loss: 1.3327\n",
      "Epoch: 14/20... Step: 1850... Loss: 1.2629... Val Loss: 1.3309\n",
      "Epoch: 14/20... Step: 1860... Loss: 1.3204... Val Loss: 1.3288\n",
      "Epoch: 14/20... Step: 1870... Loss: 1.3182... Val Loss: 1.3320\n",
      "Epoch: 14/20... Step: 1880... Loss: 1.3084... Val Loss: 1.3393\n",
      "Epoch: 14/20... Step: 1890... Loss: 1.3304... Val Loss: 1.3416\n",
      "Epoch: 14/20... Step: 1900... Loss: 1.3054... Val Loss: 1.3277\n",
      "Epoch: 14/20... Step: 1910... Loss: 1.2954... Val Loss: 1.3254\n",
      "Epoch: 14/20... Step: 1920... Loss: 1.2978... Val Loss: 1.3246\n",
      "Epoch: 14/20... Step: 1930... Loss: 1.2609... Val Loss: 1.3229\n",
      "Epoch: 14/20... Step: 1940... Loss: 1.3221... Val Loss: 1.3284\n",
      "Epoch: 15/20... Step: 1950... Loss: 1.2804... Val Loss: 1.3248\n",
      "Epoch: 15/20... Step: 1960... Loss: 1.2815... Val Loss: 1.3201\n",
      "Epoch: 15/20... Step: 1970... Loss: 1.2838... Val Loss: 1.3243\n",
      "Epoch: 15/20... Step: 1980... Loss: 1.2714... Val Loss: 1.3218\n",
      "Epoch: 15/20... Step: 1990... Loss: 1.2781... Val Loss: 1.3181\n",
      "Epoch: 15/20... Step: 2000... Loss: 1.2600... Val Loss: 1.3153\n",
      "Epoch: 15/20... Step: 2010... Loss: 1.2787... Val Loss: 1.3164\n",
      "Epoch: 15/20... Step: 2020... Loss: 1.2939... Val Loss: 1.3150\n",
      "Epoch: 15/20... Step: 2030... Loss: 1.2690... Val Loss: 1.3204\n",
      "Epoch: 15/20... Step: 2040... Loss: 1.2760... Val Loss: 1.3187\n",
      "Epoch: 15/20... Step: 2050... Loss: 1.2660... Val Loss: 1.3176\n",
      "Epoch: 15/20... Step: 2060... Loss: 1.2645... Val Loss: 1.3131\n",
      "Epoch: 15/20... Step: 2070... Loss: 1.2799... Val Loss: 1.3091\n",
      "Epoch: 15/20... Step: 2080... Loss: 1.2757... Val Loss: 1.3135\n",
      "Epoch: 16/20... Step: 2090... Loss: 1.2829... Val Loss: 1.3166\n",
      "Epoch: 16/20... Step: 2100... Loss: 1.2660... Val Loss: 1.3062\n",
      "Epoch: 16/20... Step: 2110... Loss: 1.2605... Val Loss: 1.3168\n",
      "Epoch: 16/20... Step: 2120... Loss: 1.2738... Val Loss: 1.3077\n",
      "Epoch: 16/20... Step: 2130... Loss: 1.2539... Val Loss: 1.3054\n",
      "Epoch: 16/20... Step: 2140... Loss: 1.2601... Val Loss: 1.3040\n",
      "Epoch: 16/20... Step: 2150... Loss: 1.2753... Val Loss: 1.3078\n",
      "Epoch: 16/20... Step: 2160... Loss: 1.2592... Val Loss: 1.3074\n",
      "Epoch: 16/20... Step: 2170... Loss: 1.2617... Val Loss: 1.3048\n",
      "Epoch: 16/20... Step: 2180... Loss: 1.2439... Val Loss: 1.3021\n",
      "Epoch: 16/20... Step: 2190... Loss: 1.2648... Val Loss: 1.3009\n",
      "Epoch: 16/20... Step: 2200... Loss: 1.2512... Val Loss: 1.2974\n",
      "Epoch: 16/20... Step: 2210... Loss: 1.2140... Val Loss: 1.2996\n",
      "Epoch: 16/20... Step: 2220... Loss: 1.2663... Val Loss: 1.3029\n",
      "Epoch: 17/20... Step: 2230... Loss: 1.2412... Val Loss: 1.3034\n",
      "Epoch: 17/20... Step: 2240... Loss: 1.2469... Val Loss: 1.2965\n",
      "Epoch: 17/20... Step: 2250... Loss: 1.2290... Val Loss: 1.2969\n",
      "Epoch: 17/20... Step: 2260... Loss: 1.2406... Val Loss: 1.2977\n",
      "Epoch: 17/20... Step: 2270... Loss: 1.2473... Val Loss: 1.2960\n",
      "Epoch: 17/20... Step: 2280... Loss: 1.2555... Val Loss: 1.2918\n",
      "Epoch: 17/20... Step: 2290... Loss: 1.2480... Val Loss: 1.2943\n",
      "Epoch: 17/20... Step: 2300... Loss: 1.2198... Val Loss: 1.3018\n",
      "Epoch: 17/20... Step: 2310... Loss: 1.2398... Val Loss: 1.3042\n",
      "Epoch: 17/20... Step: 2320... Loss: 1.2371... Val Loss: 1.2937\n",
      "Epoch: 17/20... Step: 2330... Loss: 1.2415... Val Loss: 1.2931\n",
      "Epoch: 17/20... Step: 2340... Loss: 1.2466... Val Loss: 1.2961\n",
      "Epoch: 17/20... Step: 2350... Loss: 1.2455... Val Loss: 1.2905\n",
      "Epoch: 17/20... Step: 2360... Loss: 1.2596... Val Loss: 1.2954\n",
      "Epoch: 18/20... Step: 2370... Loss: 1.2254... Val Loss: 1.2918\n",
      "Epoch: 18/20... Step: 2380... Loss: 1.2273... Val Loss: 1.2879\n",
      "Epoch: 18/20... Step: 2390... Loss: 1.2282... Val Loss: 1.2912\n",
      "Epoch: 18/20... Step: 2400... Loss: 1.2577... Val Loss: 1.2858\n",
      "Epoch: 18/20... Step: 2410... Loss: 1.2488... Val Loss: 1.2893\n",
      "Epoch: 18/20... Step: 2420... Loss: 1.2364... Val Loss: 1.2889\n",
      "Epoch: 18/20... Step: 2430... Loss: 1.2311... Val Loss: 1.2864\n",
      "Epoch: 18/20... Step: 2440... Loss: 1.2265... Val Loss: 1.2874\n",
      "Epoch: 18/20... Step: 2450... Loss: 1.2161... Val Loss: 1.2868\n",
      "Epoch: 18/20... Step: 2460... Loss: 1.2357... Val Loss: 1.2847\n",
      "Epoch: 18/20... Step: 2470... Loss: 1.2269... Val Loss: 1.2855\n",
      "Epoch: 18/20... Step: 2480... Loss: 1.2118... Val Loss: 1.2842\n",
      "Epoch: 18/20... Step: 2490... Loss: 1.2073... Val Loss: 1.2845\n",
      "Epoch: 18/20... Step: 2500... Loss: 1.2141... Val Loss: 1.2966\n",
      "Epoch: 19/20... Step: 2510... Loss: 1.2315... Val Loss: 1.2873\n",
      "Epoch: 19/20... Step: 2520... Loss: 1.2328... Val Loss: 1.2856\n",
      "Epoch: 19/20... Step: 2530... Loss: 1.2409... Val Loss: 1.2788\n",
      "Epoch: 19/20... Step: 2540... Loss: 1.2504... Val Loss: 1.2779\n",
      "Epoch: 19/20... Step: 2550... Loss: 1.2083... Val Loss: 1.2824\n",
      "Epoch: 19/20... Step: 2560... Loss: 1.2298... Val Loss: 1.2828\n",
      "Epoch: 19/20... Step: 2570... Loss: 1.2063... Val Loss: 1.2824\n",
      "Epoch: 19/20... Step: 2580... Loss: 1.2509... Val Loss: 1.2797\n",
      "Epoch: 19/20... Step: 2590... Loss: 1.2098... Val Loss: 1.2788\n",
      "Epoch: 19/20... Step: 2600... Loss: 1.2172... Val Loss: 1.2785\n",
      "Epoch: 19/20... Step: 2610... Loss: 1.2077... Val Loss: 1.2776\n",
      "Epoch: 19/20... Step: 2620... Loss: 1.1870... Val Loss: 1.2772\n",
      "Epoch: 19/20... Step: 2630... Loss: 1.2054... Val Loss: 1.2759\n",
      "Epoch: 19/20... Step: 2640... Loss: 1.2218... Val Loss: 1.2759\n",
      "Epoch: 20/20... Step: 2650... Loss: 1.2155... Val Loss: 1.2799\n",
      "Epoch: 20/20... Step: 2660... Loss: 1.2182... Val Loss: 1.2824\n",
      "Epoch: 20/20... Step: 2670... Loss: 1.2324... Val Loss: 1.2799\n",
      "Epoch: 20/20... Step: 2680... Loss: 1.2215... Val Loss: 1.2754\n",
      "Epoch: 20/20... Step: 2690... Loss: 1.2090... Val Loss: 1.2743\n",
      "Epoch: 20/20... Step: 2700... Loss: 1.2172... Val Loss: 1.2744\n",
      "Epoch: 20/20... Step: 2710... Loss: 1.1837... Val Loss: 1.2750\n",
      "Epoch: 20/20... Step: 2720... Loss: 1.1964... Val Loss: 1.2699\n",
      "Epoch: 20/20... Step: 2730... Loss: 1.1847... Val Loss: 1.2719\n",
      "Epoch: 20/20... Step: 2740... Loss: 1.1935... Val Loss: 1.2709\n",
      "Epoch: 20/20... Step: 2750... Loss: 1.1901... Val Loss: 1.2756\n",
      "Epoch: 20/20... Step: 2760... Loss: 1.1767... Val Loss: 1.2716\n",
      "Epoch: 20/20... Step: 2770... Loss: 1.2183... Val Loss: 1.2715\n",
      "Epoch: 20/20... Step: 2780... Loss: 1.2459... Val Loss: 1.2697\n"
     ]
    }
   ],
   "source": [
    "batch_size = 128\n",
    "seq_length = 100\n",
    "n_epochs = 20 # start smaller if you are just testing initial behavior\n",
    "\n",
    "# train the model\n",
    "train(net, encoded, epochs=n_epochs, batch_size=batch_size, seq_length=seq_length, lr=0.001, print_every=10)"
   ]
  },
  {
   "cell_type": "markdown",
   "metadata": {},
   "source": [
    "## Getting the best model\n",
    "\n",
    "To set your hyperparameters to get the best performance, you'll want to watch the training and validation losses. If your training loss is much lower than the validation loss, you're overfitting. Increase regularization (more dropout) or use a smaller network. If the training and validation losses are close, you're underfitting so you can increase the size of the network."
   ]
  },
  {
   "cell_type": "markdown",
   "metadata": {},
   "source": [
    "## Hyperparameters\n",
    "\n",
    "Here are the hyperparameters for the network.\n",
    "\n",
    "In defining the model:\n",
    "* `n_hidden` - The number of units in the hidden layers.\n",
    "* `n_layers` - Number of hidden LSTM layers to use.\n",
    "\n",
    "We assume that dropout probability and learning rate will be kept at the default, in this example.\n",
    "\n",
    "And in training:\n",
    "* `batch_size` - Number of sequences running through the network in one pass.\n",
    "* `seq_length` - Number of characters in the sequence the network is trained on. Larger is better typically, the network will learn more long range dependencies. But it takes longer to train. 100 is typically a good number here.\n",
    "* `lr` - Learning rate for training\n",
    "\n",
    "Here's some good advice from Andrej Karpathy on training the network. I'm going to copy it in here for your benefit, but also link to [where it originally came from](https://github.com/karpathy/char-rnn#tips-and-tricks).\n",
    "\n",
    "> ## Tips and Tricks\n",
    "\n",
    ">### Monitoring Validation Loss vs. Training Loss\n",
    ">If you're somewhat new to Machine Learning or Neural Networks it can take a bit of expertise to get good models. The most important quantity to keep track of is the difference between your training loss (printed during training) and the validation loss (printed once in a while when the RNN is run on the validation data (by default every 1000 iterations)). In particular:\n",
    "\n",
    "> - If your training loss is much lower than validation loss then this means the network might be **overfitting**. Solutions to this are to decrease your network size, or to increase dropout. For example you could try dropout of 0.5 and so on.\n",
    "> - If your training/validation loss are about equal then your model is **underfitting**. Increase the size of your model (either number of layers or the raw number of neurons per layer)\n",
    "\n",
    "> ### Approximate number of parameters\n",
    "\n",
    "> The two most important parameters that control the model are `n_hidden` and `n_layers`. I would advise that you always use `n_layers` of either 2/3. The `n_hidden` can be adjusted based on how much data you have. The two important quantities to keep track of here are:\n",
    "\n",
    "> - The number of parameters in your model. This is printed when you start training.\n",
    "> - The size of your dataset. 1MB file is approximately 1 million characters.\n",
    "\n",
    ">These two should be about the same order of magnitude. It's a little tricky to tell. Here are some examples:\n",
    "\n",
    "> - I have a 100MB dataset and I'm using the default parameter settings (which currently print 150K parameters). My data size is significantly larger (100 mil >> 0.15 mil), so I expect to heavily underfit. I am thinking I can comfortably afford to make `n_hidden` larger.\n",
    "> - I have a 10MB dataset and running a 10 million parameter model. I'm slightly nervous and I'm carefully monitoring my validation loss. If it's larger than my training loss then I may want to try to increase dropout a bit and see if that helps the validation loss.\n",
    "\n",
    "> ### Best models strategy\n",
    "\n",
    ">The winning strategy to obtaining very good models (if you have the compute time) is to always err on making the network larger (as large as you're willing to wait for it to compute) and then try different dropout values (between 0,1). Whatever model has the best validation performance (the loss, written in the checkpoint filename, low is good) is the one you should use in the end.\n",
    "\n",
    ">It is very common in deep learning to run many different models with many different hyperparameter settings, and in the end take whatever checkpoint gave the best validation performance.\n",
    "\n",
    ">By the way, the size of your training and validation splits are also parameters. Make sure you have a decent amount of data in your validation set or otherwise the validation performance will be noisy and not very informative."
   ]
  },
  {
   "cell_type": "markdown",
   "metadata": {},
   "source": [
    "## Checkpoint\n",
    "\n",
    "After training, we'll save the model so we can load it again later if we need too. Here I'm saving the parameters needed to create the same architecture, the hidden layer hyperparameters and the text characters."
   ]
  },
  {
   "cell_type": "code",
   "execution_count": 57,
   "metadata": {
    "collapsed": true
   },
   "outputs": [],
   "source": [
    "# change the name, for saving multiple files\n",
    "model_name = 'rnn_20_epoch.net'\n",
    "\n",
    "checkpoint = {'n_hidden': net.n_hidden,\n",
    "              'n_layers': net.n_layers,\n",
    "              'state_dict': net.state_dict(),\n",
    "              'tokens': net.chars}\n",
    "\n",
    "with open(model_name, 'wb') as f:\n",
    "    torch.save(checkpoint, f)"
   ]
  },
  {
   "cell_type": "markdown",
   "metadata": {},
   "source": [
    "---\n",
    "## Making Predictions\n",
    "\n",
    "Now that the model is trained, we'll want to sample from it and make predictions about next characters! To sample, we pass in a character and have the network predict the next character. Then we take that character, pass it back in, and get another predicted character. Just keep doing this and you'll generate a bunch of text!\n",
    "\n",
    "### A note on the `predict`  function\n",
    "\n",
    "The output of our RNN is from a fully-connected layer and it outputs a **distribution of next-character scores**.\n",
    "\n",
    "> To actually get the next character, we apply a softmax function, which gives us a *probability* distribution that we can then sample to predict the next character.\n",
    "\n",
    "### Top K sampling\n",
    "\n",
    "Our predictions come from a categorical probability distribution over all the possible characters. We can make the sample text and make it more reasonable to handle (with less variables) by only considering some $K$ most probable characters. This will prevent the network from giving us completely absurd characters while allowing it to introduce some noise and randomness into the sampled text. Read more about [topk, here](https://pytorch.org/docs/stable/torch.html#torch.topk).\n"
   ]
  },
  {
   "cell_type": "code",
   "execution_count": 58,
   "metadata": {
    "collapsed": true
   },
   "outputs": [],
   "source": [
    "def predict(net, char, h=None, top_k=None):\n",
    "        ''' Given a character, predict the next character.\n",
    "            Returns the predicted character and the hidden state.\n",
    "        '''\n",
    "        \n",
    "        # tensor inputs\n",
    "        x = np.array([[net.char2int[char]]])\n",
    "        x = one_hot_encode(x, len(net.chars))\n",
    "        inputs = torch.from_numpy(x)\n",
    "        \n",
    "        if(train_on_gpu):\n",
    "            inputs = inputs.cuda()\n",
    "        \n",
    "        # detach hidden state from history\n",
    "        h = tuple([each.data for each in h])\n",
    "        # get the output of the model\n",
    "        out, h = net(inputs, h)\n",
    "\n",
    "        # get the character probabilities\n",
    "        p = F.softmax(out, dim=1).data\n",
    "        if(train_on_gpu):\n",
    "            p = p.cpu() # move to cpu\n",
    "        \n",
    "        # get top characters\n",
    "        if top_k is None:\n",
    "            top_ch = np.arange(len(net.chars))\n",
    "        else:\n",
    "            p, top_ch = p.topk(top_k)\n",
    "            top_ch = top_ch.numpy().squeeze()\n",
    "        \n",
    "        # select the likely next character with some element of randomness\n",
    "        p = p.numpy().squeeze()\n",
    "        char = np.random.choice(top_ch, p=p/p.sum())\n",
    "        \n",
    "        # return the encoded value of the predicted char and the hidden state\n",
    "        return net.int2char[char], h"
   ]
  },
  {
   "cell_type": "markdown",
   "metadata": {},
   "source": [
    "### Priming and generating text \n",
    "\n",
    "Typically you'll want to prime the network so you can build up a hidden state. Otherwise the network will start out generating characters at random. In general the first bunch of characters will be a little rough since it hasn't built up a long history of characters to predict from."
   ]
  },
  {
   "cell_type": "code",
   "execution_count": 59,
   "metadata": {
    "collapsed": true
   },
   "outputs": [],
   "source": [
    "def sample(net, size, prime='The', top_k=None):\n",
    "        \n",
    "    if(train_on_gpu):\n",
    "        net.cuda()\n",
    "    else:\n",
    "        net.cpu()\n",
    "    \n",
    "    net.eval() # eval mode\n",
    "    \n",
    "    # First off, run through the prime characters\n",
    "    chars = [ch for ch in prime]\n",
    "    h = net.init_hidden(1)\n",
    "    for ch in prime:\n",
    "        char, h = predict(net, ch, h, top_k=top_k)\n",
    "\n",
    "    chars.append(char)\n",
    "    \n",
    "    # Now pass in the previous character and get a new one\n",
    "    for ii in range(size):\n",
    "        char, h = predict(net, chars[-1], h, top_k=top_k)\n",
    "        chars.append(char)\n",
    "\n",
    "    return ''.join(chars)"
   ]
  },
  {
   "cell_type": "code",
   "execution_count": 60,
   "metadata": {},
   "outputs": [
    {
     "name": "stdout",
     "output_type": "stream",
     "text": [
      "Anna\n",
      "was not all this will brought the case, and we have so as to but. And he\n",
      "were in a sister--so to stay. He was a cross that was not their accounts of\n",
      "the carriage and as he had not all of them with her stung. He was stared;\n",
      "and to be all shouted on her.\n",
      "\n",
      "\"Ah, how did you say to her and superfusing the stands of this\n",
      "talk,\" said Anna with a stone of a crushing helped hand. \"How am I an\n",
      "offer something so much!\"\n",
      "\n",
      "\"What do you see him,\" said Levin to his heart, whom the players seed\n",
      "a sense. He forgot his head, and went into the stream. She was difficed\n",
      "for him to death to say that he could not be in a stand in an answer and a\n",
      "short and at a cape the sunchised of the same figures--he was saying\n",
      "to brought the choir, had strunger in a superill patches of the portrait\n",
      "of all the passiog, and she would she hoped, and when all the carrying of the\n",
      "sound of the same this minute when the most carriage had seem in\n",
      "his way and always as thas her three position of the provinces of them\n",
      "and humoring \n"
     ]
    }
   ],
   "source": [
    "print(sample(net, 1000, prime='Anna', top_k=5))"
   ]
  },
  {
   "cell_type": "markdown",
   "metadata": {},
   "source": [
    "## Loading a checkpoint"
   ]
  },
  {
   "cell_type": "code",
   "execution_count": 20,
   "metadata": {
    "collapsed": true
   },
   "outputs": [],
   "source": [
    "# Here we have loaded in a model that trained over 20 epochs `rnn_20_epoch.net`\n",
    "with open('rnn_20_epoch.net', 'rb') as f:\n",
    "    checkpoint = torch.load(f)\n",
    "    \n",
    "loaded = CharRNN(checkpoint['tokens'], n_hidden=checkpoint['n_hidden'], n_layers=checkpoint['n_layers'])\n",
    "loaded.load_state_dict(checkpoint['state_dict'])"
   ]
  },
  {
   "cell_type": "code",
   "execution_count": 21,
   "metadata": {},
   "outputs": [
    {
     "name": "stdout",
     "output_type": "stream",
     "text": [
      "And Levin said those second portryit on the contrast.\n",
      "\n",
      "\"What is it?\" said Stepan Arkadyevitch,\n",
      "letting up his\n",
      "shirt and talking to her face. And he had\n",
      "not speak to Levin that his head on the round stop and\n",
      "trouble\n",
      "to be faint, as he\n",
      "was not a man who was said, she was the setter times that had been before so much talking in the steps of the door, his force to think of their sense of the sendence, both always bowing about in the country and the same time of her character and all at him with his face, and went out of her hand, sitting down beside\n",
      "the clothes, and\n",
      "the\n",
      "same\n",
      "single mind and when they seemed to a strange of his\n",
      "brother's.\n",
      "\n",
      "And he\n",
      "was so meched the paints was so standing the man had been a love was the man, and stopped at once in the first step. But he was\n",
      "a change to\n",
      "do. The sound of the partice say a construnting his\n",
      "steps and telling a single camp of the\n",
      "ready and three significance of the same forest.\n",
      "\n",
      "\"Yes, but you see it.\" He carried his face and the condition in their carriage to her, and to go, she\n",
      "said that had been talking of his forest, a strange world, when Levin came the conversation as sense of her son, and he could not see him to hive answer, which had been saking when at tomere within the\n",
      "counting her face that he was serenely from her she took a counting, there\n",
      "was the since he\n",
      "had too wearted and seemed to her,\" said the member of the cannors in the steps to his\n",
      "word.\n",
      "\n",
      "The moss of the convincing it had been drawing up the people that there was nothing without this way or a single wife as he did not hear\n",
      "him or that he was not seeing that she would be a court of the sound of some sound of the position, and to spartly she\n",
      "could\n",
      "see her and a sundroup times there was nothing this\n",
      "father and as she stoop serious in the sound, was a steps of the master, a few sistersily play of his husband. The crowd had no carreated herself, and truets, and shaking up, the pases, and the moment that he was not at the marshal, and the starling the secret were stopping to be\n"
     ]
    }
   ],
   "source": [
    "# Sample using a loaded model\n",
    "print(sample(loaded, 2000, top_k=5, prime=\"And Levin said\"))"
   ]
  },
  {
   "cell_type": "code",
   "execution_count": null,
   "metadata": {
    "collapsed": true
   },
   "outputs": [],
   "source": []
  }
 ],
 "metadata": {
  "kernelspec": {
   "display_name": "Python 3",
   "language": "python",
   "name": "python3"
  },
  "language_info": {
   "codemirror_mode": {
    "name": "ipython",
    "version": 3
   },
   "file_extension": ".py",
   "mimetype": "text/x-python",
   "name": "python",
   "nbconvert_exporter": "python",
   "pygments_lexer": "ipython3",
   "version": "3.7.2"
  }
 },
 "nbformat": 4,
 "nbformat_minor": 2
}
