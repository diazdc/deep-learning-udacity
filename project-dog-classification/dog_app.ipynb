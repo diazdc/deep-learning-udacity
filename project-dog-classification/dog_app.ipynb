{
 "cells": [
  {
   "cell_type": "markdown",
   "metadata": {},
   "source": []
  },
  {
   "cell_type": "markdown",
   "metadata": {},
   "source": [
    "# Convolutional Neural Networks\n",
    "\n",
    "## Project: Write an Algorithm for a Dog Identification App \n",
    "\n",
    "---\n",
    "\n",
    "In this notebook, some template code has already been provided for you, and you will need to implement additional functionality to successfully complete this project. You will not need to modify the included code beyond what is requested. Sections that begin with **'(IMPLEMENTATION)'** in the header indicate that the following block of code will require additional functionality which you must provide. Instructions will be provided for each section, and the specifics of the implementation are marked in the code block with a 'TODO' statement. Please be sure to read the instructions carefully! \n",
    "\n",
    "> **Note**: Once you have completed all of the code implementations, you need to finalize your work by exporting the Jupyter Notebook as an HTML document. Before exporting the notebook to html, all of the code cells need to have been run so that reviewers can see the final implementation and output. You can then export the notebook by using the menu above and navigating to **File -> Download as -> HTML (.html)**. Include the finished document along with this notebook as your submission.\n",
    "\n",
    "In addition to implementing code, there will be questions that you must answer which relate to the project and your implementation. Each section where you will answer a question is preceded by a **'Question X'** header. Carefully read each question and provide thorough answers in the following text boxes that begin with **'Answer:'**. Your project submission will be evaluated based on your answers to each of the questions and the implementation you provide.\n",
    "\n",
    ">**Note:** Code and Markdown cells can be executed using the **Shift + Enter** keyboard shortcut.  Markdown cells can be edited by double-clicking the cell to enter edit mode.\n",
    "\n",
    "The rubric contains _optional_ \"Stand Out Suggestions\" for enhancing the project beyond the minimum requirements. If you decide to pursue the \"Stand Out Suggestions\", you should include the code in this Jupyter notebook.\n",
    "\n",
    "\n",
    "\n",
    "---\n",
    "### Why We're Here \n",
    "\n",
    "In this notebook, you will make the first steps towards developing an algorithm that could be used as part of a mobile or web app.  At the end of this project, your code will accept any user-supplied image as input.  If a dog is detected in the image, it will provide an estimate of the dog's breed.  If a human is detected, it will provide an estimate of the dog breed that is most resembling.  The image below displays potential sample output of your finished project (... but we expect that each student's algorithm will behave differently!). \n",
    "\n",
    "![Sample Dog Output](images/sample_dog_output.png)\n",
    "\n",
    "In this real-world setting, you will need to piece together a series of models to perform different tasks; for instance, the algorithm that detects humans in an image will be different from the CNN that infers dog breed.  There are many points of possible failure, and no perfect algorithm exists.  Your imperfect solution will nonetheless create a fun user experience!\n",
    "\n",
    "### The Road Ahead\n",
    "\n",
    "We break the notebook into separate steps.  Feel free to use the links below to navigate the notebook.\n",
    "\n",
    "* [Step 0](#step0): Import Datasets\n",
    "* [Step 1](#step1): Detect Humans\n",
    "* [Step 2](#step2): Detect Dogs\n",
    "* [Step 3](#step3): Create a CNN to Classify Dog Breeds (from Scratch)\n",
    "* [Step 4](#step4): Create a CNN to Classify Dog Breeds (using Transfer Learning)\n",
    "* [Step 5](#step5): Write your Algorithm\n",
    "* [Step 6](#step6): Test Your Algorithm\n",
    "\n",
    "---\n",
    "<a id='step0'></a>\n",
    "## Step 0: Import Datasets\n",
    "\n",
    "Make sure that you've downloaded the required human and dog datasets:\n",
    "* Download the [dog dataset](https://s3-us-west-1.amazonaws.com/udacity-aind/dog-project/dogImages.zip).  Unzip the folder and place it in this project's home directory, at the location `/dog_images`. \n",
    "\n",
    "* Download the [human dataset](https://s3-us-west-1.amazonaws.com/udacity-aind/dog-project/lfw.zip).  Unzip the folder and place it in the home directory, at location `/lfw`.  \n",
    "\n",
    "*Note: If you are using a Windows machine, you are encouraged to use [7zip](http://www.7-zip.org/) to extract the folder.*\n",
    "\n",
    "In the code cell below, we save the file paths for both the human (LFW) dataset and dog dataset in the numpy arrays `human_files` and `dog_files`."
   ]
  },
  {
   "cell_type": "code",
   "execution_count": null,
   "metadata": {
    "ExecuteTime": {
     "end_time": "2019-01-18T01:56:21.335823Z",
     "start_time": "2019-01-18T01:56:21.318995Z"
    },
    "scrolled": true
   },
   "outputs": [],
   "source": [
    "import os\n",
    "os.getcwd()"
   ]
  },
  {
   "cell_type": "code",
   "execution_count": null,
   "metadata": {
    "ExecuteTime": {
     "end_time": "2019-01-18T01:56:27.907124Z",
     "start_time": "2019-01-18T01:56:21.338499Z"
    }
   },
   "outputs": [],
   "source": [
    "import numpy as np\n",
    "from glob import glob\n",
    "\n",
    "# load filenames for human and dog images\n",
    "human_files = np.array(glob('./data/lfw/*/*'))\n",
    "dog_files = np.array(glob('./data/dog_images/*/*/*'))"
   ]
  },
  {
   "cell_type": "code",
   "execution_count": null,
   "metadata": {
    "ExecuteTime": {
     "end_time": "2019-01-18T01:56:27.915921Z",
     "start_time": "2019-01-18T01:56:27.910131Z"
    }
   },
   "outputs": [],
   "source": [
    "# print number of images in each dataset\n",
    "print('There are %d total human images.' % len(human_files))\n",
    "print('There are %d total dog images.' % len(dog_files))"
   ]
  },
  {
   "cell_type": "markdown",
   "metadata": {},
   "source": [
    "<a id='step1'></a>\n",
    "## Step 1: Detect Humans\n",
    "\n",
    "In this section, we use OpenCV's implementation of [Haar feature-based cascade classifiers](http://docs.opencv.org/trunk/d7/d8b/tutorial_py_face_detection.html) to detect human faces in images.  \n",
    "\n",
    "OpenCV provides many pre-trained face detectors, stored as XML files on [github](https://github.com/opencv/opencv/tree/master/data/haarcascades).  We have downloaded one of these detectors and stored it in the `haarcascades` directory.  In the next code cell, we demonstrate how to use this detector to find human faces in a sample image."
   ]
  },
  {
   "cell_type": "code",
   "execution_count": null,
   "metadata": {
    "ExecuteTime": {
     "end_time": "2019-01-18T01:56:28.800782Z",
     "start_time": "2019-01-18T01:56:27.918842Z"
    }
   },
   "outputs": [],
   "source": [
    "import cv2              \n",
    "import matplotlib.pyplot as plt                        \n",
    "%matplotlib inline                               \n",
    "\n",
    "# extract pre-trained face detector\n",
    "face_cascade = cv2.CascadeClassifier('haarcascades/haarcascade_frontalface_alt.xml')\n",
    "\n",
    "# load color (BGR) image\n",
    "img = cv2.imread(human_files[0])\n",
    "# convert BGR image to grayscale\n",
    "gray = cv2.cvtColor(img, cv2.COLOR_BGR2GRAY)\n",
    "\n",
    "# find faces in image\n",
    "faces = face_cascade.detectMultiScale(gray)\n",
    "\n",
    "# print number of faces detected in the image\n",
    "print('Number of faces detected:', len(faces))\n",
    "\n",
    "# get bounding box for each detected face\n",
    "for (x,y,w,h) in faces:\n",
    "    # add bounding box to color image\n",
    "    cv2.rectangle(img,(x,y),(x+w,y+h),(255,0,0),2)\n",
    "    \n",
    "# convert BGR image to RGB for plotting\n",
    "cv_rgb = cv2.cvtColor(img, cv2.COLOR_BGR2RGB)\n",
    "\n",
    "# display the image, along with bounding box\n",
    "plt.imshow(cv_rgb)\n",
    "plt.show()"
   ]
  },
  {
   "cell_type": "markdown",
   "metadata": {},
   "source": [
    "Before using any of the face detectors, it is standard procedure to convert the images to grayscale.  The `detectMultiScale` function executes the classifier stored in `face_cascade` and takes the grayscale image as a parameter.  \n",
    "\n",
    "In the above code, `faces` is a numpy array of detected faces, where each row corresponds to a detected face.  Each detected face is a 1D array with four entries that specifies the bounding box of the detected face.  The first two entries in the array (extracted in the above code as `x` and `y`) specify the horizontal and vertical positions of the top left corner of the bounding box.  The last two entries in the array (extracted here as `w` and `h`) specify the width and height of the box.\n",
    "\n",
    "### Write a Human Face Detector\n",
    "\n",
    "We can use this procedure to write a function that returns `True` if a human face is detected in an image and `False` otherwise.  This function, aptly named `face_detector`, takes a string-valued file path to an image as input and appears in the code block below."
   ]
  },
  {
   "cell_type": "code",
   "execution_count": null,
   "metadata": {
    "ExecuteTime": {
     "end_time": "2019-01-18T01:56:28.805835Z",
     "start_time": "2019-01-18T01:56:28.802086Z"
    }
   },
   "outputs": [],
   "source": [
    "# returns \"True\" if face is detected in image stored at img_path\n",
    "def face_detector(img_path):\n",
    "    img = cv2.imread(img_path)\n",
    "    gray = cv2.cvtColor(img, cv2.COLOR_BGR2GRAY)\n",
    "    faces = face_cascade.detectMultiScale(gray)\n",
    "    return len(faces) > 0"
   ]
  },
  {
   "cell_type": "markdown",
   "metadata": {},
   "source": [
    "### (IMPLEMENTATION) Assess the Human Face Detector\n",
    "\n",
    "__Question 1:__ Use the code cell below to test the performance of the `face_detector` function.  \n",
    "- What percentage of the first 100 images in `human_files` have a detected human face?  \n",
    "- What percentage of the first 100 images in `dog_files` have a detected human face? \n",
    "\n",
    "Ideally, we would like 100% of human images with a detected face and 0% of dog images with a detected face.  You will see that our algorithm falls short of this goal, but still gives acceptable performance.  We extract the file paths for the first 100 images from each of the datasets and store them in the numpy arrays `human_files_short` and `dog_files_short`."
   ]
  },
  {
   "cell_type": "code",
   "execution_count": null,
   "metadata": {
    "ExecuteTime": {
     "end_time": "2019-01-18T02:02:43.865146Z",
     "start_time": "2019-01-18T01:59:05.456237Z"
    }
   },
   "outputs": [],
   "source": [
    "faces_detected = []\n",
    "for image in human_files:\n",
    "    if face_detector(image) == True:\n",
    "        faces_detected.append(image)\n",
    "len(faces_detected) / len(human_files)"
   ]
  },
  {
   "cell_type": "code",
   "execution_count": null,
   "metadata": {
    "ExecuteTime": {
     "end_time": "2019-01-18T02:11:02.313922Z",
     "start_time": "2019-01-18T02:02:43.916898Z"
    }
   },
   "outputs": [],
   "source": [
    "faces_detected = []\n",
    "for image in human_files:\n",
    "    if face_detector(image) == True:\n",
    "        faces_detected.append(image)\n",
    "print(len(faces_detected) / len(human_files),\n",
    "      'human proportion')\n",
    "\n",
    "faces_detected = []\n",
    "for image in dog_files:\n",
    "    if face_detector(image) == True:\n",
    "        faces_detected.append(image)\n",
    "print(len(faces_detected) / len(dog_files),\n",
    "     'dog proportion')"
   ]
  },
  {
   "cell_type": "markdown",
   "metadata": {},
   "source": [
    "__Answer:__ \n",
    "\n",
    "__99%__ (0.987153) of human faces were detected in the human data set, and __11%__ (0.109687) of human faces were detected in the dog data set. "
   ]
  },
  {
   "cell_type": "code",
   "execution_count": null,
   "metadata": {
    "ExecuteTime": {
     "end_time": "2019-01-18T02:11:35.210394Z",
     "start_time": "2019-01-18T02:11:35.182677Z"
    }
   },
   "outputs": [],
   "source": [
    "from tqdm import tqdm\n",
    "\n",
    "human_files_short = human_files[:100]\n",
    "dog_files_short = dog_files[:100]\n",
    "\n",
    "#-#-# Do NOT modify the code above this line. #-#-#\n",
    "\n",
    "## TODO: Test the performance of the face_detector algorithm\n",
    "## on the images in human_files_short and dog_files_short."
   ]
  },
  {
   "cell_type": "code",
   "execution_count": null,
   "metadata": {
    "ExecuteTime": {
     "end_time": "2019-01-17T00:08:00.450334Z",
     "start_time": "2019-01-17T00:07:58.645623Z"
    }
   },
   "outputs": [],
   "source": [
    "for image in tqdm(human_files_short):\n",
    "    face_detector(image)"
   ]
  },
  {
   "cell_type": "code",
   "execution_count": null,
   "metadata": {
    "ExecuteTime": {
     "end_time": "2019-01-17T00:08:05.678060Z",
     "start_time": "2019-01-17T00:08:01.403726Z"
    }
   },
   "outputs": [],
   "source": [
    "for image in tqdm(dog_files_short):\n",
    "    face_detector(image)"
   ]
  },
  {
   "cell_type": "markdown",
   "metadata": {},
   "source": [
    "We suggest the face detector from OpenCV as a potential way to detect human images in your algorithm, but you are free to explore other approaches, especially approaches that make use of deep learning :).  Please use the code cell below to design and test your own face detection algorithm.  If you decide to pursue this _optional_ task, report performance on `human_files_short` and `dog_files_short`."
   ]
  },
  {
   "cell_type": "code",
   "execution_count": null,
   "metadata": {
    "ExecuteTime": {
     "end_time": "2019-01-17T00:08:08.061838Z",
     "start_time": "2019-01-17T00:08:08.059766Z"
    }
   },
   "outputs": [],
   "source": [
    "### (Optional) \n",
    "### TODO: Test performance of anotherface detection algorithm.\n",
    "### Feel free to use as many code cells as needed."
   ]
  },
  {
   "cell_type": "markdown",
   "metadata": {},
   "source": [
    "---\n",
    "<a id='step2'></a>\n",
    "## Step 2: Detect Dogs\n",
    "\n",
    "In this section, we use a [pre-trained model](http://pytorch.org/docs/master/torchvision/models.html) to detect dogs in images.  \n",
    "\n",
    "### Obtain Pre-trained VGG-16 Model\n",
    "\n",
    "The code cell below downloads the VGG-16 model, along with weights that have been trained on [ImageNet](http://www.image-net.org/), a very large, very popular dataset used for image classification and other vision tasks.  ImageNet contains over 10 million URLs, each linking to an image containing an object from one of [1000 categories](https://gist.github.com/yrevar/942d3a0ac09ec9e5eb3a).  "
   ]
  },
  {
   "cell_type": "code",
   "execution_count": null,
   "metadata": {
    "ExecuteTime": {
     "end_time": "2019-01-18T02:11:47.752571Z",
     "start_time": "2019-01-18T02:11:42.778887Z"
    }
   },
   "outputs": [],
   "source": [
    "import torch\n",
    "import torchvision.models as models\n",
    "\n",
    "# define VGG16 model\n",
    "VGG16 = models.vgg16(pretrained=True)\n",
    "\n",
    "# check if CUDA is available\n",
    "use_cuda = torch.cuda.is_available()\n",
    "\n",
    "# move model to GPU if CUDA is available\n",
    "if use_cuda:\n",
    "    VGG16 = VGG16.cuda()"
   ]
  },
  {
   "cell_type": "markdown",
   "metadata": {},
   "source": [
    "Given an image, this pre-trained VGG-16 model returns a prediction (derived from the 1000 possible categories in ImageNet) for the object that is contained in the image."
   ]
  },
  {
   "cell_type": "markdown",
   "metadata": {},
   "source": [
    "### (IMPLEMENTATION) Making Predictions with a Pre-trained Model\n",
    "\n",
    "In the next code cell, you will write a function that accepts a path to an image (such as `'dogImages/train/001.Affenpinscher/Affenpinscher_00001.jpg'`) as input and returns the index corresponding to the ImageNet class that is predicted by the pre-trained VGG-16 model.  The output should always be an integer between 0 and 999, inclusive.\n",
    "\n",
    "Before writing the function, make sure that you take the time to learn  how to appropriately pre-process tensors for pre-trained models in the [PyTorch documentation](http://pytorch.org/docs/stable/torchvision/models.html)."
   ]
  },
  {
   "cell_type": "code",
   "execution_count": null,
   "metadata": {
    "ExecuteTime": {
     "end_time": "2019-01-18T02:13:03.794237Z",
     "start_time": "2019-01-18T02:13:03.762195Z"
    },
    "scrolled": true
   },
   "outputs": [],
   "source": [
    "from PIL import Image\n",
    "import torchvision.transforms as transforms\n",
    "\n",
    "def load_image(img_path):    \n",
    "    image = Image.open(img_path).convert('RGB')\n",
    "    in_transform = transforms.Compose([\n",
    "        transforms.Resize(size=(244, 244)),\n",
    "        transforms.ToTensor()])\n",
    "\n",
    "    # discard the transparent, alpha channel (in Style_Transfer_Exercise.ipynb)\n",
    "    image = in_transform(image)[:3,:,:].unsqueeze(0)\n",
    "    return(image)\n",
    "\n",
    "def VGG16_predict(img_path):\n",
    "    '''\n",
    "    Use pre-trained VGG-16 model to obtain index corresponding to \n",
    "    predicted ImageNet class for image at specified path\n",
    "    '''\n",
    "    img = load_image(img_path)\n",
    "    if use_cuda:\n",
    "        img = img.cuda()\n",
    "    ret = VGG16(img)\n",
    "    return torch.max(ret,1)[1].item()"
   ]
  },
  {
   "cell_type": "code",
   "execution_count": null,
   "metadata": {
    "ExecuteTime": {
     "end_time": "2019-01-18T02:13:07.131187Z",
     "start_time": "2019-01-18T02:13:07.034587Z"
    }
   },
   "outputs": [],
   "source": [
    "VGG16_predict(dog_files[0])"
   ]
  },
  {
   "cell_type": "markdown",
   "metadata": {},
   "source": [
    "### (IMPLEMENTATION) Write a Dog Detector\n",
    "\n",
    "While looking at the [dictionary](https://gist.github.com/yrevar/942d3a0ac09ec9e5eb3a), you will notice that the categories corresponding to dogs appear in an uninterrupted sequence and correspond to dictionary keys 151-268, inclusive, to include all categories from `'Chihuahua'` to `'Mexican hairless'`.  Thus, in order to check to see if an image is predicted to contain a dog by the pre-trained VGG-16 model, we need only check if the pre-trained model predicts an index between 151 and 268 (inclusive).\n",
    "\n",
    "Use these ideas to complete the `dog_detector` function below, which returns `True` if a dog is detected in an image (and `False` if not)."
   ]
  },
  {
   "cell_type": "code",
   "execution_count": null,
   "metadata": {
    "ExecuteTime": {
     "end_time": "2019-01-18T02:14:18.053834Z",
     "start_time": "2019-01-18T02:14:18.044264Z"
    }
   },
   "outputs": [],
   "source": [
    "### returns \"True\" if a dog is detected in the image stored at img_path\n",
    "## TODO: Complete the function.\n",
    "def dog_detector(img_path):\n",
    "    res = VGG16_predict(img_path)\n",
    "    if (res > 150) or (res < 269):\n",
    "        is_dog = True\n",
    "    else:\n",
    "        is_dog = False\n",
    "    return is_dog # true/false"
   ]
  },
  {
   "cell_type": "markdown",
   "metadata": {},
   "source": [
    "### (IMPLEMENTATION) Assess the Dog Detector\n",
    "\n",
    "__Question 2:__ Use the code cell below to test the performance of your `dog_detector` function.  \n",
    "- What percentage of the images in `human_files_short` have a detected dog?  \n",
    "- What percentage of the images in `dog_files_short` have a detected dog?"
   ]
  },
  {
   "cell_type": "code",
   "execution_count": null,
   "metadata": {
    "ExecuteTime": {
     "end_time": "2019-01-18T02:21:03.283498Z",
     "start_time": "2019-01-18T02:21:01.141044Z"
    }
   },
   "outputs": [],
   "source": [
    "### TODO: Test the performance of the dog_detector function\n",
    "### on the images in human_files_short and dog_files_short.\n",
    "faces_detected = []\n",
    "for image in human_files_short:\n",
    "    if dog_detector(image) == True:\n",
    "        faces_detected.append(image)\n",
    "print(len(faces_detected) / len(human_files),\n",
    "      'human proportion')\n",
    "\n",
    "faces_detected = []\n",
    "for image in dog_files_short:\n",
    "    if dog_detector(image) == True:\n",
    "        faces_detected.append(image)\n",
    "print(len(faces_detected) / len(dog_files),\n",
    "      'dog proportion')"
   ]
  },
  {
   "cell_type": "markdown",
   "metadata": {},
   "source": [
    "We suggest VGG-16 as a potential network to detect dog images in your algorithm, but you are free to explore other pre-trained networks (such as [Inception-v3](http://pytorch.org/docs/master/torchvision/models.html#inception-v3), [ResNet-50](http://pytorch.org/docs/master/torchvision/models.html#id3), etc).  Please use the code cell below to test other pre-trained PyTorch models.  If you decide to pursue this _optional_ task, report performance on `human_files_short` and `dog_files_short`."
   ]
  },
  {
   "cell_type": "code",
   "execution_count": null,
   "metadata": {},
   "outputs": [],
   "source": [
    "### (Optional) \n",
    "### TODO: Report the performance of another pre-trained network.\n",
    "### Feel free to use as many code cells as needed."
   ]
  },
  {
   "cell_type": "markdown",
   "metadata": {},
   "source": [
    "---\n",
    "<a id='step3'></a>\n",
    "## Step 3: Create a CNN to Classify Dog Breeds (from Scratch)\n",
    "\n",
    "Now that we have functions for detecting humans and dogs in images, we need a way to predict breed from images.  In this step, you will create a CNN that classifies dog breeds.  You must create your CNN _from scratch_ (so, you can't use transfer learning _yet_!), and you must attain a test accuracy of at least 10%.  In Step 4 of this notebook, you will have the opportunity to use transfer learning to create a CNN that attains greatly improved accuracy.\n",
    "\n",
    "We mention that the task of assigning breed to dogs from images is considered exceptionally challenging.  To see why, consider that *even a human* would have trouble distinguishing between a Brittany and a Welsh Springer Spaniel.  \n",
    "\n",
    "Brittany | Welsh Springer Spaniel\n",
    "- | - \n",
    "<img src=\"images/Brittany_02625.jpg\" width=\"100\"> | <img src=\"images/Welsh_springer_spaniel_08203.jpg\" width=\"200\">\n",
    "\n",
    "It is not difficult to find other dog breed pairs with minimal inter-class variation (for instance, Curly-Coated Retrievers and American Water Spaniels).  \n",
    "\n",
    "Curly-Coated Retriever | American Water Spaniel\n",
    "- | -\n",
    "<img src=\"images/Curly-coated_retriever_03896.jpg\" width=\"200\"> | <img src=\"images/American_water_spaniel_00648.jpg\" width=\"200\">\n",
    "\n",
    "\n",
    "Likewise, recall that labradors come in yellow, chocolate, and black.  Your vision-based algorithm will have to conquer this high intra-class variation to determine how to classify all of these different shades as the same breed.  \n",
    "\n",
    "Yellow Labrador | Chocolate Labrador | Black Labrador\n",
    "- | -\n",
    "<img src=\"images/Labrador_retriever_06457.jpg\" width=\"150\"> | <img src=\"images/Labrador_retriever_06455.jpg\" width=\"240\"> | <img src=\"images/Labrador_retriever_06449.jpg\" width=\"220\">\n",
    "\n",
    "We also mention that random chance presents an exceptionally low bar: setting aside the fact that the classes are slightly imabalanced, a random guess will provide a correct answer roughly 1 in 133 times, which corresponds to an accuracy of less than 1%.  \n",
    "\n",
    "Remember that the practice is far ahead of the theory in deep learning.  Experiment with many different architectures, and trust your intuition.  And, of course, have fun!\n",
    "\n",
    "### (IMPLEMENTATION) Specify Data Loaders for the Dog Dataset\n",
    "\n",
    "Use the code cell below to write three separate [data loaders](http://pytorch.org/docs/stable/data.html#torch.utils.data.DataLoader) for the training, validation, and test datasets of dog images (located at `dog_images/train`, `dog_images/valid`, and `dog_images/test`, respectively).  You may find [this documentation on custom datasets](http://pytorch.org/docs/stable/torchvision/datasets.html) to be a useful resource.  If you are interested in augmenting your training and/or validation data, check out the wide variety of [transforms](http://pytorch.org/docs/stable/torchvision/transforms.html?highlight=transform)!"
   ]
  },
  {
   "cell_type": "code",
   "execution_count": null,
   "metadata": {
    "ExecuteTime": {
     "end_time": "2019-01-22T02:43:31.326900Z",
     "start_time": "2019-01-22T02:43:30.868077Z"
    }
   },
   "outputs": [],
   "source": [
    "### TODO: Write data loaders for training, validation, and test sets\n",
    "## Specify appropriate transforms, and batch_sizes\n",
    "import os\n",
    "\n",
    "# define training and test data directories\n",
    "data_dir = './data/dog_images/'\n",
    "train_dir = os.path.join(data_dir, 'train/')\n",
    "test_dir = os.path.join(data_dir, 'test/')\n",
    "valid_dir = os.path.join(data_dir, 'valid/')\n",
    "\n",
    "# Examining dog breeds (classes)\n",
    "import re\n",
    "from glob import glob\n",
    "classes_path = train_dir + '*'\n",
    "classes_path = glob(classes_path)\n",
    "classes = []\n",
    "for i in classes_path:\n",
    "    classes.append(i.split('.')[2])\n",
    "\n",
    "print(len(classes))\n",
    "\n",
    "from PIL import ImageFile\n",
    "ImageFile.LOAD_TRUNCATED_IMAGES = True\n",
    "\n",
    "import os\n",
    "import torch\n",
    "from torchvision import transforms, datasets\n",
    "\n",
    "data_transform = transforms.Compose([\n",
    "    transforms.Resize(size=(256, 256)),\n",
    "    transforms.ToTensor()\n",
    "    ])\n",
    "\n",
    "train_data = datasets.ImageFolder(train_dir, transform=data_transform)\n",
    "valid_data = datasets.ImageFolder(test_dir, transform=data_transform)\n",
    "test_data = datasets.ImageFolder(test_dir, transform=data_transform)\n",
    "\n",
    "# print out some data stats\n",
    "print('Num training images: ', len(train_data))\n",
    "print('Num validate images: ', len(valid_data))\n",
    "print('Num test images: ', len(test_data))\n",
    "\n",
    "# define dataloader parameters\n",
    "batch_size = 20\n",
    "num_workers = 1\n",
    "\n",
    "import matplotlib.pyplot as plt\n",
    "import numpy as np\n",
    "\n",
    "# prepare data loaders\n",
    "train_loader = torch.utils.data.DataLoader(\n",
    "    train_data, batch_size=batch_size, num_workers=num_workers, shuffle=True)\n",
    "valid_loader = torch.utils.data.DataLoader(\n",
    "    valid_data, batch_size=batch_size, num_workers=num_workers, shuffle=True)\n",
    "test_loader = torch.utils.data.DataLoader(\n",
    "    test_data, batch_size=batch_size, num_workers=num_workers, shuffle=True)\n",
    "\n",
    "loaders = {'train':train_loader, 'valid':valid_loader, 'test':test_loader}"
   ]
  },
  {
   "cell_type": "code",
   "execution_count": null,
   "metadata": {
    "ExecuteTime": {
     "end_time": "2019-01-21T20:03:49.972774Z",
     "start_time": "2019-01-21T20:03:49.122975Z"
    }
   },
   "outputs": [],
   "source": [
    "# Visualize sample data\n",
    "dataiter = iter(train_loader)\n",
    "images, labels = dataiter.next()\n",
    "images = images.numpy() # convert images to numpy for display\n",
    "\n",
    "# plot the images in the batch, along with the corresponding labels\n",
    "fig = plt.figure(figsize=(25, 4))\n",
    "for idx in np.arange(20):\n",
    "    ax = fig.add_subplot(2, 20/2, idx+1, xticks=[], yticks=[])\n",
    "    plt.imshow(np.transpose(images[idx], (1, 2, 0)))\n",
    "    ax.set_title(classes[labels[idx]])"
   ]
  },
  {
   "cell_type": "raw",
   "metadata": {
    "ExecuteTime": {
     "end_time": "2019-01-21T20:03:50.321530Z",
     "start_time": "2019-01-21T20:03:49.975020Z"
    }
   },
   "source": [
    "plt.show()"
   ]
  },
  {
   "cell_type": "markdown",
   "metadata": {},
   "source": [
    "**Question 3:** Describe your chosen procedure for preprocessing the data. \n",
    "- How does your code resize the images (by cropping, stretching, etc)?  What size did you pick for the input tensor, and why?\n",
    "- Did you decide to augment the dataset?  If so, how (through translations, flips, rotations, etc)?  If not, why not?\n"
   ]
  },
  {
   "cell_type": "markdown",
   "metadata": {},
   "source": [
    "**Answer**: I decided not to implement random cropping. Doing so would potentially leave out the dog's face and hinder the accuracy of the model. "
   ]
  },
  {
   "cell_type": "markdown",
   "metadata": {},
   "source": [
    "### (IMPLEMENTATION) Model Architecture\n",
    "\n",
    "Create a CNN to classify dog breed.  Use the template in the code cell below."
   ]
  },
  {
   "cell_type": "code",
   "execution_count": null,
   "metadata": {
    "ExecuteTime": {
     "end_time": "2019-01-22T02:43:31.386447Z",
     "start_time": "2019-01-22T02:43:31.329705Z"
    }
   },
   "outputs": [],
   "source": [
    "import torch.nn as nn\n",
    "import torch.nn.functional as F\n",
    "use_cuda = torch.cuda.is_available()\n",
    "print(use_cuda)"
   ]
  },
  {
   "cell_type": "code",
   "execution_count": null,
   "metadata": {
    "ExecuteTime": {
     "end_time": "2019-01-22T02:43:38.821400Z",
     "start_time": "2019-01-22T02:43:35.587766Z"
    }
   },
   "outputs": [],
   "source": [
    "# define the CNN architecture\n",
    "class Net(nn.Module):\n",
    "    ### TODO: choose an architecture, and complete the class\n",
    "    def __init__(self):\n",
    "        super(Net, self).__init__()\n",
    "        # nn.Conv2d(in_channels, out_channels, kernal_size)\n",
    "        # note: maxpool halves x-y dims for each conv layer\n",
    "        \n",
    "        # in 256x256x3 tensor\n",
    "        self.conv1 = nn.Conv2d(3, 32, 3, padding=1)\n",
    "        # in 16x16x16 tensor\n",
    "        self.conv2 = nn.Conv2d(32, 64, 3, padding=1)\n",
    "        # in 8x8x32 tensor\n",
    "        self.conv3 = nn.Conv2d(64, 128, 3, padding=1)\n",
    "        # out 4x4x64 tensor - input to 1st linear layer\n",
    "        \n",
    "        # max pool reduces x-y dims by 1/2\n",
    "        self.pool = nn.MaxPool2d(2, 2)\n",
    "        self.fc1 = nn.Linear(128 * 32 * 32, 500)\n",
    "        self.fc1 = nn.DataParallel(self.fc1)\n",
    "        self.fc2 = nn.Linear(500, 133)\n",
    "        self.fc2 = nn.DataParallel(self.fc2)\n",
    "        self.dropout = nn.Dropout(0.25)\n",
    "    \n",
    "    def forward(self, x):\n",
    "        x = self.pool(F.relu(self.conv1(x)))\n",
    "        x = self.pool(F.relu(self.conv2(x)))\n",
    "        x = self.pool(F.relu(self.conv3(x)))\n",
    "        x = x.view(-1, 128 * 32 * 32)\n",
    "        x = self.dropout(x)\n",
    "        x = F.relu(self.fc1(x))\n",
    "        x = self.dropout(x)\n",
    "        x = self.fc2(x)\n",
    "        return x\n",
    "\n",
    "#-#-# You so NOT have to modify the code below this line. #-#-#\n",
    "# instantiate the CNN\n",
    "model_scratch = Net()\n",
    "\n",
    "# move tensors to GPU if CUDA is available\n",
    "if use_cuda:\n",
    "    model_scratch.cuda()"
   ]
  },
  {
   "cell_type": "markdown",
   "metadata": {},
   "source": [
    "__Question 4:__ Outline the steps you took to get to your final CNN architecture and your reasoning at each step.  "
   ]
  },
  {
   "cell_type": "markdown",
   "metadata": {},
   "source": [
    "__Answer:__ "
   ]
  },
  {
   "cell_type": "markdown",
   "metadata": {},
   "source": [
    "### (IMPLEMENTATION) Specify Loss Function and Optimizer\n",
    "\n",
    "Use the next code cell to specify a [loss function](http://pytorch.org/docs/stable/nn.html#loss-functions) and [optimizer](http://pytorch.org/docs/stable/optim.html).  Save the chosen loss function as `criterion_scratch`, and the optimizer as `optimizer_scratch` below."
   ]
  },
  {
   "cell_type": "code",
   "execution_count": null,
   "metadata": {
    "ExecuteTime": {
     "end_time": "2019-01-22T02:44:00.516048Z",
     "start_time": "2019-01-22T02:44:00.508773Z"
    }
   },
   "outputs": [],
   "source": [
    "import torch.optim as optim\n",
    "\n",
    "### TODO: select loss function\n",
    "criterion_scratch = nn.CrossEntropyLoss()\n",
    "\n",
    "### TODO: select optimizer\n",
    "optimizer_scratch = optim.SGD(model_scratch.parameters(), lr=0.01)"
   ]
  },
  {
   "cell_type": "markdown",
   "metadata": {},
   "source": [
    "### (IMPLEMENTATION) Train and Validate the Model\n",
    "\n",
    "Train and validate your model in the code cell below.  [Save the final model parameters](http://pytorch.org/docs/master/notes/serialization.html) at filepath `'model_scratch.pt'`."
   ]
  },
  {
   "cell_type": "code",
   "execution_count": null,
   "metadata": {
    "ExecuteTime": {
     "end_time": "2019-01-23T03:13:24.134943Z",
     "start_time": "2019-01-23T03:13:24.022146Z"
    }
   },
   "outputs": [],
   "source": [
    "def train(n_epochs, loaders, model, optimizer, criterion, use_cuda, save_path):\n",
    "    \"\"\"returns trained model\"\"\"\n",
    "    # initialize tracker for minimum validation loss\n",
    "    valid_loss_min = np.Inf \n",
    "    \n",
    "    for epoch in range(1, n_epochs+1):\n",
    "        # initialize variables to monitor training and validation loss\n",
    "        train_loss = 0.0\n",
    "        valid_loss = 0.0\n",
    "        \n",
    "        # train the model\n",
    "        model.train()\n",
    "        for batch_idx, (data, target) in enumerate(loaders['test']):\n",
    "            # move to GPU\n",
    "            if use_cuda:\n",
    "                data, target = data.cuda(), target.cuda()\n",
    "            # clear the gradients of all optimized variables\n",
    "            optimizer.zero_grad()\n",
    "            # forward pass\n",
    "            output = model(data)\n",
    "            # calculate the batch loss\n",
    "            loss = criterion(output, target)\n",
    "            # backward pass: compute gradient of the loss with respect to model parameters\n",
    "            loss.backward()\n",
    "            # perform a single optimization step (parameter update)\n",
    "            optimizer.step()\n",
    "            # update training loss\n",
    "            train_loss += loss.item()*data.size(0)\n",
    "        \n",
    "        # validate the model       \n",
    "        model.eval()\n",
    "        for batch_idx, (data, target) in enumerate(loaders['valid']):\n",
    "            # move to GPU\n",
    "            if use_cuda:\n",
    "                data, target = data.cuda(), target.cuda()\n",
    "            # forward pass: compute predicted outputs by passing inputs to the model\n",
    "            output = model(data)\n",
    "            # calculate the batch loss\n",
    "            loss = criterion(output, target)\n",
    "            # update average validation loss \n",
    "            valid_loss += loss.item()*data.size(0)\n",
    "\n",
    "        # print training/validation statistics \n",
    "        print('Epoch: {} \\tTraining Loss: {:.6f} \\tValidation Loss: {:.6f}'.format(\n",
    "            epoch, train_loss, valid_loss))\n",
    "\n",
    "        ## TODO: save the model if validation loss has decreased\n",
    "        if valid_loss <= valid_loss_min:\n",
    "            print('Validation loss decreased ({:.6f} --> {:.6f}).  Saving model ...'.format(\n",
    "                valid_loss_min, valid_loss))\n",
    "        torch.save(model.state_dict(), 'model_scratch.pt')\n",
    "        valid_loss_min = valid_loss\n",
    "\n",
    "    # return trained model\n",
    "    return model"
   ]
  },
  {
   "cell_type": "code",
   "execution_count": null,
   "metadata": {
    "ExecuteTime": {
     "end_time": "2019-01-22T02:47:10.589658Z",
     "start_time": "2019-01-22T02:44:02.631756Z"
    },
    "scrolled": false
   },
   "outputs": [],
   "source": [
    "# train the model\n",
    "model_scratch = train(10, loaders, model_scratch, optimizer_scratch,\n",
    "    criterion_scratch, use_cuda, 'model_scratch.pt')"
   ]
  },
  {
   "cell_type": "code",
   "execution_count": null,
   "metadata": {
    "ExecuteTime": {
     "end_time": "2019-01-22T02:47:10.956893Z",
     "start_time": "2019-01-22T02:47:10.771329Z"
    },
    "scrolled": true
   },
   "outputs": [],
   "source": [
    "# load the model that got the best validation accuracy\n",
    "model_scratch.load_state_dict(torch.load('model_scratch.pt'))"
   ]
  },
  {
   "cell_type": "markdown",
   "metadata": {},
   "source": [
    "### (IMPLEMENTATION) Test the Model\n",
    "\n",
    "Try out your model on the test dataset of dog images.  Use the code cell below to calculate and print the test loss and accuracy.  Ensure that your test accuracy is greater than 10%."
   ]
  },
  {
   "cell_type": "code",
   "execution_count": null,
   "metadata": {
    "ExecuteTime": {
     "end_time": "2019-01-22T02:47:19.773637Z",
     "start_time": "2019-01-22T02:47:11.080698Z"
    }
   },
   "outputs": [],
   "source": [
    "def test(loaders, model, criterion, use_cuda):\n",
    "\n",
    "    # monitor test loss and accuracy\n",
    "    test_loss = 0.\n",
    "    correct = 0.\n",
    "    total = 0.\n",
    "\n",
    "    model.eval()\n",
    "    for batch_idx, (data, target) in enumerate(loaders['test']):\n",
    "        # move to GPU\n",
    "        if use_cuda:\n",
    "            data, target = data.cuda(), target.cuda()\n",
    "        # forward pass\n",
    "        output = model(data)\n",
    "        # calculate loss\n",
    "        loss = criterion(output, target)\n",
    "        # update average test loss \n",
    "        test_loss = test_loss + ((1 / (batch_idx + 1)) * (loss.data - test_loss))\n",
    "        # convert output probabilities to predicted class\n",
    "        pred = output.data.max(1, keepdim=True)[1]\n",
    "        # compare predictions to true label\n",
    "        correct += np.sum(np.squeeze(pred.eq(target.data.view_as(pred))).cpu().numpy())\n",
    "        total += data.size(0)\n",
    "            \n",
    "    print('Test Loss: {:.6f}\\n'.format(test_loss))\n",
    "\n",
    "    print('\\nTest Accuracy: %2d%% (%2d/%2d)' % (\n",
    "        100. * correct / total, correct, total))\n",
    "\n",
    "# call test function    \n",
    "test(loaders, model_scratch, criterion_scratch, use_cuda)"
   ]
  },
  {
   "cell_type": "markdown",
   "metadata": {},
   "source": [
    "---\n",
    "<a id='step4'></a>\n",
    "## Step 4: Create a CNN to Classify Dog Breeds (using Transfer Learning)\n",
    "\n",
    "You will now use transfer learning to create a CNN that can identify dog breed from images.  Your CNN must attain at least 60% accuracy on the test set.\n",
    "\n",
    "### (IMPLEMENTATION) Specify Data Loaders for the Dog Dataset\n",
    "\n",
    "Use the code cell below to write three separate [data loaders](http://pytorch.org/docs/master/data.html#torch.utils.data.DataLoader) for the training, validation, and test datasets of dog images (located at `dogImages/train`, `dogImages/valid`, and `dogImages/test`, respectively). \n",
    "\n",
    "If you like, **you are welcome to use the same data loaders from the previous step**, when you created a CNN from scratch."
   ]
  },
  {
   "cell_type": "code",
   "execution_count": 8,
   "metadata": {
    "ExecuteTime": {
     "end_time": "2019-01-23T06:25:21.864366Z",
     "start_time": "2019-01-23T06:25:21.849809Z"
    }
   },
   "outputs": [],
   "source": [
    "## TODO: Specify data loaders\n",
    "## Specify appropriate transforms, and batch_sizes\n",
    "import os\n",
    "import re\n",
    "from glob import glob\n",
    "from PIL import ImageFile\n",
    "from PIL import Image\n",
    "ImageFile.LOAD_TRUNCATED_IMAGES = True\n",
    "import torch\n",
    "from torchvision import transforms, datasets\n",
    "import matplotlib.pyplot as plt\n",
    "import numpy as np\n",
    "import torchvision.models as models\n",
    "import torch.nn as nn\n",
    "import torch.optim as optim"
   ]
  },
  {
   "cell_type": "code",
   "execution_count": 9,
   "metadata": {
    "ExecuteTime": {
     "end_time": "2019-01-23T06:25:25.021153Z",
     "start_time": "2019-01-23T06:25:24.564601Z"
    }
   },
   "outputs": [
    {
     "name": "stdout",
     "output_type": "stream",
     "text": [
      "133\n",
      "Num training images:  6680\n",
      "Num validate images:  836\n",
      "Num test images:  836\n"
     ]
    }
   ],
   "source": [
    "# define training and test data directories\n",
    "data_dir = './data/dog_images/'\n",
    "train_dir = os.path.join(data_dir, 'train/')\n",
    "test_dir = os.path.join(data_dir, 'test/')\n",
    "valid_dir = os.path.join(data_dir, 'valid/')\n",
    "\n",
    "# Examining dog breeds (classes)\n",
    "classes_path = train_dir + '*'\n",
    "classes_path = glob(classes_path)\n",
    "classes = []\n",
    "for i in classes_path:\n",
    "    classes.append(i.split('.')[2])\n",
    "\n",
    "print(len(classes))\n",
    "\n",
    "data_transform = transforms.Compose([\n",
    "    transforms.Resize(size=(224, 224)),\n",
    "    transforms.ToTensor()\n",
    "    ])\n",
    "\n",
    "train_data = datasets.ImageFolder(train_dir, transform=data_transform)\n",
    "valid_data = datasets.ImageFolder(test_dir, transform=data_transform)\n",
    "test_data = datasets.ImageFolder(test_dir, transform=data_transform)\n",
    "\n",
    "# print out some data stats\n",
    "print('Num training images: ', len(train_data))\n",
    "print('Num validate images: ', len(valid_data))\n",
    "print('Num test images: ', len(test_data))\n",
    "\n",
    "# define dataloader parameters\n",
    "batch_size = 20\n",
    "num_workers = 1\n",
    "\n",
    "# prepare data loaders\n",
    "train_loader = torch.utils.data.DataLoader(\n",
    "    train_data, batch_size=batch_size, num_workers=num_workers, shuffle=True)\n",
    "valid_loader = torch.utils.data.DataLoader(\n",
    "    valid_data, batch_size=batch_size, num_workers=num_workers, shuffle=True)\n",
    "test_loader = torch.utils.data.DataLoader(\n",
    "    test_data, batch_size=batch_size, num_workers=num_workers, shuffle=True)\n",
    "\n",
    "loaders = {'train':train_loader, 'valid':valid_loader, 'test':test_loader}"
   ]
  },
  {
   "cell_type": "code",
   "execution_count": 32,
   "metadata": {
    "ExecuteTime": {
     "end_time": "2019-01-23T06:45:20.229101Z",
     "start_time": "2019-01-23T06:45:20.224226Z"
    }
   },
   "outputs": [
    {
     "name": "stdout",
     "output_type": "stream",
     "text": [
      "['Xoloitzcuintli', 'Yorkshire_terrier', 'German_shepherd_dog', 'Chow_chow', 'Saint_bernard', 'Irish_water_spaniel', 'Lakeland_terrier', 'Black_russian_terrier', 'Norwich_terrier', 'Glen_of_imaal_terrier', 'Basset_hound', 'Portuguese_water_dog', 'Icelandic_sheepdog', 'Boston_terrier', 'Flat-coated_retriever', 'Afghan_hound', 'Chesapeake_bay_retriever', 'American_eskimo_dog', 'Boxer', 'Labrador_retriever', 'Kuvasz', 'Chinese_shar-pei', 'Italian_greyhound', 'Petit_basset_griffon_vendeen', 'Australian_cattle_dog', 'Brittany', 'French_bulldog', 'Ibizan_hound', 'Belgian_malinois', 'Norfolk_terrier', 'Greyhound', 'Cairn_terrier', 'Airedale_terrier', 'Lowchen', 'Neapolitan_mastiff', 'Norwegian_buhund', 'Gordon_setter', 'Borzoi', 'German_wirehaired_pointer', 'Brussels_griffon', 'Cocker_spaniel', 'Plott', 'English_cocker_spaniel', 'Newfoundland', 'Australian_terrier', 'Cavalier_king_charles_spaniel', 'Bichon_frise', 'Bluetick_coonhound', 'Akita', 'Bull_terrier', 'Dogue_de_bordeaux', 'Border_terrier', 'Curly-coated_retriever', 'Keeshond', 'Papillon', 'Belgian_tervuren', 'Parson_russell_terrier', 'Smooth_fox_terrier', 'Boykin_spaniel', 'Komondor', 'Belgian_sheepdog', 'Pointer', 'English_toy_spaniel', 'Havanese', 'Irish_wolfhound', 'Irish_red_and_white_setter', 'Tibetan_mastiff', 'Chinese_crested', 'Welsh_springer_spaniel', 'Field_spaniel', 'Pharaoh_hound', 'Otterhound', 'Golden_retriever', 'Black_and_tan_coonhound', 'Manchester_terrier', 'Pekingese', 'Irish_setter', 'Chihuahua', 'Border_collie', 'Finnish_spitz', 'Beauceron', 'Kerry_blue_terrier', 'German_pinscher', 'Affenpinscher', 'Great_dane', 'American_water_spaniel', 'Lhasa_apso', 'Dachshund', 'Poodle', 'English_springer_spaniel', 'Beagle', 'Irish_terrier', 'Anatolian_shepherd_dog', 'Briard', 'Old_english_sheepdog', 'Greater_swiss_mountain_dog', 'Silky_terrier', 'Miniature_schnauzer', 'Canaan_dog', 'German_shorthaired_pointer', 'Cane_corso', 'Maltese', 'Mastiff', 'Japanese_chin', 'Dalmatian', 'Australian_shepherd', 'Dandie_dinmont_terrier', 'Basenji', 'Entlebucher_mountain_dog', 'Bedlington_terrier', 'Norwegian_lundehund', 'Collie', 'Wirehaired_pointing_griffon', 'Doberman_pinscher', 'Bouvier_des_flandres', 'Alaskan_malamute', 'American_foxhound', 'Giant_schnauzer', 'Pembroke_welsh_corgi', 'Bloodhound', 'Bullmastiff', 'Leonberger', 'English_setter', 'Bernese_mountain_dog', 'Bulldog', 'Pomeranian', 'Clumber_spaniel', 'Norwegian_elkhound', 'Nova_scotia_duck_tolling_retriever', 'Bearded_collie', 'Cardigan_welsh_corgi', 'American_staffordshire_terrier', 'Great_pyrenees']\n"
     ]
    }
   ],
   "source": [
    "print(classes)"
   ]
  },
  {
   "cell_type": "markdown",
   "metadata": {},
   "source": [
    "### (IMPLEMENTATION) Model Architecture\n",
    "\n",
    "Use transfer learning to create a CNN to classify dog breed.  Use the code cell below, and save your initialized model as the variable `model_transfer`."
   ]
  },
  {
   "cell_type": "code",
   "execution_count": 10,
   "metadata": {
    "ExecuteTime": {
     "end_time": "2019-01-23T06:25:45.004816Z",
     "start_time": "2019-01-23T06:25:43.734831Z"
    }
   },
   "outputs": [
    {
     "name": "stdout",
     "output_type": "stream",
     "text": [
      "4096\n",
      "1000\n"
     ]
    }
   ],
   "source": [
    "use_cuda = torch.cuda.is_available()\n",
    "\n",
    "## TODO: Specify model architecture \n",
    "model_transfer = models.vgg16(pretrained=True)\n",
    "\n",
    "print(model_transfer.classifier[6].in_features) \n",
    "print(model_transfer.classifier[6].out_features)\n",
    "\n",
    "for param in model_transfer.features.parameters():\n",
    "    param.requires_grad = False"
   ]
  },
  {
   "cell_type": "code",
   "execution_count": 11,
   "metadata": {
    "ExecuteTime": {
     "end_time": "2019-01-23T06:25:58.268384Z",
     "start_time": "2019-01-23T06:25:58.142326Z"
    }
   },
   "outputs": [
    {
     "name": "stdout",
     "output_type": "stream",
     "text": [
      "DataParallel(\n",
      "  (module): VGG(\n",
      "    (features): Sequential(\n",
      "      (0): Conv2d(3, 64, kernel_size=(3, 3), stride=(1, 1), padding=(1, 1))\n",
      "      (1): ReLU(inplace)\n",
      "      (2): Conv2d(64, 64, kernel_size=(3, 3), stride=(1, 1), padding=(1, 1))\n",
      "      (3): ReLU(inplace)\n",
      "      (4): MaxPool2d(kernel_size=2, stride=2, padding=0, dilation=1, ceil_mode=False)\n",
      "      (5): Conv2d(64, 128, kernel_size=(3, 3), stride=(1, 1), padding=(1, 1))\n",
      "      (6): ReLU(inplace)\n",
      "      (7): Conv2d(128, 128, kernel_size=(3, 3), stride=(1, 1), padding=(1, 1))\n",
      "      (8): ReLU(inplace)\n",
      "      (9): MaxPool2d(kernel_size=2, stride=2, padding=0, dilation=1, ceil_mode=False)\n",
      "      (10): Conv2d(128, 256, kernel_size=(3, 3), stride=(1, 1), padding=(1, 1))\n",
      "      (11): ReLU(inplace)\n",
      "      (12): Conv2d(256, 256, kernel_size=(3, 3), stride=(1, 1), padding=(1, 1))\n",
      "      (13): ReLU(inplace)\n",
      "      (14): Conv2d(256, 256, kernel_size=(3, 3), stride=(1, 1), padding=(1, 1))\n",
      "      (15): ReLU(inplace)\n",
      "      (16): MaxPool2d(kernel_size=2, stride=2, padding=0, dilation=1, ceil_mode=False)\n",
      "      (17): Conv2d(256, 512, kernel_size=(3, 3), stride=(1, 1), padding=(1, 1))\n",
      "      (18): ReLU(inplace)\n",
      "      (19): Conv2d(512, 512, kernel_size=(3, 3), stride=(1, 1), padding=(1, 1))\n",
      "      (20): ReLU(inplace)\n",
      "      (21): Conv2d(512, 512, kernel_size=(3, 3), stride=(1, 1), padding=(1, 1))\n",
      "      (22): ReLU(inplace)\n",
      "      (23): MaxPool2d(kernel_size=2, stride=2, padding=0, dilation=1, ceil_mode=False)\n",
      "      (24): Conv2d(512, 512, kernel_size=(3, 3), stride=(1, 1), padding=(1, 1))\n",
      "      (25): ReLU(inplace)\n",
      "      (26): Conv2d(512, 512, kernel_size=(3, 3), stride=(1, 1), padding=(1, 1))\n",
      "      (27): ReLU(inplace)\n",
      "      (28): Conv2d(512, 512, kernel_size=(3, 3), stride=(1, 1), padding=(1, 1))\n",
      "      (29): ReLU(inplace)\n",
      "      (30): MaxPool2d(kernel_size=2, stride=2, padding=0, dilation=1, ceil_mode=False)\n",
      "    )\n",
      "    (classifier): Sequential(\n",
      "      (0): Linear(in_features=25088, out_features=4096, bias=True)\n",
      "      (1): ReLU(inplace)\n",
      "      (2): Dropout(p=0.5)\n",
      "      (3): Linear(in_features=4096, out_features=4096, bias=True)\n",
      "      (4): ReLU(inplace)\n",
      "      (5): Dropout(p=0.5)\n",
      "      (6): Linear(in_features=4096, out_features=133, bias=True)\n",
      "    )\n",
      "  )\n",
      ")\n"
     ]
    }
   ],
   "source": [
    "n_inputs = model_transfer.classifier[6].in_features\n",
    "last_layer = nn.Linear(n_inputs, len(classes))\n",
    "model_transfer.classifier[6] = last_layer\n",
    "\n",
    "if use_cuda:\n",
    "    model_transfer = nn.DataParallel(model_transfer.cuda())\n",
    "\n",
    "# print out the model structure\n",
    "print(model_transfer)"
   ]
  },
  {
   "cell_type": "markdown",
   "metadata": {},
   "source": [
    "__Question 5:__ Outline the steps you took to get to your final CNN architecture and your reasoning at each step.  Describe why you think the architecture is suitable for the current problem."
   ]
  },
  {
   "cell_type": "markdown",
   "metadata": {},
   "source": [
    "__Answer:__ \n"
   ]
  },
  {
   "cell_type": "markdown",
   "metadata": {},
   "source": [
    "### (IMPLEMENTATION) Specify Loss Function and Optimizer\n",
    "\n",
    "Use the next code cell to specify a [loss function](http://pytorch.org/docs/master/nn.html#loss-functions) and [optimizer](http://pytorch.org/docs/master/optim.html).  Save the chosen loss function as `criterion_transfer`, and the optimizer as `optimizer_transfer` below."
   ]
  },
  {
   "cell_type": "code",
   "execution_count": 12,
   "metadata": {
    "ExecuteTime": {
     "end_time": "2019-01-23T06:26:02.766790Z",
     "start_time": "2019-01-23T06:26:02.761914Z"
    }
   },
   "outputs": [],
   "source": [
    "### TODO: select loss function\n",
    "criterion_transfer = nn.CrossEntropyLoss()\n",
    "\n",
    "### TODO: select optimizer\n",
    "optimizer_transfer = optim.SGD(model_transfer.parameters(), lr=0.01)"
   ]
  },
  {
   "cell_type": "markdown",
   "metadata": {},
   "source": [
    "### (IMPLEMENTATION) Train and Validate the Model\n",
    "\n",
    "Train and validate your model in the code cell below.  [Save the final model parameters](http://pytorch.org/docs/master/notes/serialization.html) at filepath `'model_transfer.pt'`."
   ]
  },
  {
   "cell_type": "raw",
   "metadata": {
    "ExecuteTime": {
     "end_time": "2019-01-23T03:53:13.252330Z",
     "start_time": "2019-01-23T03:14:29.443124Z"
    },
    "collapsed": true
   },
   "source": [
    "# Define train function from scratch model\n",
    "model_transfer = train(100, loaders, model_transfer,\n",
    "    optimizer_transfer, criterion_transfer, use_cuda, 'model_transfer.pt')"
   ]
  },
  {
   "cell_type": "code",
   "execution_count": 13,
   "metadata": {
    "ExecuteTime": {
     "end_time": "2019-01-23T06:26:10.842981Z",
     "start_time": "2019-01-23T06:26:10.562559Z"
    }
   },
   "outputs": [],
   "source": [
    "model_transfer.load_state_dict(torch.load('model_transfer.pt'))"
   ]
  },
  {
   "cell_type": "markdown",
   "metadata": {},
   "source": [
    "### (IMPLEMENTATION) Test the Model\n",
    "\n",
    "Try out your model on the test dataset of dog images. Use the code cell below to calculate and print the test loss and accuracy.  Ensure that your test accuracy is greater than 60%."
   ]
  },
  {
   "cell_type": "code",
   "execution_count": 14,
   "metadata": {
    "ExecuteTime": {
     "end_time": "2019-01-23T06:26:24.331581Z",
     "start_time": "2019-01-23T06:26:24.284474Z"
    }
   },
   "outputs": [],
   "source": [
    "def test(loaders, model, criterion, use_cuda):\n",
    "\n",
    "    # monitor test loss and accuracy\n",
    "    test_loss = 0.\n",
    "    correct = 0.\n",
    "    total = 0.\n",
    "\n",
    "    model.eval()\n",
    "    for batch_idx, (data, target) in enumerate(loaders['test']):\n",
    "        # move to GPU\n",
    "        if use_cuda:\n",
    "            data, target = data.cuda(), target.cuda()\n",
    "        # forward pass\n",
    "        output = model(data)\n",
    "        # calculate loss\n",
    "        loss = criterion(output, target)\n",
    "        # update average test loss \n",
    "        test_loss = test_loss + ((1 / (batch_idx + 1)) * (loss.data - test_loss))\n",
    "        # convert output probabilities to predicted class\n",
    "        pred = output.data.max(1, keepdim=True)[1]\n",
    "        # compare predictions to true label\n",
    "        correct += np.sum(np.squeeze(pred.eq(target.data.view_as(pred))).cpu().numpy())\n",
    "        total += data.size(0)\n",
    "            \n",
    "    print('Test Loss: {:.6f}\\n'.format(test_loss))\n",
    "\n",
    "    print('\\nTest Accuracy: %2d%% (%2d/%2d)' % (\n",
    "        100. * correct / total, correct, total))"
   ]
  },
  {
   "cell_type": "code",
   "execution_count": null,
   "metadata": {
    "ExecuteTime": {
     "end_time": "2019-01-23T04:15:38.008572Z",
     "start_time": "2019-01-23T04:15:29.330768Z"
    }
   },
   "outputs": [],
   "source": [
    "# call test function    \n",
    "test(loaders, model_transfer, criterion_transfer, use_cuda)"
   ]
  },
  {
   "cell_type": "markdown",
   "metadata": {},
   "source": [
    "### (IMPLEMENTATION) Predict Dog Breed with the Model\n",
    "\n",
    "Write a function that takes an image path as input and returns the dog breed (`Affenpinscher`, `Afghan hound`, etc) that is predicted by your model.  "
   ]
  },
  {
   "cell_type": "code",
   "execution_count": 15,
   "metadata": {
    "ExecuteTime": {
     "end_time": "2019-01-23T06:26:39.301408Z",
     "start_time": "2019-01-23T06:26:39.160143Z"
    }
   },
   "outputs": [],
   "source": [
    "img_path = glob(test_dir + '*/*')"
   ]
  },
  {
   "cell_type": "code",
   "execution_count": 26,
   "metadata": {
    "ExecuteTime": {
     "end_time": "2019-01-23T06:34:31.239938Z",
     "start_time": "2019-01-23T06:34:31.219109Z"
    },
    "scrolled": true
   },
   "outputs": [
    {
     "data": {
      "text/plain": [
       "['./data/dog_images/test/132.Xoloitzcuintli/Xoloitzcuintli_08281.jpg',\n",
       " './data/dog_images/test/132.Xoloitzcuintli/Xoloitzcuintli_08294.jpg',\n",
       " './data/dog_images/test/132.Xoloitzcuintli/Xoloitzcuintli_08312.jpg',\n",
       " './data/dog_images/test/133.Yorkshire_terrier/Yorkshire_terrier_08326.jpg',\n",
       " './data/dog_images/test/133.Yorkshire_terrier/Yorkshire_terrier_08325.jpg',\n",
       " './data/dog_images/test/133.Yorkshire_terrier/Yorkshire_terrier_08346.jpg',\n",
       " './data/dog_images/test/133.Yorkshire_terrier/Yorkshire_terrier_08337.jpg',\n",
       " './data/dog_images/test/071.German_shepherd_dog/German_shepherd_dog_04912.jpg',\n",
       " './data/dog_images/test/071.German_shepherd_dog/German_shepherd_dog_04955.jpg',\n",
       " './data/dog_images/test/071.German_shepherd_dog/German_shepherd_dog_04886.jpg',\n",
       " './data/dog_images/test/071.German_shepherd_dog/German_shepherd_dog_04960.jpg',\n",
       " './data/dog_images/test/071.German_shepherd_dog/German_shepherd_dog_04910.jpg',\n",
       " './data/dog_images/test/071.German_shepherd_dog/German_shepherd_dog_04938.jpg',\n",
       " './data/dog_images/test/071.German_shepherd_dog/German_shepherd_dog_04931.jpg',\n",
       " './data/dog_images/test/071.German_shepherd_dog/German_shepherd_dog_04961.jpg',\n",
       " './data/dog_images/test/051.Chow_chow/Chow_chow_03591.jpg',\n",
       " './data/dog_images/test/051.Chow_chow/Chow_chow_03664.jpg',\n",
       " './data/dog_images/test/051.Chow_chow/Chow_chow_03599.jpg',\n",
       " './data/dog_images/test/051.Chow_chow/Chow_chow_03660.jpg',\n",
       " './data/dog_images/test/051.Chow_chow/Chow_chow_03637.jpg',\n",
       " './data/dog_images/test/051.Chow_chow/Chow_chow_03608.jpg',\n",
       " './data/dog_images/test/051.Chow_chow/Chow_chow_03592.jpg',\n",
       " './data/dog_images/test/051.Chow_chow/Chow_chow_03654.jpg',\n",
       " './data/dog_images/test/126.Saint_bernard/Saint_bernard_08036.jpg',\n",
       " './data/dog_images/test/126.Saint_bernard/Saint_bernard_08019.jpg',\n",
       " './data/dog_images/test/126.Saint_bernard/Saint_bernard_08020.jpg',\n",
       " './data/dog_images/test/088.Irish_water_spaniel/Irish_water_spaniel_05972.jpg',\n",
       " './data/dog_images/test/088.Irish_water_spaniel/Irish_water_spaniel_05969.jpg',\n",
       " './data/dog_images/test/088.Irish_water_spaniel/Irish_water_spaniel_05983.jpg',\n",
       " './data/dog_images/test/088.Irish_water_spaniel/Irish_water_spaniel_05975.jpg',\n",
       " './data/dog_images/test/088.Irish_water_spaniel/Irish_water_spaniel_06011.jpg',\n",
       " './data/dog_images/test/088.Irish_water_spaniel/Irish_water_spaniel_06016.jpg',\n",
       " './data/dog_images/test/097.Lakeland_terrier/Lakeland_terrier_06517.jpg',\n",
       " './data/dog_images/test/097.Lakeland_terrier/Lakeland_terrier_06550.jpg',\n",
       " './data/dog_images/test/097.Lakeland_terrier/Lakeland_terrier_06558.jpg',\n",
       " './data/dog_images/test/097.Lakeland_terrier/Lakeland_terrier_06539.jpg',\n",
       " './data/dog_images/test/097.Lakeland_terrier/Lakeland_terrier_06518.jpg',\n",
       " './data/dog_images/test/097.Lakeland_terrier/Lakeland_terrier_06528.jpg',\n",
       " './data/dog_images/test/026.Black_russian_terrier/Black_russian_terrier_01840.jpg',\n",
       " './data/dog_images/test/026.Black_russian_terrier/Black_russian_terrier_01837.jpg',\n",
       " './data/dog_images/test/026.Black_russian_terrier/Black_russian_terrier_01827.jpg',\n",
       " './data/dog_images/test/026.Black_russian_terrier/Black_russian_terrier_01868.jpg',\n",
       " './data/dog_images/test/026.Black_russian_terrier/Black_russian_terrier_01849.jpg',\n",
       " './data/dog_images/test/111.Norwich_terrier/Norwich_terrier_07229.jpg',\n",
       " './data/dog_images/test/111.Norwich_terrier/Norwich_terrier_07227.jpg',\n",
       " './data/dog_images/test/111.Norwich_terrier/Norwich_terrier_07253.jpg',\n",
       " './data/dog_images/test/111.Norwich_terrier/Norwich_terrier_07240.jpg',\n",
       " './data/dog_images/test/111.Norwich_terrier/Norwich_terrier_07277.jpg',\n",
       " './data/dog_images/test/075.Glen_of_imaal_terrier/Glen_of_imaal_terrier_05143.jpg',\n",
       " './data/dog_images/test/075.Glen_of_imaal_terrier/Glen_of_imaal_terrier_05148.jpg',\n",
       " './data/dog_images/test/075.Glen_of_imaal_terrier/Glen_of_imaal_terrier_05149.jpg',\n",
       " './data/dog_images/test/075.Glen_of_imaal_terrier/Glen_of_imaal_terrier_05129.jpg',\n",
       " './data/dog_images/test/075.Glen_of_imaal_terrier/Glen_of_imaal_terrier_05164.jpg',\n",
       " './data/dog_images/test/015.Basset_hound/Basset_hound_01044.jpg',\n",
       " './data/dog_images/test/015.Basset_hound/Basset_hound_01080.jpg',\n",
       " './data/dog_images/test/015.Basset_hound/Basset_hound_01034.jpg',\n",
       " './data/dog_images/test/015.Basset_hound/Basset_hound_01085.jpg',\n",
       " './data/dog_images/test/015.Basset_hound/Basset_hound_01059.jpg',\n",
       " './data/dog_images/test/015.Basset_hound/Basset_hound_01121.jpg',\n",
       " './data/dog_images/test/015.Basset_hound/Basset_hound_01097.jpg',\n",
       " './data/dog_images/test/015.Basset_hound/Basset_hound_01106.jpg',\n",
       " './data/dog_images/test/015.Basset_hound/Basset_hound_01067.jpg',\n",
       " './data/dog_images/test/015.Basset_hound/Basset_hound_01071.jpg',\n",
       " './data/dog_images/test/125.Portuguese_water_dog/Portuguese_water_dog_07971.jpg',\n",
       " './data/dog_images/test/125.Portuguese_water_dog/Portuguese_water_dog_07984.jpg',\n",
       " './data/dog_images/test/125.Portuguese_water_dog/Portuguese_water_dog_07963.jpg',\n",
       " './data/dog_images/test/125.Portuguese_water_dog/Portuguese_water_dog_07975.jpg',\n",
       " './data/dog_images/test/084.Icelandic_sheepdog/Icelandic_sheepdog_05733.jpg',\n",
       " './data/dog_images/test/084.Icelandic_sheepdog/Icelandic_sheepdog_05701.jpg',\n",
       " './data/dog_images/test/084.Icelandic_sheepdog/Icelandic_sheepdog_05749.jpg',\n",
       " './data/dog_images/test/084.Icelandic_sheepdog/Icelandic_sheepdog_05753.jpg',\n",
       " './data/dog_images/test/084.Icelandic_sheepdog/Icelandic_sheepdog_05746.jpg',\n",
       " './data/dog_images/test/084.Icelandic_sheepdog/Icelandic_sheepdog_05719.jpg',\n",
       " './data/dog_images/test/032.Boston_terrier/Boston_terrier_02301.jpg',\n",
       " './data/dog_images/test/032.Boston_terrier/Boston_terrier_02294.jpg',\n",
       " './data/dog_images/test/032.Boston_terrier/Boston_terrier_02287.jpg',\n",
       " './data/dog_images/test/032.Boston_terrier/Boston_terrier_02260.jpg',\n",
       " './data/dog_images/test/032.Boston_terrier/Boston_terrier_02297.jpg',\n",
       " './data/dog_images/test/032.Boston_terrier/Boston_terrier_02281.jpg',\n",
       " './data/dog_images/test/032.Boston_terrier/Boston_terrier_02256.jpg',\n",
       " './data/dog_images/test/032.Boston_terrier/Boston_terrier_02291.jpg',\n",
       " './data/dog_images/test/068.Flat-coated_retriever/Flat-coated_retriever_04686.jpg',\n",
       " './data/dog_images/test/068.Flat-coated_retriever/Flat-coated_retriever_04703.jpg',\n",
       " './data/dog_images/test/068.Flat-coated_retriever/Flat-coated_retriever_04742.jpg',\n",
       " './data/dog_images/test/068.Flat-coated_retriever/Flat-coated_retriever_04704.jpg',\n",
       " './data/dog_images/test/068.Flat-coated_retriever/Flat-coated_retriever_04745.jpg',\n",
       " './data/dog_images/test/068.Flat-coated_retriever/Flat-coated_retriever_04725.jpg',\n",
       " './data/dog_images/test/068.Flat-coated_retriever/Flat-coated_retriever_04754.jpg',\n",
       " './data/dog_images/test/068.Flat-coated_retriever/Flat-coated_retriever_04711.jpg',\n",
       " './data/dog_images/test/002.Afghan_hound/Afghan_hound_00125.jpg',\n",
       " './data/dog_images/test/002.Afghan_hound/Afghan_hound_00151.jpg',\n",
       " './data/dog_images/test/002.Afghan_hound/Afghan_hound_00139.jpg',\n",
       " './data/dog_images/test/002.Afghan_hound/Afghan_hound_00141.jpg',\n",
       " './data/dog_images/test/002.Afghan_hound/Afghan_hound_00116.jpg',\n",
       " './data/dog_images/test/002.Afghan_hound/Afghan_hound_00143.jpg',\n",
       " './data/dog_images/test/002.Afghan_hound/Afghan_hound_00149.jpg',\n",
       " './data/dog_images/test/002.Afghan_hound/Afghan_hound_00146.jpg',\n",
       " './data/dog_images/test/047.Chesapeake_bay_retriever/Chesapeake_bay_retriever_03339.jpg',\n",
       " './data/dog_images/test/047.Chesapeake_bay_retriever/Chesapeake_bay_retriever_03386.jpg',\n",
       " './data/dog_images/test/047.Chesapeake_bay_retriever/Chesapeake_bay_retriever_03395.jpg',\n",
       " './data/dog_images/test/047.Chesapeake_bay_retriever/Chesapeake_bay_retriever_03390.jpg',\n",
       " './data/dog_images/test/047.Chesapeake_bay_retriever/Chesapeake_bay_retriever_03361.jpg',\n",
       " './data/dog_images/test/047.Chesapeake_bay_retriever/Chesapeake_bay_retriever_03358.jpg',\n",
       " './data/dog_images/test/047.Chesapeake_bay_retriever/Chesapeake_bay_retriever_03374.jpg',\n",
       " './data/dog_images/test/006.American_eskimo_dog/American_eskimo_dog_00452.jpg',\n",
       " './data/dog_images/test/006.American_eskimo_dog/American_eskimo_dog_00415.jpg',\n",
       " './data/dog_images/test/006.American_eskimo_dog/American_eskimo_dog_00454.jpg',\n",
       " './data/dog_images/test/006.American_eskimo_dog/American_eskimo_dog_00451.jpg',\n",
       " './data/dog_images/test/006.American_eskimo_dog/American_eskimo_dog_00467.jpg',\n",
       " './data/dog_images/test/006.American_eskimo_dog/American_eskimo_dog_00471.jpg',\n",
       " './data/dog_images/test/006.American_eskimo_dog/American_eskimo_dog_00407.jpg',\n",
       " './data/dog_images/test/006.American_eskimo_dog/American_eskimo_dog_00406.jpg',\n",
       " './data/dog_images/test/034.Boxer/Boxer_02371.jpg',\n",
       " './data/dog_images/test/034.Boxer/Boxer_02426.jpg',\n",
       " './data/dog_images/test/034.Boxer/Boxer_02397.jpg',\n",
       " './data/dog_images/test/034.Boxer/Boxer_02413.jpg',\n",
       " './data/dog_images/test/034.Boxer/Boxer_02414.jpg',\n",
       " './data/dog_images/test/034.Boxer/Boxer_02439.jpg',\n",
       " './data/dog_images/test/034.Boxer/Boxer_02381.jpg',\n",
       " './data/dog_images/test/034.Boxer/Boxer_02379.jpg',\n",
       " './data/dog_images/test/096.Labrador_retriever/Labrador_retriever_06478.jpg',\n",
       " './data/dog_images/test/096.Labrador_retriever/Labrador_retriever_06472.jpg',\n",
       " './data/dog_images/test/096.Labrador_retriever/Labrador_retriever_06465.jpg',\n",
       " './data/dog_images/test/096.Labrador_retriever/Labrador_retriever_06470.jpg',\n",
       " './data/dog_images/test/096.Labrador_retriever/Labrador_retriever_06466.jpg',\n",
       " './data/dog_images/test/095.Kuvasz/Kuvasz_06430.jpg',\n",
       " './data/dog_images/test/095.Kuvasz/Kuvasz_06420.jpg',\n",
       " './data/dog_images/test/095.Kuvasz/Kuvasz_06409.jpg',\n",
       " './data/dog_images/test/095.Kuvasz/Kuvasz_06429.jpg',\n",
       " './data/dog_images/test/095.Kuvasz/Kuvasz_06388.jpg',\n",
       " './data/dog_images/test/095.Kuvasz/Kuvasz_06404.jpg',\n",
       " './data/dog_images/test/050.Chinese_shar-pei/Chinese_shar-pei_03568.jpg',\n",
       " './data/dog_images/test/050.Chinese_shar-pei/Chinese_shar-pei_03546.jpg',\n",
       " './data/dog_images/test/050.Chinese_shar-pei/Chinese_shar-pei_03555.jpg',\n",
       " './data/dog_images/test/050.Chinese_shar-pei/Chinese_shar-pei_03556.jpg',\n",
       " './data/dog_images/test/050.Chinese_shar-pei/Chinese_shar-pei_03580.jpg',\n",
       " './data/dog_images/test/050.Chinese_shar-pei/Chinese_shar-pei_03535.jpg',\n",
       " './data/dog_images/test/090.Italian_greyhound/Italian_greyhound_06119.jpg',\n",
       " './data/dog_images/test/090.Italian_greyhound/Italian_greyhound_06114.jpg',\n",
       " './data/dog_images/test/090.Italian_greyhound/Italian_greyhound_06153.jpg',\n",
       " './data/dog_images/test/090.Italian_greyhound/Italian_greyhound_06115.jpg',\n",
       " './data/dog_images/test/090.Italian_greyhound/Italian_greyhound_06149.jpg',\n",
       " './data/dog_images/test/090.Italian_greyhound/Italian_greyhound_06117.jpg',\n",
       " './data/dog_images/test/090.Italian_greyhound/Italian_greyhound_06137.jpg',\n",
       " './data/dog_images/test/090.Italian_greyhound/Italian_greyhound_06146.jpg',\n",
       " './data/dog_images/test/119.Petit_basset_griffon_vendeen/Petit_basset_griffon_vendeen_07714.jpg',\n",
       " './data/dog_images/test/119.Petit_basset_griffon_vendeen/Petit_basset_griffon_vendeen_07689.jpg',\n",
       " './data/dog_images/test/119.Petit_basset_griffon_vendeen/Petit_basset_griffon_vendeen_07691.jpg',\n",
       " './data/dog_images/test/119.Petit_basset_griffon_vendeen/Petit_basset_griffon_vendeen_07715.jpg',\n",
       " './data/dog_images/test/011.Australian_cattle_dog/Australian_cattle_dog_00734.jpg',\n",
       " './data/dog_images/test/011.Australian_cattle_dog/Australian_cattle_dog_00781.jpg',\n",
       " './data/dog_images/test/011.Australian_cattle_dog/Australian_cattle_dog_00803.jpg',\n",
       " './data/dog_images/test/011.Australian_cattle_dog/Australian_cattle_dog_00792.jpg',\n",
       " './data/dog_images/test/011.Australian_cattle_dog/Australian_cattle_dog_00761.jpg',\n",
       " './data/dog_images/test/011.Australian_cattle_dog/Australian_cattle_dog_00788.jpg',\n",
       " './data/dog_images/test/011.Australian_cattle_dog/Australian_cattle_dog_00727.jpg',\n",
       " './data/dog_images/test/011.Australian_cattle_dog/Australian_cattle_dog_00728.jpg',\n",
       " './data/dog_images/test/011.Australian_cattle_dog/Australian_cattle_dog_00730.jpg',\n",
       " './data/dog_images/test/037.Brittany/Brittany_02591.jpg',\n",
       " './data/dog_images/test/037.Brittany/Brittany_02607.jpg',\n",
       " './data/dog_images/test/037.Brittany/Brittany_02622.jpg',\n",
       " './data/dog_images/test/037.Brittany/Brittany_02633.jpg',\n",
       " './data/dog_images/test/037.Brittany/Brittany_02601.jpg',\n",
       " './data/dog_images/test/037.Brittany/Brittany_02648.jpg',\n",
       " './data/dog_images/test/069.French_bulldog/French_bulldog_04822.jpg',\n",
       " './data/dog_images/test/069.French_bulldog/French_bulldog_04771.jpg',\n",
       " './data/dog_images/test/069.French_bulldog/French_bulldog_04804.jpg',\n",
       " './data/dog_images/test/069.French_bulldog/French_bulldog_04813.jpg',\n",
       " './data/dog_images/test/069.French_bulldog/French_bulldog_04816.jpg',\n",
       " './data/dog_images/test/069.French_bulldog/French_bulldog_04806.jpg',\n",
       " './data/dog_images/test/069.French_bulldog/French_bulldog_04824.jpg',\n",
       " './data/dog_images/test/083.Ibizan_hound/Ibizan_hound_05697.jpg',\n",
       " './data/dog_images/test/083.Ibizan_hound/Ibizan_hound_05688.jpg',\n",
       " './data/dog_images/test/083.Ibizan_hound/Ibizan_hound_05693.jpg',\n",
       " './data/dog_images/test/083.Ibizan_hound/Ibizan_hound_05682.jpg',\n",
       " './data/dog_images/test/083.Ibizan_hound/Ibizan_hound_05679.jpg',\n",
       " './data/dog_images/test/083.Ibizan_hound/Ibizan_hound_05642.jpg',\n",
       " './data/dog_images/test/020.Belgian_malinois/Belgian_malinois_01460.jpg',\n",
       " './data/dog_images/test/020.Belgian_malinois/Belgian_malinois_01445.jpg',\n",
       " './data/dog_images/test/020.Belgian_malinois/Belgian_malinois_01407.jpg',\n",
       " './data/dog_images/test/020.Belgian_malinois/Belgian_malinois_01452.jpg',\n",
       " './data/dog_images/test/020.Belgian_malinois/Belgian_malinois_01472.jpg',\n",
       " './data/dog_images/test/020.Belgian_malinois/Belgian_malinois_01471.jpg',\n",
       " './data/dog_images/test/020.Belgian_malinois/Belgian_malinois_01469.jpg',\n",
       " './data/dog_images/test/020.Belgian_malinois/Belgian_malinois_01441.jpg',\n",
       " './data/dog_images/test/107.Norfolk_terrier/Norfolk_terrier_07081.jpg',\n",
       " './data/dog_images/test/107.Norfolk_terrier/Norfolk_terrier_07052.jpg',\n",
       " './data/dog_images/test/107.Norfolk_terrier/Norfolk_terrier_07059.jpg',\n",
       " './data/dog_images/test/107.Norfolk_terrier/Norfolk_terrier_07054.jpg',\n",
       " './data/dog_images/test/107.Norfolk_terrier/Norfolk_terrier_07056.jpg',\n",
       " './data/dog_images/test/107.Norfolk_terrier/Norfolk_terrier_07046.jpg',\n",
       " './data/dog_images/test/081.Greyhound/Greyhound_05526.jpg',\n",
       " './data/dog_images/test/081.Greyhound/Greyhound_05565.jpg',\n",
       " './data/dog_images/test/081.Greyhound/Greyhound_05560.jpg',\n",
       " './data/dog_images/test/081.Greyhound/Greyhound_05530.jpg',\n",
       " './data/dog_images/test/081.Greyhound/Greyhound_05539.jpg',\n",
       " './data/dog_images/test/081.Greyhound/Greyhound_05552.jpg',\n",
       " './data/dog_images/test/081.Greyhound/Greyhound_05542.jpg',\n",
       " './data/dog_images/test/042.Cairn_terrier/Cairn_terrier_02965.jpg',\n",
       " './data/dog_images/test/042.Cairn_terrier/Cairn_terrier_03010.jpg',\n",
       " './data/dog_images/test/042.Cairn_terrier/Cairn_terrier_02975.jpg',\n",
       " './data/dog_images/test/042.Cairn_terrier/Cairn_terrier_03012.jpg',\n",
       " './data/dog_images/test/042.Cairn_terrier/Cairn_terrier_02979.jpg',\n",
       " './data/dog_images/test/042.Cairn_terrier/Cairn_terrier_03028.jpg',\n",
       " './data/dog_images/test/042.Cairn_terrier/Cairn_terrier_03022.jpg',\n",
       " './data/dog_images/test/042.Cairn_terrier/Cairn_terrier_03004.jpg',\n",
       " './data/dog_images/test/003.Airedale_terrier/Airedale_terrier_00166.jpg',\n",
       " './data/dog_images/test/003.Airedale_terrier/Airedale_terrier_00175.jpg',\n",
       " './data/dog_images/test/003.Airedale_terrier/Airedale_terrier_00214.jpg',\n",
       " './data/dog_images/test/003.Airedale_terrier/Airedale_terrier_00207.jpg',\n",
       " './data/dog_images/test/003.Airedale_terrier/Airedale_terrier_00210.jpg',\n",
       " './data/dog_images/test/003.Airedale_terrier/Airedale_terrier_00179.jpg',\n",
       " './data/dog_images/test/100.Lowchen/Lowchen_06699.jpg',\n",
       " './data/dog_images/test/100.Lowchen/Lowchen_06685.jpg',\n",
       " './data/dog_images/test/100.Lowchen/Lowchen_06694.jpg',\n",
       " './data/dog_images/test/100.Lowchen/Lowchen_06696.jpg',\n",
       " './data/dog_images/test/105.Neapolitan_mastiff/Neapolitan_mastiff_06945.jpg',\n",
       " './data/dog_images/test/105.Neapolitan_mastiff/Neapolitan_mastiff_06937.jpg',\n",
       " './data/dog_images/test/105.Neapolitan_mastiff/Neapolitan_mastiff_06951.jpg',\n",
       " './data/dog_images/test/105.Neapolitan_mastiff/Neapolitan_mastiff_06958.jpg',\n",
       " './data/dog_images/test/108.Norwegian_buhund/Norwegian_buhund_07124.jpg',\n",
       " './data/dog_images/test/108.Norwegian_buhund/Norwegian_buhund_07111.jpg',\n",
       " './data/dog_images/test/108.Norwegian_buhund/Norwegian_buhund_07120.jpg',\n",
       " './data/dog_images/test/077.Gordon_setter/Gordon_setter_05312.jpg',\n",
       " './data/dog_images/test/077.Gordon_setter/Gordon_setter_05280.jpg',\n",
       " './data/dog_images/test/077.Gordon_setter/Gordon_setter_05310.jpg',\n",
       " './data/dog_images/test/077.Gordon_setter/Gordon_setter_05274.jpg',\n",
       " './data/dog_images/test/077.Gordon_setter/Gordon_setter_05265.jpg',\n",
       " './data/dog_images/test/031.Borzoi/Borzoi_02183.jpg',\n",
       " './data/dog_images/test/031.Borzoi/Borzoi_02162.jpg',\n",
       " './data/dog_images/test/031.Borzoi/Borzoi_02181.jpg',\n",
       " './data/dog_images/test/031.Borzoi/Borzoi_02154.jpg',\n",
       " './data/dog_images/test/031.Borzoi/Borzoi_02220.jpg',\n",
       " './data/dog_images/test/031.Borzoi/Borzoi_02203.jpg',\n",
       " './data/dog_images/test/031.Borzoi/Borzoi_02166.jpg',\n",
       " './data/dog_images/test/073.German_wirehaired_pointer/German_wirehaired_pointer_05043.jpg',\n",
       " './data/dog_images/test/073.German_wirehaired_pointer/German_wirehaired_pointer_05064.jpg',\n",
       " './data/dog_images/test/073.German_wirehaired_pointer/German_wirehaired_pointer_05040.jpg',\n",
       " './data/dog_images/test/073.German_wirehaired_pointer/German_wirehaired_pointer_05027.jpg',\n",
       " './data/dog_images/test/073.German_wirehaired_pointer/German_wirehaired_pointer_05060.jpg',\n",
       " './data/dog_images/test/038.Brussels_griffon/Brussels_griffon_02701.jpg',\n",
       " './data/dog_images/test/038.Brussels_griffon/Brussels_griffon_02667.jpg',\n",
       " './data/dog_images/test/038.Brussels_griffon/Brussels_griffon_02678.jpg',\n",
       " './data/dog_images/test/038.Brussels_griffon/Brussels_griffon_02707.jpg',\n",
       " './data/dog_images/test/038.Brussels_griffon/Brussels_griffon_02716.jpg',\n",
       " './data/dog_images/test/038.Brussels_griffon/Brussels_griffon_02656.jpg',\n",
       " './data/dog_images/test/038.Brussels_griffon/Brussels_griffon_02699.jpg',\n",
       " './data/dog_images/test/053.Cocker_spaniel/Cocker_spaniel_03743.jpg',\n",
       " './data/dog_images/test/053.Cocker_spaniel/Cocker_spaniel_03748.jpg',\n",
       " './data/dog_images/test/053.Cocker_spaniel/Cocker_spaniel_03759.jpg',\n",
       " './data/dog_images/test/053.Cocker_spaniel/Cocker_spaniel_03779.jpg',\n",
       " './data/dog_images/test/053.Cocker_spaniel/Cocker_spaniel_03740.jpg',\n",
       " './data/dog_images/test/053.Cocker_spaniel/Cocker_spaniel_03765.jpg',\n",
       " './data/dog_images/test/121.Plott/Plott_07797.jpg',\n",
       " './data/dog_images/test/121.Plott/Plott_07792.jpg',\n",
       " './data/dog_images/test/121.Plott/Plott_07795.jpg',\n",
       " './data/dog_images/test/061.English_cocker_spaniel/English_cocker_spaniel_04315.jpg',\n",
       " './data/dog_images/test/061.English_cocker_spaniel/English_cocker_spaniel_04333.jpg',\n",
       " './data/dog_images/test/061.English_cocker_spaniel/English_cocker_spaniel_04354.jpg',\n",
       " './data/dog_images/test/061.English_cocker_spaniel/English_cocker_spaniel_04323.jpg',\n",
       " './data/dog_images/test/061.English_cocker_spaniel/English_cocker_spaniel_04347.jpg',\n",
       " './data/dog_images/test/061.English_cocker_spaniel/English_cocker_spaniel_04313.jpg',\n",
       " './data/dog_images/test/061.English_cocker_spaniel/English_cocker_spaniel_04359.jpg',\n",
       " './data/dog_images/test/061.English_cocker_spaniel/English_cocker_spaniel_04322.jpg',\n",
       " './data/dog_images/test/106.Newfoundland/Newfoundland_07010.jpg',\n",
       " './data/dog_images/test/106.Newfoundland/Newfoundland_06984.jpg',\n",
       " './data/dog_images/test/106.Newfoundland/Newfoundland_07009.jpg',\n",
       " './data/dog_images/test/106.Newfoundland/Newfoundland_07007.jpg',\n",
       " './data/dog_images/test/106.Newfoundland/Newfoundland_06979.jpg',\n",
       " './data/dog_images/test/106.Newfoundland/Newfoundland_06996.jpg',\n",
       " './data/dog_images/test/013.Australian_terrier/Australian_terrier_00918.jpg',\n",
       " './data/dog_images/test/013.Australian_terrier/Australian_terrier_00923.jpg',\n",
       " './data/dog_images/test/013.Australian_terrier/Australian_terrier_00897.jpg',\n",
       " './data/dog_images/test/013.Australian_terrier/Australian_terrier_00925.jpg',\n",
       " './data/dog_images/test/013.Australian_terrier/Australian_terrier_00900.jpg',\n",
       " './data/dog_images/test/013.Australian_terrier/Australian_terrier_00930.jpg',\n",
       " './data/dog_images/test/046.Cavalier_king_charles_spaniel/Cavalier_king_charles_spaniel_03321.jpg',\n",
       " './data/dog_images/test/046.Cavalier_king_charles_spaniel/Cavalier_king_charles_spaniel_03294.jpg',\n",
       " './data/dog_images/test/046.Cavalier_king_charles_spaniel/Cavalier_king_charles_spaniel_03253.jpg',\n",
       " './data/dog_images/test/046.Cavalier_king_charles_spaniel/Cavalier_king_charles_spaniel_03254.jpg',\n",
       " './data/dog_images/test/046.Cavalier_king_charles_spaniel/Cavalier_king_charles_spaniel_03258.jpg',\n",
       " './data/dog_images/test/046.Cavalier_king_charles_spaniel/Cavalier_king_charles_spaniel_03323.jpg',\n",
       " './data/dog_images/test/046.Cavalier_king_charles_spaniel/Cavalier_king_charles_spaniel_03309.jpg',\n",
       " './data/dog_images/test/046.Cavalier_king_charles_spaniel/Cavalier_king_charles_spaniel_03326.jpg',\n",
       " './data/dog_images/test/046.Cavalier_king_charles_spaniel/Cavalier_king_charles_spaniel_03291.jpg',\n",
       " './data/dog_images/test/024.Bichon_frise/Bichon_frise_01759.jpg',\n",
       " './data/dog_images/test/024.Bichon_frise/Bichon_frise_01757.jpg',\n",
       " './data/dog_images/test/024.Bichon_frise/Bichon_frise_01767.jpg',\n",
       " './data/dog_images/test/024.Bichon_frise/Bichon_frise_01719.jpg',\n",
       " './data/dog_images/test/024.Bichon_frise/Bichon_frise_01760.jpg',\n",
       " './data/dog_images/test/024.Bichon_frise/Bichon_frise_01707.jpg',\n",
       " './data/dog_images/test/024.Bichon_frise/Bichon_frise_01753.jpg',\n",
       " './data/dog_images/test/024.Bichon_frise/Bichon_frise_01726.jpg',\n",
       " './data/dog_images/test/028.Bluetick_coonhound/Bluetick_coonhound_01956.jpg',\n",
       " './data/dog_images/test/028.Bluetick_coonhound/Bluetick_coonhound_01968.jpg',\n",
       " './data/dog_images/test/028.Bluetick_coonhound/Bluetick_coonhound_01989.jpg',\n",
       " './data/dog_images/test/028.Bluetick_coonhound/Bluetick_coonhound_01982.jpg',\n",
       " './data/dog_images/test/004.Akita/Akita_00244.jpg',\n",
       " './data/dog_images/test/004.Akita/Akita_00296.jpg',\n",
       " './data/dog_images/test/004.Akita/Akita_00282.jpg',\n",
       " './data/dog_images/test/004.Akita/Akita_00263.jpg',\n",
       " './data/dog_images/test/004.Akita/Akita_00276.jpg',\n",
       " './data/dog_images/test/004.Akita/Akita_00258.jpg',\n",
       " './data/dog_images/test/004.Akita/Akita_00270.jpg',\n",
       " './data/dog_images/test/004.Akita/Akita_00262.jpg',\n",
       " './data/dog_images/test/039.Bull_terrier/Bull_terrier_02773.jpg',\n",
       " './data/dog_images/test/039.Bull_terrier/Bull_terrier_02789.jpg',\n",
       " './data/dog_images/test/039.Bull_terrier/Bull_terrier_02803.jpg',\n",
       " './data/dog_images/test/039.Bull_terrier/Bull_terrier_02745.jpg',\n",
       " './data/dog_images/test/039.Bull_terrier/Bull_terrier_02772.jpg',\n",
       " './data/dog_images/test/039.Bull_terrier/Bull_terrier_02727.jpg',\n",
       " './data/dog_images/test/039.Bull_terrier/Bull_terrier_02767.jpg',\n",
       " './data/dog_images/test/039.Bull_terrier/Bull_terrier_02750.jpg',\n",
       " './data/dog_images/test/039.Bull_terrier/Bull_terrier_02775.jpg',\n",
       " './data/dog_images/test/060.Dogue_de_bordeaux/Dogue_de_bordeaux_04256.jpg',\n",
       " './data/dog_images/test/060.Dogue_de_bordeaux/Dogue_de_bordeaux_04281.jpg',\n",
       " './data/dog_images/test/060.Dogue_de_bordeaux/Dogue_de_bordeaux_04235.jpg',\n",
       " './data/dog_images/test/060.Dogue_de_bordeaux/Dogue_de_bordeaux_04246.jpg',\n",
       " './data/dog_images/test/060.Dogue_de_bordeaux/Dogue_de_bordeaux_04258.jpg',\n",
       " './data/dog_images/test/060.Dogue_de_bordeaux/Dogue_de_bordeaux_04259.jpg',\n",
       " './data/dog_images/test/060.Dogue_de_bordeaux/Dogue_de_bordeaux_04221.jpg',\n",
       " './data/dog_images/test/060.Dogue_de_bordeaux/Dogue_de_bordeaux_04216.jpg',\n",
       " './data/dog_images/test/030.Border_terrier/Border_terrier_02097.jpg',\n",
       " './data/dog_images/test/030.Border_terrier/Border_terrier_02148.jpg',\n",
       " './data/dog_images/test/030.Border_terrier/Border_terrier_02110.jpg',\n",
       " './data/dog_images/test/030.Border_terrier/Border_terrier_02090.jpg',\n",
       " './data/dog_images/test/030.Border_terrier/Border_terrier_02096.jpg',\n",
       " './data/dog_images/test/030.Border_terrier/Border_terrier_02141.jpg',\n",
       " './data/dog_images/test/030.Border_terrier/Border_terrier_02136.jpg',\n",
       " './data/dog_images/test/055.Curly-coated_retriever/Curly-coated_retriever_03889.jpg',\n",
       " './data/dog_images/test/055.Curly-coated_retriever/Curly-coated_retriever_03884.jpg',\n",
       " './data/dog_images/test/055.Curly-coated_retriever/Curly-coated_retriever_03893.jpg',\n",
       " './data/dog_images/test/055.Curly-coated_retriever/Curly-coated_retriever_03887.jpg',\n",
       " './data/dog_images/test/055.Curly-coated_retriever/Curly-coated_retriever_03870.jpg',\n",
       " './data/dog_images/test/055.Curly-coated_retriever/Curly-coated_retriever_03901.jpg',\n",
       " './data/dog_images/test/055.Curly-coated_retriever/Curly-coated_retriever_03863.jpg',\n",
       " './data/dog_images/test/092.Keeshond/Keeshond_06280.jpg',\n",
       " './data/dog_images/test/092.Keeshond/Keeshond_06250.jpg',\n",
       " './data/dog_images/test/092.Keeshond/Keeshond_06264.jpg',\n",
       " './data/dog_images/test/092.Keeshond/Keeshond_06268.jpg',\n",
       " './data/dog_images/test/092.Keeshond/Keeshond_06270.jpg',\n",
       " './data/dog_images/test/115.Papillon/Papillon_07440.jpg',\n",
       " './data/dog_images/test/115.Papillon/Papillon_07498.jpg',\n",
       " './data/dog_images/test/115.Papillon/Papillon_07466.jpg',\n",
       " './data/dog_images/test/115.Papillon/Papillon_07514.jpg',\n",
       " './data/dog_images/test/115.Papillon/Papillon_07480.jpg',\n",
       " './data/dog_images/test/115.Papillon/Papillon_07451.jpg',\n",
       " './data/dog_images/test/115.Papillon/Papillon_07454.jpg',\n",
       " './data/dog_images/test/115.Papillon/Papillon_07461.jpg',\n",
       " './data/dog_images/test/022.Belgian_tervuren/Belgian_tervuren_01607.jpg',\n",
       " './data/dog_images/test/022.Belgian_tervuren/Belgian_tervuren_01561.jpg',\n",
       " './data/dog_images/test/022.Belgian_tervuren/Belgian_tervuren_01601.jpg',\n",
       " './data/dog_images/test/022.Belgian_tervuren/Belgian_tervuren_01588.jpg',\n",
       " './data/dog_images/test/022.Belgian_tervuren/Belgian_tervuren_01574.jpg',\n",
       " './data/dog_images/test/022.Belgian_tervuren/Belgian_tervuren_01585.jpg',\n",
       " './data/dog_images/test/116.Parson_russell_terrier/Parson_russell_terrier_07531.jpg',\n",
       " './data/dog_images/test/116.Parson_russell_terrier/Parson_russell_terrier_07529.jpg',\n",
       " './data/dog_images/test/116.Parson_russell_terrier/Parson_russell_terrier_07539.jpg',\n",
       " './data/dog_images/test/116.Parson_russell_terrier/Parson_russell_terrier_07549.jpg',\n",
       " './data/dog_images/test/128.Smooth_fox_terrier/Smooth_fox_terrier_08128.jpg',\n",
       " './data/dog_images/test/128.Smooth_fox_terrier/Smooth_fox_terrier_08110.jpg',\n",
       " './data/dog_images/test/128.Smooth_fox_terrier/Smooth_fox_terrier_08116.jpg',\n",
       " './data/dog_images/test/128.Smooth_fox_terrier/Smooth_fox_terrier_08113.jpg',\n",
       " './data/dog_images/test/035.Boykin_spaniel/Boykin_spaniel_02484.jpg',\n",
       " './data/dog_images/test/035.Boykin_spaniel/Boykin_spaniel_02496.jpg',\n",
       " './data/dog_images/test/035.Boykin_spaniel/Boykin_spaniel_02500.jpg',\n",
       " './data/dog_images/test/035.Boykin_spaniel/Boykin_spaniel_02441.jpg',\n",
       " './data/dog_images/test/035.Boykin_spaniel/Boykin_spaniel_02497.jpg',\n",
       " './data/dog_images/test/035.Boykin_spaniel/Boykin_spaniel_02501.jpg',\n",
       " './data/dog_images/test/094.Komondor/Komondor_06366.jpg',\n",
       " './data/dog_images/test/094.Komondor/Komondor_06382.jpg',\n",
       " './data/dog_images/test/094.Komondor/Komondor_06376.jpg',\n",
       " './data/dog_images/test/094.Komondor/Komondor_06378.jpg',\n",
       " './data/dog_images/test/094.Komondor/Komondor_06372.jpg',\n",
       " './data/dog_images/test/021.Belgian_sheepdog/Belgian_sheepdog_01491.jpg',\n",
       " './data/dog_images/test/021.Belgian_sheepdog/Belgian_sheepdog_01488.jpg',\n",
       " './data/dog_images/test/021.Belgian_sheepdog/Belgian_sheepdog_01482.jpg',\n",
       " './data/dog_images/test/021.Belgian_sheepdog/Belgian_sheepdog_01548.jpg',\n",
       " './data/dog_images/test/021.Belgian_sheepdog/Belgian_sheepdog_01540.jpg',\n",
       " './data/dog_images/test/021.Belgian_sheepdog/Belgian_sheepdog_01555.jpg',\n",
       " './data/dog_images/test/021.Belgian_sheepdog/Belgian_sheepdog_01554.jpg',\n",
       " './data/dog_images/test/021.Belgian_sheepdog/Belgian_sheepdog_01486.jpg',\n",
       " './data/dog_images/test/122.Pointer/Pointer_07838.jpg',\n",
       " './data/dog_images/test/122.Pointer/Pointer_07821.jpg',\n",
       " './data/dog_images/test/122.Pointer/Pointer_07812.jpg',\n",
       " './data/dog_images/test/122.Pointer/Pointer_07827.jpg',\n",
       " './data/dog_images/test/064.English_toy_spaniel/English_toy_spaniel_04508.jpg',\n",
       " './data/dog_images/test/064.English_toy_spaniel/English_toy_spaniel_04542.jpg',\n",
       " './data/dog_images/test/064.English_toy_spaniel/English_toy_spaniel_04532.jpg',\n",
       " './data/dog_images/test/064.English_toy_spaniel/English_toy_spaniel_04509.jpg',\n",
       " './data/dog_images/test/064.English_toy_spaniel/English_toy_spaniel_04513.jpg',\n",
       " './data/dog_images/test/082.Havanese/Havanese_05585.jpg',\n",
       " './data/dog_images/test/082.Havanese/Havanese_05631.jpg',\n",
       " './data/dog_images/test/082.Havanese/Havanese_05576.jpg',\n",
       " './data/dog_images/test/082.Havanese/Havanese_05571.jpg',\n",
       " './data/dog_images/test/082.Havanese/Havanese_05574.jpg',\n",
       " './data/dog_images/test/082.Havanese/Havanese_05566.jpg',\n",
       " './data/dog_images/test/082.Havanese/Havanese_05614.jpg',\n",
       " './data/dog_images/test/082.Havanese/Havanese_05625.jpg',\n",
       " './data/dog_images/test/089.Irish_wolfhound/Irish_wolfhound_06063.jpg',\n",
       " './data/dog_images/test/089.Irish_wolfhound/Irish_wolfhound_06052.jpg',\n",
       " './data/dog_images/test/089.Irish_wolfhound/Irish_wolfhound_06071.jpg',\n",
       " './data/dog_images/test/089.Irish_wolfhound/Irish_wolfhound_06022.jpg',\n",
       " './data/dog_images/test/089.Irish_wolfhound/Irish_wolfhound_06030.jpg',\n",
       " './data/dog_images/test/089.Irish_wolfhound/Irish_wolfhound_06050.jpg',\n",
       " './data/dog_images/test/089.Irish_wolfhound/Irish_wolfhound_06029.jpg',\n",
       " './data/dog_images/test/085.Irish_red_and_white_setter/Irish_red_and_white_setter_05789.jpg',\n",
       " './data/dog_images/test/085.Irish_red_and_white_setter/Irish_red_and_white_setter_05772.jpg',\n",
       " './data/dog_images/test/085.Irish_red_and_white_setter/Irish_red_and_white_setter_05766.jpg',\n",
       " './data/dog_images/test/085.Irish_red_and_white_setter/Irish_red_and_white_setter_05800.jpg',\n",
       " './data/dog_images/test/129.Tibetan_mastiff/Tibetan_mastiff_08140.jpg',\n",
       " './data/dog_images/test/129.Tibetan_mastiff/Tibetan_mastiff_08171.jpg',\n",
       " './data/dog_images/test/129.Tibetan_mastiff/Tibetan_mastiff_08158.jpg',\n",
       " './data/dog_images/test/129.Tibetan_mastiff/Tibetan_mastiff_08139.jpg',\n",
       " './data/dog_images/test/129.Tibetan_mastiff/Tibetan_mastiff_08156.jpg',\n",
       " './data/dog_images/test/129.Tibetan_mastiff/Tibetan_mastiff_08138.jpg',\n",
       " './data/dog_images/test/049.Chinese_crested/Chinese_crested_03489.jpg',\n",
       " './data/dog_images/test/049.Chinese_crested/Chinese_crested_03484.jpg',\n",
       " './data/dog_images/test/049.Chinese_crested/Chinese_crested_03524.jpg',\n",
       " './data/dog_images/test/049.Chinese_crested/Chinese_crested_03508.jpg',\n",
       " './data/dog_images/test/049.Chinese_crested/Chinese_crested_03498.jpg',\n",
       " './data/dog_images/test/049.Chinese_crested/Chinese_crested_03490.jpg',\n",
       " './data/dog_images/test/130.Welsh_springer_spaniel/Welsh_springer_spaniel_08227.jpg',\n",
       " './data/dog_images/test/130.Welsh_springer_spaniel/Welsh_springer_spaniel_08190.jpg',\n",
       " './data/dog_images/test/130.Welsh_springer_spaniel/Welsh_springer_spaniel_08214.jpg',\n",
       " './data/dog_images/test/130.Welsh_springer_spaniel/Welsh_springer_spaniel_08237.jpg',\n",
       " './data/dog_images/test/130.Welsh_springer_spaniel/Welsh_springer_spaniel_08215.jpg',\n",
       " './data/dog_images/test/066.Field_spaniel/Field_spaniel_04608.jpg',\n",
       " './data/dog_images/test/066.Field_spaniel/Field_spaniel_04616.jpg',\n",
       " './data/dog_images/test/066.Field_spaniel/Field_spaniel_04622.jpg',\n",
       " './data/dog_images/test/066.Field_spaniel/Field_spaniel_04619.jpg',\n",
       " './data/dog_images/test/120.Pharaoh_hound/Pharaoh_hound_07724.jpg',\n",
       " './data/dog_images/test/120.Pharaoh_hound/Pharaoh_hound_07747.jpg',\n",
       " './data/dog_images/test/120.Pharaoh_hound/Pharaoh_hound_07728.jpg',\n",
       " './data/dog_images/test/120.Pharaoh_hound/Pharaoh_hound_07750.jpg',\n",
       " './data/dog_images/test/120.Pharaoh_hound/Pharaoh_hound_07741.jpg',\n",
       " './data/dog_images/test/114.Otterhound/Otterhound_07435.jpg',\n",
       " './data/dog_images/test/114.Otterhound/Otterhound_07394.jpg',\n",
       " './data/dog_images/test/114.Otterhound/Otterhound_07405.jpg',\n",
       " './data/dog_images/test/114.Otterhound/Otterhound_07430.jpg',\n",
       " './data/dog_images/test/076.Golden_retriever/Golden_retriever_05221.jpg',\n",
       " './data/dog_images/test/076.Golden_retriever/Golden_retriever_05220.jpg',\n",
       " './data/dog_images/test/076.Golden_retriever/Golden_retriever_05240.jpg',\n",
       " './data/dog_images/test/076.Golden_retriever/Golden_retriever_05250.jpg',\n",
       " './data/dog_images/test/076.Golden_retriever/Golden_retriever_05241.jpg',\n",
       " './data/dog_images/test/076.Golden_retriever/Golden_retriever_05234.jpg',\n",
       " './data/dog_images/test/076.Golden_retriever/Golden_retriever_05258.jpg',\n",
       " './data/dog_images/test/076.Golden_retriever/Golden_retriever_05248.jpg',\n",
       " './data/dog_images/test/025.Black_and_tan_coonhound/Black_and_tan_coonhound_01801.jpg',\n",
       " './data/dog_images/test/025.Black_and_tan_coonhound/Black_and_tan_coonhound_01789.jpg',\n",
       " './data/dog_images/test/025.Black_and_tan_coonhound/Black_and_tan_coonhound_01795.jpg',\n",
       " './data/dog_images/test/025.Black_and_tan_coonhound/Black_and_tan_coonhound_01803.jpg',\n",
       " './data/dog_images/test/102.Manchester_terrier/Manchester_terrier_06805.jpg',\n",
       " './data/dog_images/test/102.Manchester_terrier/Manchester_terrier_06799.jpg',\n",
       " './data/dog_images/test/102.Manchester_terrier/Manchester_terrier_06778.jpg',\n",
       " './data/dog_images/test/117.Pekingese/Pekingese_07558.jpg',\n",
       " './data/dog_images/test/117.Pekingese/Pekingese_07582.jpg',\n",
       " './data/dog_images/test/117.Pekingese/Pekingese_07581.jpg',\n",
       " './data/dog_images/test/117.Pekingese/Pekingese_07568.jpg',\n",
       " './data/dog_images/test/117.Pekingese/Pekingese_07585.jpg',\n",
       " './data/dog_images/test/117.Pekingese/Pekingese_07594.jpg',\n",
       " './data/dog_images/test/086.Irish_setter/Irish_setter_05851.jpg',\n",
       " './data/dog_images/test/086.Irish_setter/Irish_setter_05818.jpg',\n",
       " './data/dog_images/test/086.Irish_setter/Irish_setter_05812.jpg',\n",
       " './data/dog_images/test/086.Irish_setter/Irish_setter_05816.jpg',\n",
       " './data/dog_images/test/086.Irish_setter/Irish_setter_05833.jpg',\n",
       " './data/dog_images/test/086.Irish_setter/Irish_setter_05860.jpg',\n",
       " './data/dog_images/test/086.Irish_setter/Irish_setter_05819.jpg',\n",
       " './data/dog_images/test/048.Chihuahua/Chihuahua_03427.jpg',\n",
       " './data/dog_images/test/048.Chihuahua/Chihuahua_03420.jpg',\n",
       " './data/dog_images/test/048.Chihuahua/Chihuahua_03405.jpg',\n",
       " './data/dog_images/test/048.Chihuahua/Chihuahua_03448.jpg',\n",
       " './data/dog_images/test/048.Chihuahua/Chihuahua_03460.jpg',\n",
       " './data/dog_images/test/048.Chihuahua/Chihuahua_03411.jpg',\n",
       " './data/dog_images/test/048.Chihuahua/Chihuahua_03403.jpg',\n",
       " './data/dog_images/test/029.Border_collie/Border_collie_02035.jpg',\n",
       " './data/dog_images/test/029.Border_collie/Border_collie_01997.jpg',\n",
       " './data/dog_images/test/029.Border_collie/Border_collie_02053.jpg',\n",
       " './data/dog_images/test/029.Border_collie/Border_collie_02056.jpg',\n",
       " './data/dog_images/test/029.Border_collie/Border_collie_02008.jpg',\n",
       " './data/dog_images/test/029.Border_collie/Border_collie_02051.jpg',\n",
       " './data/dog_images/test/029.Border_collie/Border_collie_02077.jpg',\n",
       " './data/dog_images/test/029.Border_collie/Border_collie_02006.jpg',\n",
       " './data/dog_images/test/029.Border_collie/Border_collie_02081.jpg',\n",
       " './data/dog_images/test/029.Border_collie/Border_collie_02039.jpg',\n",
       " './data/dog_images/test/067.Finnish_spitz/Finnish_spitz_04661.jpg',\n",
       " './data/dog_images/test/067.Finnish_spitz/Finnish_spitz_04648.jpg',\n",
       " './data/dog_images/test/067.Finnish_spitz/Finnish_spitz_04680.jpg',\n",
       " './data/dog_images/test/067.Finnish_spitz/Finnish_spitz_04651.jpg',\n",
       " './data/dog_images/test/018.Beauceron/Beauceron_01319.jpg',\n",
       " './data/dog_images/test/018.Beauceron/Beauceron_01299.jpg',\n",
       " './data/dog_images/test/018.Beauceron/Beauceron_01310.jpg',\n",
       " './data/dog_images/test/018.Beauceron/Beauceron_01328.jpg',\n",
       " './data/dog_images/test/018.Beauceron/Beauceron_01284.jpg',\n",
       " './data/dog_images/test/018.Beauceron/Beauceron_01292.jpg',\n",
       " './data/dog_images/test/018.Beauceron/Beauceron_01303.jpg',\n",
       " './data/dog_images/test/093.Kerry_blue_terrier/Kerry_blue_terrier_06291.jpg',\n",
       " './data/dog_images/test/093.Kerry_blue_terrier/Kerry_blue_terrier_06310.jpg',\n",
       " './data/dog_images/test/093.Kerry_blue_terrier/Kerry_blue_terrier_06293.jpg',\n",
       " './data/dog_images/test/093.Kerry_blue_terrier/Kerry_blue_terrier_06316.jpg',\n",
       " './data/dog_images/test/070.German_pinscher/German_pinscher_04838.jpg',\n",
       " './data/dog_images/test/070.German_pinscher/German_pinscher_04876.jpg',\n",
       " './data/dog_images/test/070.German_pinscher/German_pinscher_04843.jpg',\n",
       " './data/dog_images/test/070.German_pinscher/German_pinscher_04861.jpg',\n",
       " './data/dog_images/test/070.German_pinscher/German_pinscher_04863.jpg',\n",
       " './data/dog_images/test/070.German_pinscher/German_pinscher_04875.jpg',\n",
       " './data/dog_images/test/001.Affenpinscher/Affenpinscher_00071.jpg',\n",
       " './data/dog_images/test/001.Affenpinscher/Affenpinscher_00058.jpg',\n",
       " './data/dog_images/test/001.Affenpinscher/Affenpinscher_00078.jpg',\n",
       " './data/dog_images/test/001.Affenpinscher/Affenpinscher_00003.jpg',\n",
       " './data/dog_images/test/001.Affenpinscher/Affenpinscher_00047.jpg',\n",
       " './data/dog_images/test/001.Affenpinscher/Affenpinscher_00023.jpg',\n",
       " './data/dog_images/test/001.Affenpinscher/Affenpinscher_00048.jpg',\n",
       " './data/dog_images/test/001.Affenpinscher/Affenpinscher_00036.jpg',\n",
       " './data/dog_images/test/078.Great_dane/Great_dane_05326.jpg',\n",
       " './data/dog_images/test/078.Great_dane/Great_dane_05323.jpg',\n",
       " './data/dog_images/test/078.Great_dane/Great_dane_05322.jpg',\n",
       " './data/dog_images/test/078.Great_dane/Great_dane_05363.jpg',\n",
       " './data/dog_images/test/078.Great_dane/Great_dane_05329.jpg',\n",
       " './data/dog_images/test/009.American_water_spaniel/American_water_spaniel_00655.jpg',\n",
       " './data/dog_images/test/009.American_water_spaniel/American_water_spaniel_00631.jpg',\n",
       " './data/dog_images/test/009.American_water_spaniel/American_water_spaniel_00624.jpg',\n",
       " './data/dog_images/test/009.American_water_spaniel/American_water_spaniel_00646.jpg',\n",
       " './data/dog_images/test/099.Lhasa_apso/Lhasa_apso_06668.jpg',\n",
       " './data/dog_images/test/099.Lhasa_apso/Lhasa_apso_06666.jpg',\n",
       " './data/dog_images/test/099.Lhasa_apso/Lhasa_apso_06651.jpg',\n",
       " './data/dog_images/test/099.Lhasa_apso/Lhasa_apso_06619.jpg',\n",
       " './data/dog_images/test/099.Lhasa_apso/Lhasa_apso_06620.jpg',\n",
       " './data/dog_images/test/056.Dachshund/Dachshund_03995.jpg',\n",
       " './data/dog_images/test/056.Dachshund/Dachshund_03953.jpg',\n",
       " './data/dog_images/test/056.Dachshund/Dachshund_03966.jpg',\n",
       " './data/dog_images/test/056.Dachshund/Dachshund_03967.jpg',\n",
       " './data/dog_images/test/056.Dachshund/Dachshund_03987.jpg',\n",
       " './data/dog_images/test/056.Dachshund/Dachshund_03991.jpg',\n",
       " './data/dog_images/test/056.Dachshund/Dachshund_03996.jpg',\n",
       " './data/dog_images/test/056.Dachshund/Dachshund_03946.jpg',\n",
       " './data/dog_images/test/056.Dachshund/Dachshund_04003.jpg',\n",
       " './data/dog_images/test/124.Poodle/Poodle_07923.jpg',\n",
       " './data/dog_images/test/124.Poodle/Poodle_07949.jpg',\n",
       " './data/dog_images/test/124.Poodle/Poodle_07903.jpg',\n",
       " './data/dog_images/test/124.Poodle/Poodle_07925.jpg',\n",
       " './data/dog_images/test/124.Poodle/Poodle_07910.jpg',\n",
       " './data/dog_images/test/124.Poodle/Poodle_07904.jpg',\n",
       " './data/dog_images/test/063.English_springer_spaniel/English_springer_spaniel_04452.jpg',\n",
       " './data/dog_images/test/063.English_springer_spaniel/English_springer_spaniel_04453.jpg',\n",
       " './data/dog_images/test/063.English_springer_spaniel/English_springer_spaniel_04486.jpg',\n",
       " './data/dog_images/test/063.English_springer_spaniel/English_springer_spaniel_04457.jpg',\n",
       " './data/dog_images/test/063.English_springer_spaniel/English_springer_spaniel_04484.jpg',\n",
       " './data/dog_images/test/063.English_springer_spaniel/English_springer_spaniel_04446.jpg',\n",
       " './data/dog_images/test/063.English_springer_spaniel/English_springer_spaniel_04440.jpg',\n",
       " './data/dog_images/test/016.Beagle/Beagle_01196.jpg',\n",
       " './data/dog_images/test/016.Beagle/Beagle_01130.jpg',\n",
       " './data/dog_images/test/016.Beagle/Beagle_01150.jpg',\n",
       " './data/dog_images/test/016.Beagle/Beagle_01155.jpg',\n",
       " './data/dog_images/test/016.Beagle/Beagle_01144.jpg',\n",
       " './data/dog_images/test/016.Beagle/Beagle_01156.jpg',\n",
       " './data/dog_images/test/016.Beagle/Beagle_01141.jpg',\n",
       " './data/dog_images/test/016.Beagle/Beagle_01197.jpg',\n",
       " './data/dog_images/test/087.Irish_terrier/Irish_terrier_05912.jpg',\n",
       " './data/dog_images/test/087.Irish_terrier/Irish_terrier_05903.jpg',\n",
       " './data/dog_images/test/087.Irish_terrier/Irish_terrier_05878.jpg',\n",
       " './data/dog_images/test/087.Irish_terrier/Irish_terrier_05924.jpg',\n",
       " './data/dog_images/test/087.Irish_terrier/Irish_terrier_05895.jpg',\n",
       " './data/dog_images/test/087.Irish_terrier/Irish_terrier_05887.jpg',\n",
       " './data/dog_images/test/087.Irish_terrier/Irish_terrier_05900.jpg',\n",
       " './data/dog_images/test/087.Irish_terrier/Irish_terrier_05890.jpg',\n",
       " './data/dog_images/test/010.Anatolian_shepherd_dog/Anatolian_shepherd_dog_00695.jpg',\n",
       " './data/dog_images/test/010.Anatolian_shepherd_dog/Anatolian_shepherd_dog_00669.jpg',\n",
       " './data/dog_images/test/010.Anatolian_shepherd_dog/Anatolian_shepherd_dog_00710.jpg',\n",
       " './data/dog_images/test/010.Anatolian_shepherd_dog/Anatolian_shepherd_dog_00661.jpg',\n",
       " './data/dog_images/test/010.Anatolian_shepherd_dog/Anatolian_shepherd_dog_00673.jpg',\n",
       " './data/dog_images/test/010.Anatolian_shepherd_dog/Anatolian_shepherd_dog_00690.jpg',\n",
       " './data/dog_images/test/036.Briard/Briard_02519.jpg',\n",
       " './data/dog_images/test/036.Briard/Briard_02575.jpg',\n",
       " './data/dog_images/test/036.Briard/Briard_02542.jpg',\n",
       " './data/dog_images/test/036.Briard/Briard_02539.jpg',\n",
       " './data/dog_images/test/036.Briard/Briard_02521.jpg',\n",
       " './data/dog_images/test/036.Briard/Briard_02540.jpg',\n",
       " './data/dog_images/test/036.Briard/Briard_02533.jpg',\n",
       " './data/dog_images/test/036.Briard/Briard_02560.jpg',\n",
       " './data/dog_images/test/113.Old_english_sheepdog/Old_english_sheepdog_07359.jpg',\n",
       " './data/dog_images/test/113.Old_english_sheepdog/Old_english_sheepdog_07391.jpg',\n",
       " './data/dog_images/test/113.Old_english_sheepdog/Old_english_sheepdog_07390.jpg',\n",
       " './data/dog_images/test/113.Old_english_sheepdog/Old_english_sheepdog_07376.jpg',\n",
       " './data/dog_images/test/113.Old_english_sheepdog/Old_english_sheepdog_07355.jpg',\n",
       " './data/dog_images/test/080.Greater_swiss_mountain_dog/Greater_swiss_mountain_dog_05451.jpg',\n",
       " './data/dog_images/test/080.Greater_swiss_mountain_dog/Greater_swiss_mountain_dog_05473.jpg',\n",
       " './data/dog_images/test/080.Greater_swiss_mountain_dog/Greater_swiss_mountain_dog_05464.jpg',\n",
       " './data/dog_images/test/080.Greater_swiss_mountain_dog/Greater_swiss_mountain_dog_05486.jpg',\n",
       " './data/dog_images/test/080.Greater_swiss_mountain_dog/Greater_swiss_mountain_dog_05469.jpg',\n",
       " './data/dog_images/test/127.Silky_terrier/Silky_terrier_08074.jpg',\n",
       " './data/dog_images/test/127.Silky_terrier/Silky_terrier_08084.jpg',\n",
       " './data/dog_images/test/127.Silky_terrier/Silky_terrier_08055.jpg',\n",
       " './data/dog_images/test/127.Silky_terrier/Silky_terrier_08057.jpg',\n",
       " './data/dog_images/test/127.Silky_terrier/Silky_terrier_08040.jpg',\n",
       " './data/dog_images/test/104.Miniature_schnauzer/Miniature_schnauzer_06892.jpg',\n",
       " './data/dog_images/test/104.Miniature_schnauzer/Miniature_schnauzer_06916.jpg',\n",
       " './data/dog_images/test/104.Miniature_schnauzer/Miniature_schnauzer_06930.jpg',\n",
       " './data/dog_images/test/104.Miniature_schnauzer/Miniature_schnauzer_06927.jpg',\n",
       " './data/dog_images/test/104.Miniature_schnauzer/Miniature_schnauzer_06901.jpg',\n",
       " './data/dog_images/test/043.Canaan_dog/Canaan_dog_03073.jpg',\n",
       " './data/dog_images/test/043.Canaan_dog/Canaan_dog_03084.jpg',\n",
       " './data/dog_images/test/043.Canaan_dog/Canaan_dog_03082.jpg',\n",
       " './data/dog_images/test/043.Canaan_dog/Canaan_dog_03069.jpg',\n",
       " './data/dog_images/test/043.Canaan_dog/Canaan_dog_03072.jpg',\n",
       " './data/dog_images/test/043.Canaan_dog/Canaan_dog_03066.jpg',\n",
       " './data/dog_images/test/072.German_shorthaired_pointer/German_shorthaired_pointer_04971.jpg',\n",
       " './data/dog_images/test/072.German_shorthaired_pointer/German_shorthaired_pointer_04970.jpg',\n",
       " './data/dog_images/test/072.German_shorthaired_pointer/German_shorthaired_pointer_04981.jpg',\n",
       " './data/dog_images/test/072.German_shorthaired_pointer/German_shorthaired_pointer_04974.jpg',\n",
       " './data/dog_images/test/072.German_shorthaired_pointer/German_shorthaired_pointer_04980.jpg',\n",
       " './data/dog_images/test/072.German_shorthaired_pointer/German_shorthaired_pointer_04986.jpg',\n",
       " './data/dog_images/test/044.Cane_corso/Cane_corso_03166.jpg',\n",
       " './data/dog_images/test/044.Cane_corso/Cane_corso_03132.jpg',\n",
       " './data/dog_images/test/044.Cane_corso/Cane_corso_03110.jpg',\n",
       " './data/dog_images/test/044.Cane_corso/Cane_corso_03114.jpg',\n",
       " './data/dog_images/test/044.Cane_corso/Cane_corso_03172.jpg',\n",
       " './data/dog_images/test/044.Cane_corso/Cane_corso_03161.jpg',\n",
       " './data/dog_images/test/044.Cane_corso/Cane_corso_03147.jpg',\n",
       " './data/dog_images/test/044.Cane_corso/Cane_corso_03117.jpg',\n",
       " './data/dog_images/test/101.Maltese/Maltese_06757.jpg',\n",
       " './data/dog_images/test/101.Maltese/Maltese_06754.jpg',\n",
       " './data/dog_images/test/101.Maltese/Maltese_06766.jpg',\n",
       " './data/dog_images/test/101.Maltese/Maltese_06728.jpg',\n",
       " './data/dog_images/test/101.Maltese/Maltese_06716.jpg',\n",
       " './data/dog_images/test/101.Maltese/Maltese_06718.jpg',\n",
       " './data/dog_images/test/103.Mastiff/Mastiff_06827.jpg',\n",
       " './data/dog_images/test/103.Mastiff/Mastiff_06815.jpg',\n",
       " './data/dog_images/test/103.Mastiff/Mastiff_06873.jpg',\n",
       " './data/dog_images/test/103.Mastiff/Mastiff_06847.jpg',\n",
       " './data/dog_images/test/103.Mastiff/Mastiff_06836.jpg',\n",
       " './data/dog_images/test/103.Mastiff/Mastiff_06878.jpg',\n",
       " './data/dog_images/test/103.Mastiff/Mastiff_06825.jpg',\n",
       " './data/dog_images/test/091.Japanese_chin/Japanese_chin_06174.jpg',\n",
       " './data/dog_images/test/091.Japanese_chin/Japanese_chin_06225.jpg',\n",
       " './data/dog_images/test/091.Japanese_chin/Japanese_chin_06169.jpg',\n",
       " './data/dog_images/test/091.Japanese_chin/Japanese_chin_06184.jpg',\n",
       " './data/dog_images/test/091.Japanese_chin/Japanese_chin_06175.jpg',\n",
       " './data/dog_images/test/091.Japanese_chin/Japanese_chin_06166.jpg',\n",
       " './data/dog_images/test/091.Japanese_chin/Japanese_chin_06168.jpg',\n",
       " './data/dog_images/test/057.Dalmatian/Dalmatian_04015.jpg',\n",
       " './data/dog_images/test/057.Dalmatian/Dalmatian_04059.jpg',\n",
       " './data/dog_images/test/057.Dalmatian/Dalmatian_04047.jpg',\n",
       " './data/dog_images/test/057.Dalmatian/Dalmatian_04056.jpg',\n",
       " './data/dog_images/test/057.Dalmatian/Dalmatian_04030.jpg',\n",
       " './data/dog_images/test/057.Dalmatian/Dalmatian_04006.jpg',\n",
       " './data/dog_images/test/057.Dalmatian/Dalmatian_04076.jpg',\n",
       " './data/dog_images/test/057.Dalmatian/Dalmatian_04021.jpg',\n",
       " './data/dog_images/test/057.Dalmatian/Dalmatian_04060.jpg',\n",
       " './data/dog_images/test/012.Australian_shepherd/Australian_shepherd_00864.jpg',\n",
       " './data/dog_images/test/012.Australian_shepherd/Australian_shepherd_00868.jpg',\n",
       " './data/dog_images/test/012.Australian_shepherd/Australian_shepherd_00853.jpg',\n",
       " './data/dog_images/test/012.Australian_shepherd/Australian_shepherd_00843.jpg',\n",
       " './data/dog_images/test/012.Australian_shepherd/Australian_shepherd_00830.jpg',\n",
       " './data/dog_images/test/012.Australian_shepherd/Australian_shepherd_00836.jpg',\n",
       " './data/dog_images/test/012.Australian_shepherd/Australian_shepherd_00848.jpg',\n",
       " './data/dog_images/test/012.Australian_shepherd/Australian_shepherd_00887.jpg',\n",
       " './data/dog_images/test/012.Australian_shepherd/Australian_shepherd_00870.jpg',\n",
       " './data/dog_images/test/058.Dandie_dinmont_terrier/Dandie_dinmont_terrier_04108.jpg',\n",
       " './data/dog_images/test/058.Dandie_dinmont_terrier/Dandie_dinmont_terrier_04142.jpg',\n",
       " './data/dog_images/test/058.Dandie_dinmont_terrier/Dandie_dinmont_terrier_04138.jpg',\n",
       " './data/dog_images/test/058.Dandie_dinmont_terrier/Dandie_dinmont_terrier_04134.jpg',\n",
       " './data/dog_images/test/058.Dandie_dinmont_terrier/Dandie_dinmont_terrier_04152.jpg',\n",
       " './data/dog_images/test/058.Dandie_dinmont_terrier/Dandie_dinmont_terrier_04131.jpg',\n",
       " './data/dog_images/test/058.Dandie_dinmont_terrier/Dandie_dinmont_terrier_04155.jpg',\n",
       " './data/dog_images/test/014.Basenji/Basenji_00974.jpg',\n",
       " './data/dog_images/test/014.Basenji/Basenji_01009.jpg',\n",
       " './data/dog_images/test/014.Basenji/Basenji_00985.jpg',\n",
       " './data/dog_images/test/014.Basenji/Basenji_00961.jpg',\n",
       " './data/dog_images/test/014.Basenji/Basenji_00955.jpg',\n",
       " './data/dog_images/test/014.Basenji/Basenji_00987.jpg',\n",
       " './data/dog_images/test/014.Basenji/Basenji_00978.jpg',\n",
       " './data/dog_images/test/014.Basenji/Basenji_01029.jpg',\n",
       " './data/dog_images/test/014.Basenji/Basenji_00959.jpg',\n",
       " './data/dog_images/test/065.Entlebucher_mountain_dog/Entlebucher_mountain_dog_04595.jpg',\n",
       " './data/dog_images/test/065.Entlebucher_mountain_dog/Entlebucher_mountain_dog_04580.jpg',\n",
       " './data/dog_images/test/065.Entlebucher_mountain_dog/Entlebucher_mountain_dog_04559.jpg',\n",
       " './data/dog_images/test/065.Entlebucher_mountain_dog/Entlebucher_mountain_dog_04597.jpg',\n",
       " './data/dog_images/test/065.Entlebucher_mountain_dog/Entlebucher_mountain_dog_04561.jpg',\n",
       " './data/dog_images/test/019.Bedlington_terrier/Bedlington_terrier_01392.jpg',\n",
       " './data/dog_images/test/019.Bedlington_terrier/Bedlington_terrier_01363.jpg',\n",
       " './data/dog_images/test/019.Bedlington_terrier/Bedlington_terrier_01368.jpg',\n",
       " './data/dog_images/test/019.Bedlington_terrier/Bedlington_terrier_01381.jpg',\n",
       " './data/dog_images/test/019.Bedlington_terrier/Bedlington_terrier_01340.jpg',\n",
       " './data/dog_images/test/019.Bedlington_terrier/Bedlington_terrier_01369.jpg',\n",
       " './data/dog_images/test/110.Norwegian_lundehund/Norwegian_lundehund_07183.jpg',\n",
       " './data/dog_images/test/110.Norwegian_lundehund/Norwegian_lundehund_07186.jpg',\n",
       " './data/dog_images/test/110.Norwegian_lundehund/Norwegian_lundehund_07222.jpg',\n",
       " './data/dog_images/test/110.Norwegian_lundehund/Norwegian_lundehund_07218.jpg',\n",
       " './data/dog_images/test/054.Collie/Collie_03851.jpg',\n",
       " './data/dog_images/test/054.Collie/Collie_03794.jpg',\n",
       " './data/dog_images/test/054.Collie/Collie_03790.jpg',\n",
       " './data/dog_images/test/054.Collie/Collie_03835.jpg',\n",
       " './data/dog_images/test/054.Collie/Collie_03849.jpg',\n",
       " './data/dog_images/test/054.Collie/Collie_03834.jpg',\n",
       " './data/dog_images/test/054.Collie/Collie_03819.jpg',\n",
       " './data/dog_images/test/131.Wirehaired_pointing_griffon/Wirehaired_pointing_griffon_08245.jpg',\n",
       " './data/dog_images/test/131.Wirehaired_pointing_griffon/Wirehaired_pointing_griffon_08275.jpg',\n",
       " './data/dog_images/test/131.Wirehaired_pointing_griffon/Wirehaired_pointing_griffon_08267.jpg',\n",
       " './data/dog_images/test/059.Doberman_pinscher/Doberman_pinscher_04169.jpg',\n",
       " './data/dog_images/test/059.Doberman_pinscher/Doberman_pinscher_04194.jpg',\n",
       " './data/dog_images/test/059.Doberman_pinscher/Doberman_pinscher_04203.jpg',\n",
       " './data/dog_images/test/059.Doberman_pinscher/Doberman_pinscher_04190.jpg',\n",
       " './data/dog_images/test/059.Doberman_pinscher/Doberman_pinscher_04177.jpg',\n",
       " './data/dog_images/test/059.Doberman_pinscher/Doberman_pinscher_04156.jpg',\n",
       " './data/dog_images/test/033.Bouvier_des_flandres/Bouvier_des_flandres_02328.jpg',\n",
       " './data/dog_images/test/033.Bouvier_des_flandres/Bouvier_des_flandres_02304.jpg',\n",
       " './data/dog_images/test/033.Bouvier_des_flandres/Bouvier_des_flandres_02305.jpg',\n",
       " './data/dog_images/test/033.Bouvier_des_flandres/Bouvier_des_flandres_02355.jpg',\n",
       " './data/dog_images/test/033.Bouvier_des_flandres/Bouvier_des_flandres_02339.jpg',\n",
       " './data/dog_images/test/005.Alaskan_malamute/Alaskan_malamute_00354.jpg',\n",
       " './data/dog_images/test/005.Alaskan_malamute/Alaskan_malamute_00387.jpg',\n",
       " './data/dog_images/test/005.Alaskan_malamute/Alaskan_malamute_00383.jpg',\n",
       " './data/dog_images/test/005.Alaskan_malamute/Alaskan_malamute_00330.jpg',\n",
       " './data/dog_images/test/005.Alaskan_malamute/Alaskan_malamute_00346.jpg',\n",
       " './data/dog_images/test/005.Alaskan_malamute/Alaskan_malamute_00362.jpg',\n",
       " './data/dog_images/test/005.Alaskan_malamute/Alaskan_malamute_00309.jpg',\n",
       " './data/dog_images/test/005.Alaskan_malamute/Alaskan_malamute_00360.jpg',\n",
       " './data/dog_images/test/005.Alaskan_malamute/Alaskan_malamute_00375.jpg',\n",
       " './data/dog_images/test/005.Alaskan_malamute/Alaskan_malamute_00386.jpg',\n",
       " './data/dog_images/test/007.American_foxhound/American_foxhound_00535.jpg',\n",
       " './data/dog_images/test/007.American_foxhound/American_foxhound_00512.jpg',\n",
       " './data/dog_images/test/007.American_foxhound/American_foxhound_00524.jpg',\n",
       " './data/dog_images/test/007.American_foxhound/American_foxhound_00531.jpg',\n",
       " './data/dog_images/test/007.American_foxhound/American_foxhound_00522.jpg',\n",
       " './data/dog_images/test/007.American_foxhound/American_foxhound_00519.jpg',\n",
       " './data/dog_images/test/007.American_foxhound/American_foxhound_00484.jpg',\n",
       " './data/dog_images/test/074.Giant_schnauzer/Giant_schnauzer_05120.jpg',\n",
       " './data/dog_images/test/074.Giant_schnauzer/Giant_schnauzer_05102.jpg',\n",
       " './data/dog_images/test/074.Giant_schnauzer/Giant_schnauzer_05107.jpg',\n",
       " './data/dog_images/test/074.Giant_schnauzer/Giant_schnauzer_05122.jpg',\n",
       " './data/dog_images/test/074.Giant_schnauzer/Giant_schnauzer_05104.jpg',\n",
       " './data/dog_images/test/118.Pembroke_welsh_corgi/Pembroke_welsh_corgi_07652.jpg',\n",
       " './data/dog_images/test/118.Pembroke_welsh_corgi/Pembroke_welsh_corgi_07672.jpg',\n",
       " './data/dog_images/test/118.Pembroke_welsh_corgi/Pembroke_welsh_corgi_07625.jpg',\n",
       " './data/dog_images/test/118.Pembroke_welsh_corgi/Pembroke_welsh_corgi_07658.jpg',\n",
       " './data/dog_images/test/118.Pembroke_welsh_corgi/Pembroke_welsh_corgi_07673.jpg',\n",
       " './data/dog_images/test/118.Pembroke_welsh_corgi/Pembroke_welsh_corgi_07619.jpg',\n",
       " './data/dog_images/test/118.Pembroke_welsh_corgi/Pembroke_welsh_corgi_07622.jpg',\n",
       " './data/dog_images/test/027.Bloodhound/Bloodhound_01923.jpg',\n",
       " './data/dog_images/test/027.Bloodhound/Bloodhound_01871.jpg',\n",
       " './data/dog_images/test/027.Bloodhound/Bloodhound_01921.jpg',\n",
       " './data/dog_images/test/027.Bloodhound/Bloodhound_01934.jpg',\n",
       " './data/dog_images/test/027.Bloodhound/Bloodhound_01900.jpg',\n",
       " './data/dog_images/test/027.Bloodhound/Bloodhound_01885.jpg',\n",
       " './data/dog_images/test/027.Bloodhound/Bloodhound_01912.jpg',\n",
       " './data/dog_images/test/027.Bloodhound/Bloodhound_01906.jpg',\n",
       " './data/dog_images/test/041.Bullmastiff/Bullmastiff_02950.jpg',\n",
       " './data/dog_images/test/041.Bullmastiff/Bullmastiff_02948.jpg',\n",
       " './data/dog_images/test/041.Bullmastiff/Bullmastiff_02946.jpg',\n",
       " './data/dog_images/test/041.Bullmastiff/Bullmastiff_02904.jpg',\n",
       " './data/dog_images/test/041.Bullmastiff/Bullmastiff_02876.jpg',\n",
       " './data/dog_images/test/041.Bullmastiff/Bullmastiff_02921.jpg',\n",
       " './data/dog_images/test/041.Bullmastiff/Bullmastiff_02954.jpg',\n",
       " './data/dog_images/test/041.Bullmastiff/Bullmastiff_02881.jpg',\n",
       " './data/dog_images/test/041.Bullmastiff/Bullmastiff_02929.jpg',\n",
       " './data/dog_images/test/098.Leonberger/Leonberger_06576.jpg',\n",
       " './data/dog_images/test/098.Leonberger/Leonberger_06609.jpg',\n",
       " './data/dog_images/test/098.Leonberger/Leonberger_06566.jpg',\n",
       " './data/dog_images/test/098.Leonberger/Leonberger_06578.jpg',\n",
       " './data/dog_images/test/098.Leonberger/Leonberger_06617.jpg',\n",
       " './data/dog_images/test/062.English_setter/English_setter_04398.jpg',\n",
       " './data/dog_images/test/062.English_setter/English_setter_04412.jpg',\n",
       " './data/dog_images/test/062.English_setter/English_setter_04399.jpg',\n",
       " './data/dog_images/test/062.English_setter/English_setter_04379.jpg',\n",
       " './data/dog_images/test/062.English_setter/English_setter_04385.jpg',\n",
       " './data/dog_images/test/062.English_setter/English_setter_04429.jpg',\n",
       " './data/dog_images/test/023.Bernese_mountain_dog/Bernese_mountain_dog_01617.jpg',\n",
       " './data/dog_images/test/023.Bernese_mountain_dog/Bernese_mountain_dog_01653.jpg',\n",
       " './data/dog_images/test/023.Bernese_mountain_dog/Bernese_mountain_dog_01622.jpg',\n",
       " './data/dog_images/test/023.Bernese_mountain_dog/Bernese_mountain_dog_01638.jpg',\n",
       " './data/dog_images/test/023.Bernese_mountain_dog/Bernese_mountain_dog_01632.jpg',\n",
       " './data/dog_images/test/023.Bernese_mountain_dog/Bernese_mountain_dog_01682.jpg',\n",
       " './data/dog_images/test/023.Bernese_mountain_dog/Bernese_mountain_dog_01646.jpg',\n",
       " './data/dog_images/test/023.Bernese_mountain_dog/Bernese_mountain_dog_01657.jpg',\n",
       " './data/dog_images/test/040.Bulldog/Bulldog_02846.jpg',\n",
       " './data/dog_images/test/040.Bulldog/Bulldog_02817.jpg',\n",
       " './data/dog_images/test/040.Bulldog/Bulldog_02842.jpg',\n",
       " './data/dog_images/test/040.Bulldog/Bulldog_02845.jpg',\n",
       " './data/dog_images/test/040.Bulldog/Bulldog_02835.jpg',\n",
       " './data/dog_images/test/040.Bulldog/Bulldog_02834.jpg',\n",
       " './data/dog_images/test/040.Bulldog/Bulldog_02828.jpg',\n",
       " './data/dog_images/test/123.Pomeranian/Pomeranian_07897.jpg',\n",
       " './data/dog_images/test/123.Pomeranian/Pomeranian_07857.jpg',\n",
       " './data/dog_images/test/123.Pomeranian/Pomeranian_07861.jpg',\n",
       " './data/dog_images/test/123.Pomeranian/Pomeranian_07873.jpg',\n",
       " './data/dog_images/test/123.Pomeranian/Pomeranian_07858.jpg',\n",
       " './data/dog_images/test/052.Clumber_spaniel/Clumber_spaniel_03680.jpg',\n",
       " './data/dog_images/test/052.Clumber_spaniel/Clumber_spaniel_03702.jpg',\n",
       " './data/dog_images/test/052.Clumber_spaniel/Clumber_spaniel_03712.jpg',\n",
       " './data/dog_images/test/052.Clumber_spaniel/Clumber_spaniel_03715.jpg',\n",
       " './data/dog_images/test/052.Clumber_spaniel/Clumber_spaniel_03697.jpg',\n",
       " './data/dog_images/test/052.Clumber_spaniel/Clumber_spaniel_03703.jpg',\n",
       " './data/dog_images/test/109.Norwegian_elkhound/Norwegian_elkhound_07132.jpg',\n",
       " './data/dog_images/test/109.Norwegian_elkhound/Norwegian_elkhound_07137.jpg',\n",
       " './data/dog_images/test/109.Norwegian_elkhound/Norwegian_elkhound_07163.jpg',\n",
       " './data/dog_images/test/109.Norwegian_elkhound/Norwegian_elkhound_07180.jpg',\n",
       " './data/dog_images/test/109.Norwegian_elkhound/Norwegian_elkhound_07170.jpg',\n",
       " './data/dog_images/test/112.Nova_scotia_duck_tolling_retriever/Nova_scotia_duck_tolling_retriever_07318.jpg',\n",
       " './data/dog_images/test/112.Nova_scotia_duck_tolling_retriever/Nova_scotia_duck_tolling_retriever_07294.jpg',\n",
       " './data/dog_images/test/112.Nova_scotia_duck_tolling_retriever/Nova_scotia_duck_tolling_retriever_07331.jpg',\n",
       " './data/dog_images/test/112.Nova_scotia_duck_tolling_retriever/Nova_scotia_duck_tolling_retriever_07291.jpg',\n",
       " './data/dog_images/test/112.Nova_scotia_duck_tolling_retriever/Nova_scotia_duck_tolling_retriever_07281.jpg',\n",
       " './data/dog_images/test/112.Nova_scotia_duck_tolling_retriever/Nova_scotia_duck_tolling_retriever_07316.jpg',\n",
       " './data/dog_images/test/112.Nova_scotia_duck_tolling_retriever/Nova_scotia_duck_tolling_retriever_07287.jpg',\n",
       " './data/dog_images/test/017.Bearded_collie/Bearded_collie_01215.jpg',\n",
       " './data/dog_images/test/017.Bearded_collie/Bearded_collie_01274.jpg',\n",
       " './data/dog_images/test/017.Bearded_collie/Bearded_collie_01233.jpg',\n",
       " './data/dog_images/test/017.Bearded_collie/Bearded_collie_01227.jpg',\n",
       " './data/dog_images/test/017.Bearded_collie/Bearded_collie_01253.jpg',\n",
       " './data/dog_images/test/017.Bearded_collie/Bearded_collie_01231.jpg',\n",
       " './data/dog_images/test/017.Bearded_collie/Bearded_collie_01221.jpg',\n",
       " './data/dog_images/test/017.Bearded_collie/Bearded_collie_01205.jpg',\n",
       " './data/dog_images/test/045.Cardigan_welsh_corgi/Cardigan_welsh_corgi_03182.jpg',\n",
       " './data/dog_images/test/045.Cardigan_welsh_corgi/Cardigan_welsh_corgi_03185.jpg',\n",
       " './data/dog_images/test/045.Cardigan_welsh_corgi/Cardigan_welsh_corgi_03241.jpg',\n",
       " './data/dog_images/test/045.Cardigan_welsh_corgi/Cardigan_welsh_corgi_03202.jpg',\n",
       " './data/dog_images/test/045.Cardigan_welsh_corgi/Cardigan_welsh_corgi_03200.jpg',\n",
       " './data/dog_images/test/045.Cardigan_welsh_corgi/Cardigan_welsh_corgi_03240.jpg',\n",
       " './data/dog_images/test/045.Cardigan_welsh_corgi/Cardigan_welsh_corgi_03204.jpg',\n",
       " './data/dog_images/test/008.American_staffordshire_terrier/American_staffordshire_terrier_00579.jpg',\n",
       " './data/dog_images/test/008.American_staffordshire_terrier/American_staffordshire_terrier_00539.jpg',\n",
       " './data/dog_images/test/008.American_staffordshire_terrier/American_staffordshire_terrier_00556.jpg',\n",
       " './data/dog_images/test/008.American_staffordshire_terrier/American_staffordshire_terrier_00580.jpg',\n",
       " './data/dog_images/test/008.American_staffordshire_terrier/American_staffordshire_terrier_00538.jpg',\n",
       " './data/dog_images/test/008.American_staffordshire_terrier/American_staffordshire_terrier_00567.jpg',\n",
       " './data/dog_images/test/008.American_staffordshire_terrier/American_staffordshire_terrier_00540.jpg',\n",
       " './data/dog_images/test/008.American_staffordshire_terrier/American_staffordshire_terrier_00607.jpg',\n",
       " './data/dog_images/test/079.Great_pyrenees/Great_pyrenees_05415.jpg',\n",
       " './data/dog_images/test/079.Great_pyrenees/Great_pyrenees_05413.jpg',\n",
       " './data/dog_images/test/079.Great_pyrenees/Great_pyrenees_05424.jpg',\n",
       " './data/dog_images/test/079.Great_pyrenees/Great_pyrenees_05395.jpg',\n",
       " './data/dog_images/test/079.Great_pyrenees/Great_pyrenees_05422.jpg',\n",
       " './data/dog_images/test/079.Great_pyrenees/Great_pyrenees_05367.jpg',\n",
       " './data/dog_images/test/079.Great_pyrenees/Great_pyrenees_05425.jpg',\n",
       " './data/dog_images/test/079.Great_pyrenees/Great_pyrenees_05365.jpg']"
      ]
     },
     "execution_count": 26,
     "metadata": {},
     "output_type": "execute_result"
    }
   ],
   "source": [
    "img_path"
   ]
  },
  {
   "cell_type": "code",
   "execution_count": 17,
   "metadata": {
    "ExecuteTime": {
     "end_time": "2019-01-23T06:26:50.883044Z",
     "start_time": "2019-01-23T06:26:50.858758Z"
    }
   },
   "outputs": [],
   "source": [
    "def load_image(img_path):    \n",
    "    image = Image.open(img_path).convert('RGB')\n",
    "    in_transform = transforms.Compose([\n",
    "        transforms.Resize(size=(244, 244)),\n",
    "        transforms.ToTensor()])\n",
    "\n",
    "    # discard the transparent, alpha channel (in Style_Transfer_Exercise.ipynb)\n",
    "    image = in_transform(image)[:3,:,:].unsqueeze(0)\n",
    "    return(image)\n",
    "\n",
    "def transfer_predict(img_path):\n",
    "    img = load_image(img_path)\n",
    "    if use_cuda:\n",
    "        img = img.cuda()\n",
    "    ret = model_transfer(img)\n",
    "    return torch.max(ret,1)[1].item()"
   ]
  },
  {
   "cell_type": "raw",
   "metadata": {
    "ExecuteTime": {
     "end_time": "2019-01-23T06:09:56.144366Z",
     "start_time": "2019-01-23T06:09:56.121772Z"
    },
    "collapsed": true
   },
   "source": [
    "# list of class names by index, i.e. a name can be accessed like class_names[0]\n",
    "class_names = [item[4:].replace(\"_\", \" \") for item in data_transfer['train'].classes]"
   ]
  },
  {
   "cell_type": "code",
   "execution_count": 34,
   "metadata": {
    "ExecuteTime": {
     "end_time": "2019-01-23T06:50:23.084378Z",
     "start_time": "2019-01-23T06:50:23.030907Z"
    },
    "scrolled": true
   },
   "outputs": [
    {
     "data": {
      "text/plain": [
       "95"
      ]
     },
     "execution_count": 34,
     "metadata": {},
     "output_type": "execute_result"
    }
   ],
   "source": [
    "transfer_predict(img_path[123])"
   ]
  },
  {
   "cell_type": "code",
   "execution_count": 35,
   "metadata": {
    "ExecuteTime": {
     "end_time": "2019-01-23T06:50:30.496460Z",
     "start_time": "2019-01-23T06:50:30.492710Z"
    }
   },
   "outputs": [
    {
     "data": {
      "text/plain": [
       "'./data/dog_images/test/096.Labrador_retriever/Labrador_retriever_06470.jpg'"
      ]
     },
     "execution_count": 35,
     "metadata": {},
     "output_type": "execute_result"
    }
   ],
   "source": [
    "img_path[123]"
   ]
  },
  {
   "cell_type": "markdown",
   "metadata": {},
   "source": [
    "---\n",
    "<a id='step5'></a>\n",
    "## Step 5: Write your Algorithm\n",
    "\n",
    "Write an algorithm that accepts a file path to an image and first determines whether the image contains a human, dog, or neither.  Then,\n",
    "- if a __dog__ is detected in the image, return the predicted breed.\n",
    "- if a __human__ is detected in the image, return the resembling dog breed.\n",
    "- if __neither__ is detected in the image, provide output that indicates an error.\n",
    "\n",
    "You are welcome to write your own functions for detecting humans and dogs in images, but feel free to use the `face_detector` and `human_detector` functions developed above.  You are __required__ to use your CNN from Step 4 to predict dog breed.  \n",
    "\n",
    "Some sample output for our algorithm is provided below, but feel free to design your own user experience!\n",
    "\n",
    "![Sample Human Output](images/sample_human_output.png)\n",
    "\n",
    "\n",
    "### (IMPLEMENTATION) Write your Algorithm"
   ]
  },
  {
   "cell_type": "code",
   "execution_count": null,
   "metadata": {},
   "outputs": [],
   "source": [
    "### TODO: Write your algorithm.\n",
    "### Feel free to use as many code cells as needed.\n",
    "\n",
    "def run_app(img_path):\n",
    "    ## handle cases for a human face, dog, and neither\n",
    "    "
   ]
  },
  {
   "cell_type": "markdown",
   "metadata": {},
   "source": [
    "---\n",
    "<a id='step6'></a>\n",
    "## Step 6: Test Your Algorithm\n",
    "\n",
    "In this section, you will take your new algorithm for a spin!  What kind of dog does the algorithm think that _you_ look like?  If you have a dog, does it predict your dog's breed accurately?  If you have a cat, does it mistakenly think that your cat is a dog?\n",
    "\n",
    "### (IMPLEMENTATION) Test Your Algorithm on Sample Images!\n",
    "\n",
    "Test your algorithm at least six images on your computer.  Feel free to use any images you like.  Use at least two human and two dog images.  \n",
    "\n",
    "__Question 6:__ Is the output better than you expected :) ?  Or worse :( ?  Provide at least three possible points of improvement for your algorithm."
   ]
  },
  {
   "cell_type": "markdown",
   "metadata": {},
   "source": [
    "__Answer:__ (Three possible points for improvement)"
   ]
  },
  {
   "cell_type": "code",
   "execution_count": null,
   "metadata": {},
   "outputs": [],
   "source": [
    "## TODO: Execute your algorithm from Step 6 on\n",
    "## at least 6 images on your computer.\n",
    "## Feel free to use as many code cells as needed.\n",
    "\n",
    "## suggested code, below\n",
    "for file in np.hstack((human_files[:3], dog_files[:3])):\n",
    "    run_app(file)"
   ]
  }
 ],
 "metadata": {
  "anaconda-cloud": {},
  "kernelspec": {
   "display_name": "Python 3",
   "language": "python",
   "name": "python3"
  },
  "language_info": {
   "codemirror_mode": {
    "name": "ipython",
    "version": 3
   },
   "file_extension": ".py",
   "mimetype": "text/x-python",
   "name": "python",
   "nbconvert_exporter": "python",
   "pygments_lexer": "ipython3",
   "version": "3.6.7"
  },
  "varInspector": {
   "cols": {
    "lenName": 16,
    "lenType": 16,
    "lenVar": 40
   },
   "kernels_config": {
    "python": {
     "delete_cmd_postfix": "",
     "delete_cmd_prefix": "del ",
     "library": "var_list.py",
     "varRefreshCmd": "print(var_dic_list())"
    },
    "r": {
     "delete_cmd_postfix": ") ",
     "delete_cmd_prefix": "rm(",
     "library": "var_list.r",
     "varRefreshCmd": "cat(var_dic_list()) "
    }
   },
   "position": {
    "height": "613px",
    "left": "299px",
    "right": "20px",
    "top": "120px",
    "width": "626px"
   },
   "types_to_exclude": [
    "module",
    "function",
    "builtin_function_or_method",
    "instance",
    "_Feature"
   ],
   "window_display": false
  }
 },
 "nbformat": 4,
 "nbformat_minor": 2
}
